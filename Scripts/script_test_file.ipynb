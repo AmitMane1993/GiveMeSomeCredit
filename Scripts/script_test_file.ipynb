{
 "cells": [
  {
   "cell_type": "code",
   "execution_count": 61,
   "id": "637ac127",
   "metadata": {},
   "outputs": [],
   "source": [
    "import os\n",
    "import requests\n",
    "import configparser\n",
    "from data_transform import dataPreparation\n",
    "import flask,pickle,pandas,sklearn"
   ]
  },
  {
   "cell_type": "code",
   "execution_count": 62,
   "id": "adf20326",
   "metadata": {},
   "outputs": [
    {
     "data": {
      "text/plain": [
       "'1.0.2'"
      ]
     },
     "execution_count": 62,
     "metadata": {},
     "output_type": "execute_result"
    }
   ],
   "source": [
    "sklearn.__version__"
   ]
  },
  {
   "cell_type": "code",
   "execution_count": 5,
   "id": "aa529b69",
   "metadata": {},
   "outputs": [
    {
     "data": {
      "text/plain": [
       "'C:\\\\Users\\\\meet9\\\\Downloads\\\\Deployment Practise\\\\Project\\\\GiveMeSomeCredit\\\\Scripts'"
      ]
     },
     "execution_count": 5,
     "metadata": {},
     "output_type": "execute_result"
    }
   ],
   "source": [
    "os.getcwd()"
   ]
  },
  {
   "cell_type": "code",
   "execution_count": 6,
   "id": "334bc4cf",
   "metadata": {},
   "outputs": [],
   "source": [
    "#os.chdir(r'..\\\\')"
   ]
  },
  {
   "cell_type": "code",
   "execution_count": null,
   "id": "815caf1d",
   "metadata": {},
   "outputs": [],
   "source": [
    "os.getcwd()"
   ]
  },
  {
   "cell_type": "code",
   "execution_count": 8,
   "id": "fe35e3ca",
   "metadata": {},
   "outputs": [
    {
     "data": {
      "text/plain": [
       "['../Config/config.ini']"
      ]
     },
     "execution_count": 8,
     "metadata": {},
     "output_type": "execute_result"
    }
   ],
   "source": [
    "config = configparser.ConfigParser()\n",
    "config.read(r'../Config/config.ini')"
   ]
  },
  {
   "cell_type": "code",
   "execution_count": 6,
   "id": "07540fdd",
   "metadata": {},
   "outputs": [],
   "source": [
    "import pandas as pd\n",
    "import pickle"
   ]
  },
  {
   "cell_type": "code",
   "execution_count": 35,
   "id": "cef296d4",
   "metadata": {},
   "outputs": [],
   "source": [
    "input_val = {'RevolvingUtilizationOfUnsecuredLines':0.5, \n",
    "             'NumberOfTime30-59DaysPastDueNotWorse':1,\n",
    "             'NumberOfTime60-89DaysPastDueNotWorse':0,\n",
    "             'NumberOfTimes90DaysLate':0,\n",
    "             'age':3,\n",
    "             'MonthlyIncome':10120.0, \n",
    "             'DebtRatio':0.2982, \n",
    "             'NumberOfDependents':1.0,\n",
    "             'NumberRealEstateLoansOrLines':2, \n",
    "             'NumberOfOpenCreditLinesAndLoans':15}"
   ]
  },
  {
   "cell_type": "code",
   "execution_count": 36,
   "id": "7fa25781",
   "metadata": {
    "scrolled": true
   },
   "outputs": [
    {
     "data": {
      "text/html": [
       "<div>\n",
       "<style scoped>\n",
       "    .dataframe tbody tr th:only-of-type {\n",
       "        vertical-align: middle;\n",
       "    }\n",
       "\n",
       "    .dataframe tbody tr th {\n",
       "        vertical-align: top;\n",
       "    }\n",
       "\n",
       "    .dataframe thead th {\n",
       "        text-align: right;\n",
       "    }\n",
       "</style>\n",
       "<table border=\"1\" class=\"dataframe\">\n",
       "  <thead>\n",
       "    <tr style=\"text-align: right;\">\n",
       "      <th></th>\n",
       "      <th>RevolvingUtilizationOfUnsecuredLines</th>\n",
       "      <th>NumberOfTime30-59DaysPastDueNotWorse</th>\n",
       "      <th>NumberOfTime60-89DaysPastDueNotWorse</th>\n",
       "      <th>NumberOfTimes90DaysLate</th>\n",
       "      <th>age</th>\n",
       "      <th>MonthlyIncome</th>\n",
       "      <th>DebtRatio</th>\n",
       "      <th>NumberOfDependents</th>\n",
       "      <th>NumberRealEstateLoansOrLines</th>\n",
       "      <th>NumberOfOpenCreditLinesAndLoans</th>\n",
       "    </tr>\n",
       "  </thead>\n",
       "  <tbody>\n",
       "    <tr>\n",
       "      <th>0</th>\n",
       "      <td>0.5</td>\n",
       "      <td>1</td>\n",
       "      <td>0</td>\n",
       "      <td>0</td>\n",
       "      <td>3</td>\n",
       "      <td>10120.0</td>\n",
       "      <td>0.2982</td>\n",
       "      <td>1.0</td>\n",
       "      <td>2</td>\n",
       "      <td>15</td>\n",
       "    </tr>\n",
       "  </tbody>\n",
       "</table>\n",
       "</div>"
      ],
      "text/plain": [
       "   RevolvingUtilizationOfUnsecuredLines  NumberOfTime30-59DaysPastDueNotWorse  \\\n",
       "0                                   0.5                                     1   \n",
       "\n",
       "   NumberOfTime60-89DaysPastDueNotWorse  NumberOfTimes90DaysLate  age  \\\n",
       "0                                     0                        0    3   \n",
       "\n",
       "   MonthlyIncome  DebtRatio  NumberOfDependents  NumberRealEstateLoansOrLines  \\\n",
       "0        10120.0     0.2982                 1.0                             2   \n",
       "\n",
       "   NumberOfOpenCreditLinesAndLoans  \n",
       "0                               15  "
      ]
     },
     "execution_count": 36,
     "metadata": {},
     "output_type": "execute_result"
    }
   ],
   "source": [
    "dt = pd.DataFrame(input_val,index=range(1))\n",
    "dt"
   ]
  },
  {
   "cell_type": "code",
   "execution_count": 37,
   "id": "4bc4eb66",
   "metadata": {},
   "outputs": [],
   "source": [
    "url = 'http://127.0.0.1:8080/predict'"
   ]
  },
  {
   "cell_type": "code",
   "execution_count": 38,
   "id": "150d22e1",
   "metadata": {},
   "outputs": [],
   "source": [
    "response = requests.post(url, json=input_val)"
   ]
  },
  {
   "cell_type": "code",
   "execution_count": 39,
   "id": "003486f8",
   "metadata": {
    "scrolled": false
   },
   "outputs": [
    {
     "data": {
      "text/plain": [
       "<Response [200]>"
      ]
     },
     "execution_count": 39,
     "metadata": {},
     "output_type": "execute_result"
    }
   ],
   "source": [
    "response"
   ]
  },
  {
   "cell_type": "code",
   "execution_count": 40,
   "id": "a68bbc70",
   "metadata": {},
   "outputs": [
    {
     "name": "stdout",
     "output_type": "stream",
     "text": [
      "The user is not going to be default and will continue the service\n"
     ]
    }
   ],
   "source": [
    "print(response.json()['Result'])"
   ]
  },
  {
   "cell_type": "code",
   "execution_count": 27,
   "id": "7a805915",
   "metadata": {},
   "outputs": [],
   "source": [
    "arr = [[1.000e+00, 4.000e-01, '33', 1.012e+04, 2.982e-03, 1.000e+00,\n",
    "        2.000e+00, 1.500e+01]]"
   ]
  },
  {
   "cell_type": "code",
   "execution_count": 28,
   "id": "24ac65ec",
   "metadata": {},
   "outputs": [],
   "source": [
    "data = pd.DataFrame(arr,columns = ['RevolvingUtilizationOfUnsecuredLines', 'Weighted_Delay_sum', 'age_cat',\n",
    "       'MonthlyIncome', 'DebtRatio', 'NumberOfDependentsTR',\n",
    "       'NumberRealEstateLoansOrLinesTR', 'NumberOfOpenCreditLinesAndLoansTR'])"
   ]
  }
 ],
 "metadata": {
  "kernelspec": {
   "display_name": "Python 3 (ipykernel)",
   "language": "python",
   "name": "python3"
  },
  "language_info": {
   "codemirror_mode": {
    "name": "ipython",
    "version": 3
   },
   "file_extension": ".py",
   "mimetype": "text/x-python",
   "name": "python",
   "nbconvert_exporter": "python",
   "pygments_lexer": "ipython3",
   "version": "3.9.12"
  }
 },
 "nbformat": 4,
 "nbformat_minor": 5
}
