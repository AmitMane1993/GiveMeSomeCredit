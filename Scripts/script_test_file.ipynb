{
 "cells": [
  {
   "cell_type": "code",
   "execution_count": 40,
   "id": "637ac127",
   "metadata": {},
   "outputs": [],
   "source": [
    "import os\n",
    "import requests\n",
    "import configparser\n",
    "import flask,pickle,sklearn,json\n",
    "import pandas as pd"
   ]
  },
  {
   "cell_type": "code",
   "execution_count": 41,
   "id": "aa529b69",
   "metadata": {},
   "outputs": [
    {
     "data": {
      "text/plain": [
       "'C:\\\\Users\\\\meet9\\\\Downloads\\\\Deployment Practise\\\\Project\\\\GiveMeSomeCredit\\\\Scripts'"
      ]
     },
     "execution_count": 41,
     "metadata": {},
     "output_type": "execute_result"
    }
   ],
   "source": [
    "os.getcwd()"
   ]
  },
  {
   "cell_type": "code",
   "execution_count": 42,
   "id": "334bc4cf",
   "metadata": {},
   "outputs": [],
   "source": [
    "#os.chdir(r'..\\\\')"
   ]
  },
  {
   "cell_type": "code",
   "execution_count": 43,
   "id": "fe35e3ca",
   "metadata": {},
   "outputs": [
    {
     "data": {
      "text/plain": [
       "['../Config/config.ini']"
      ]
     },
     "execution_count": 43,
     "metadata": {},
     "output_type": "execute_result"
    }
   ],
   "source": [
    "config = configparser.ConfigParser()\n",
    "config.read(r'../Config/config.ini')"
   ]
  },
  {
   "cell_type": "code",
   "execution_count": 44,
   "id": "2654eac3",
   "metadata": {
    "scrolled": true
   },
   "outputs": [
    {
     "data": {
      "text/plain": [
       "['RevolvingUtilizationOfUnsecuredLines',\n",
       " 'NumberOfTime30-59DaysPastDueNotWorse',\n",
       " 'NumberOfTime60-89DaysPastDueNotWorse',\n",
       " 'NumberOfTimes90DaysLate',\n",
       " 'age',\n",
       " 'MonthlyIncome',\n",
       " 'DebtRatio',\n",
       " 'NumberOfDependents',\n",
       " 'NumberRealEstateLoansOrLines',\n",
       " 'NumberOfOpenCreditLinesAndLoans']"
      ]
     },
     "execution_count": 44,
     "metadata": {},
     "output_type": "execute_result"
    }
   ],
   "source": [
    "json.loads(config.get(\"Variables\",\"var_list\"))"
   ]
  },
  {
   "cell_type": "code",
   "execution_count": 45,
   "id": "6a70b783",
   "metadata": {},
   "outputs": [
    {
     "data": {
      "text/plain": [
       "'The user is not going to be default and will continue the service'"
      ]
     },
     "execution_count": 45,
     "metadata": {},
     "output_type": "execute_result"
    }
   ],
   "source": [
    "config['Output_message']['pos']"
   ]
  },
  {
   "cell_type": "code",
   "execution_count": null,
   "id": "cef296d4",
   "metadata": {},
   "outputs": [],
   "source": [
    "input_val = {'RevolvingUtilizationOfUnsecuredLines':0.5, \n",
    "             'NumberOfTime30-59DaysPastDueNotWorse':1,\n",
    "             'NumberOfTime60-89DaysPastDueNotWorse':0,\n",
    "             'NumberOfTimes90DaysLate':0,\n",
    "             'age':3,\n",
    "             'MonthlyIncome':10120.0, \n",
    "             'DebtRatio':0.2982, \n",
    "             'NumberOfDependents':1.0,\n",
    "             'NumberRealEstateLoansOrLines':2, \n",
    "             'NumberOfOpenCreditLinesAndLoans':15}"
   ]
  },
  {
   "cell_type": "code",
   "execution_count": null,
   "id": "7fa25781",
   "metadata": {
    "scrolled": true
   },
   "outputs": [],
   "source": [
    "dt = pd.DataFrame(input_val,index=range(1))\n",
    "dt"
   ]
  },
  {
   "cell_type": "code",
   "execution_count": null,
   "id": "4bc4eb66",
   "metadata": {},
   "outputs": [],
   "source": [
    "#url = 'http://192.68.31.26:8080/predict'"
   ]
  },
  {
   "cell_type": "code",
   "execution_count": null,
   "id": "150d22e1",
   "metadata": {},
   "outputs": [],
   "source": [
    "#response = requests.post(url, json=input_val)"
   ]
  },
  {
   "cell_type": "code",
   "execution_count": null,
   "id": "003486f8",
   "metadata": {
    "scrolled": false
   },
   "outputs": [],
   "source": [
    "#response"
   ]
  },
  {
   "cell_type": "code",
   "execution_count": null,
   "id": "a68bbc70",
   "metadata": {},
   "outputs": [],
   "source": [
    "#print(response.json()['Result'])"
   ]
  },
  {
   "cell_type": "code",
   "execution_count": null,
   "id": "7a805915",
   "metadata": {},
   "outputs": [],
   "source": [
    "arr = [[0.05,1,1,2,30,23000,0.5,5,1,1]]"
   ]
  },
  {
   "cell_type": "code",
   "execution_count": null,
   "id": "24ac65ec",
   "metadata": {},
   "outputs": [],
   "source": [
    "data = pd.DataFrame(arr,columns = config['Variables']['var_list'])"
   ]
  },
  {
   "cell_type": "code",
   "execution_count": null,
   "id": "b9754d65",
   "metadata": {},
   "outputs": [],
   "source": [
    "data"
   ]
  },
  {
   "cell_type": "code",
   "execution_count": null,
   "id": "29e93a6a",
   "metadata": {},
   "outputs": [],
   "source": [
    "from sklearn.base import BaseEstimator, TransformerMixin\n",
    "from data_transform import *"
   ]
  },
  {
   "cell_type": "code",
   "execution_count": null,
   "id": "b1e9845d",
   "metadata": {},
   "outputs": [],
   "source": [
    "class Data_Preparation(BaseEstimator,TransformerMixin):\n",
    "    def __init__(self):        \n",
    "        self.interval = (0,18, 25, 35, 60, 110)\n",
    "        self.cats = [0,1,2,3,4]    \n",
    "        \n",
    "    def fit(self,X):\n",
    "        return self\n",
    "    \n",
    "    def transform(self,X):\n",
    "        X=X.copy()\n",
    "        \n",
    "        Delay_param = [\"NumberOfTime30-59DaysPastDueNotWorse\",\n",
    "               \"NumberOfTime60-89DaysPastDueNotWorse\",\n",
    "               \"NumberOfTimes90DaysLate\"]\n",
    "        \n",
    "        X['Weighted_Delay_sum'] = X[Delay_param[0]].values[0]*0.1+\\\n",
    "                                 X[Delay_param[1]].values[0]*0.3+\\\n",
    "                                 X[Delay_param[2]].values[0]*0.6\n",
    "        \n",
    "        X['age_cat'] = pd.cut([X.age.values[0]], self.interval, labels=self.cats)\n",
    "        \n",
    "        X['NumberOfDependentsTR'] = X['NumberOfDependents']\n",
    "        X.loc[X.NumberOfDependentsTR>=7,'NumberOfDependentsTR'] = 7\n",
    "\n",
    "        X['NumberRealEstateLoansOrLinesTR'] = X['NumberRealEstateLoansOrLines']\n",
    "        X.loc[X.NumberRealEstateLoansOrLinesTR>=11,'NumberRealEstateLoansOrLinesTR'] = 11\n",
    "\n",
    "        X['NumberOfOpenCreditLinesAndLoansTR'] = X['NumberOfOpenCreditLinesAndLoans']\n",
    "        X.loc[X.NumberOfOpenCreditLinesAndLoansTR>=25,'NumberOfOpenCreditLinesAndLoansTR'] = 25\n",
    "        \n",
    "        transformed_feature = ['RevolvingUtilizationOfUnsecuredLines',\n",
    "                           'Weighted_Delay_sum', \n",
    "                           'age_cat',\n",
    "                           'MonthlyIncome', \n",
    "                           'DebtRatio', \n",
    "                           'NumberOfDependentsTR',\n",
    "                           'NumberRealEstateLoansOrLinesTR', \n",
    "                           'NumberOfOpenCreditLinesAndLoansTR']\n",
    "                \n",
    "        return X[transformed_feature]"
   ]
  },
  {
   "cell_type": "code",
   "execution_count": null,
   "id": "7d117805",
   "metadata": {},
   "outputs": [],
   "source": [
    "dc = Data_Preparation()"
   ]
  },
  {
   "cell_type": "code",
   "execution_count": null,
   "id": "edff211d",
   "metadata": {},
   "outputs": [],
   "source": [
    "dc.fit_transform(data)"
   ]
  },
  {
   "cell_type": "code",
   "execution_count": null,
   "id": "aafb96e4",
   "metadata": {},
   "outputs": [],
   "source": []
  }
 ],
 "metadata": {
  "kernelspec": {
   "display_name": "Python 3 (ipykernel)",
   "language": "python",
   "name": "python3"
  },
  "language_info": {
   "codemirror_mode": {
    "name": "ipython",
    "version": 3
   },
   "file_extension": ".py",
   "mimetype": "text/x-python",
   "name": "python",
   "nbconvert_exporter": "python",
   "pygments_lexer": "ipython3",
   "version": "3.9.12"
  }
 },
 "nbformat": 4,
 "nbformat_minor": 5
}
