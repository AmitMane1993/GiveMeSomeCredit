{
 "cells": [
  {
   "cell_type": "code",
   "execution_count": 1,
   "id": "d76ebafe",
   "metadata": {},
   "outputs": [],
   "source": [
    "import pandas as pd\n",
    "import numpy as np\n",
    "import matplotlib.pyplot as plt\n",
    "import seaborn as sns\n",
    "# for the yeo-johnson transformation\n",
    "import scipy.stats as stats\n",
    "import configparser\n",
    "import klib\n",
    "\n",
    "import warnings\n",
    "warnings.filterwarnings('ignore')"
   ]
  },
  {
   "cell_type": "code",
   "execution_count": 2,
   "id": "4d52ffb5",
   "metadata": {},
   "outputs": [],
   "source": [
    "from Adjuct_Memory import memoryManager"
   ]
  },
  {
   "cell_type": "code",
   "execution_count": 3,
   "id": "47942453",
   "metadata": {},
   "outputs": [
    {
     "data": {
      "text/plain": [
       "['config.ini']"
      ]
     },
     "execution_count": 3,
     "metadata": {},
     "output_type": "execute_result"
    }
   ],
   "source": [
    "config = configparser.ConfigParser()\n",
    "config.read('config.ini')"
   ]
  },
  {
   "cell_type": "markdown",
   "id": "980113ca",
   "metadata": {},
   "source": [
    "| Variable Name\t| Description\t| Type\n",
    "| ---\t| ---\t| ---\n",
    "|SeriousDlqin2yrs|\tPerson experienced 90 days past due delinquency or worse \t|Y/N\n",
    "RevolvingUtilizationOfUnsecuredLines|\tTotal balance on credit cards and personal lines of credit except real estate and no installment debt like car loans divided by the sum of credit limits|\tpercentage\n",
    "age|\tAge of borrower in years\t|integer\n",
    "NumberOfTime30-59DaysPastDueNotWorse\t|Number of times borrower has been 30-59 days past due but no worse in the last 2 years.\t|integer\n",
    "DebtRatio|\tMonthly debt payments, alimony,living costs divided by monthy gross income\t|percentage\n",
    "MonthlyIncome|\tMonthly income\t|real\n",
    "NumberOfOpenCreditLinesAndLoans\t|Number of Open loans (installment like car loan or mortgage) and Lines of credit (e.g. credit cards)|\tinteger\n",
    "NumberOfTimes90DaysLate|\tNumber of times borrower has been 90 days or more past due.|\tinteger\n",
    "NumberRealEstateLoansOrLines\t|Number of mortgage and real estate loans including home equity lines of credit\t|integer\n",
    "NumberOfTime60-89DaysPastDueNotWorse|\tNumber of times borrower has been 60-89 days past due but no worse in the last 2 years.\t|integer\n",
    "NumberOfDependents\t|Number of dependents in family excluding themselves (spouse, children etc.)|\tinteger\n"
   ]
  },
  {
   "cell_type": "code",
   "execution_count": 4,
   "id": "9c79cec1",
   "metadata": {
    "scrolled": true
   },
   "outputs": [
    {
     "data": {
      "text/html": [
       "<div>\n",
       "<style scoped>\n",
       "    .dataframe tbody tr th:only-of-type {\n",
       "        vertical-align: middle;\n",
       "    }\n",
       "\n",
       "    .dataframe tbody tr th {\n",
       "        vertical-align: top;\n",
       "    }\n",
       "\n",
       "    .dataframe thead th {\n",
       "        text-align: right;\n",
       "    }\n",
       "</style>\n",
       "<table border=\"1\" class=\"dataframe\">\n",
       "  <thead>\n",
       "    <tr style=\"text-align: right;\">\n",
       "      <th></th>\n",
       "      <th>Unnamed: 0</th>\n",
       "      <th>SeriousDlqin2yrs</th>\n",
       "      <th>RevolvingUtilizationOfUnsecuredLines</th>\n",
       "      <th>age</th>\n",
       "      <th>NumberOfTime30-59DaysPastDueNotWorse</th>\n",
       "      <th>DebtRatio</th>\n",
       "      <th>MonthlyIncome</th>\n",
       "      <th>NumberOfOpenCreditLinesAndLoans</th>\n",
       "      <th>NumberOfTimes90DaysLate</th>\n",
       "      <th>NumberRealEstateLoansOrLines</th>\n",
       "      <th>NumberOfTime60-89DaysPastDueNotWorse</th>\n",
       "      <th>NumberOfDependents</th>\n",
       "    </tr>\n",
       "  </thead>\n",
       "  <tbody>\n",
       "    <tr>\n",
       "      <th>0</th>\n",
       "      <td>1</td>\n",
       "      <td>1</td>\n",
       "      <td>0.766127</td>\n",
       "      <td>45</td>\n",
       "      <td>2</td>\n",
       "      <td>0.802982</td>\n",
       "      <td>9120.0</td>\n",
       "      <td>13</td>\n",
       "      <td>0</td>\n",
       "      <td>6</td>\n",
       "      <td>0</td>\n",
       "      <td>2.0</td>\n",
       "    </tr>\n",
       "    <tr>\n",
       "      <th>1</th>\n",
       "      <td>2</td>\n",
       "      <td>0</td>\n",
       "      <td>0.957151</td>\n",
       "      <td>40</td>\n",
       "      <td>0</td>\n",
       "      <td>0.121876</td>\n",
       "      <td>2600.0</td>\n",
       "      <td>4</td>\n",
       "      <td>0</td>\n",
       "      <td>0</td>\n",
       "      <td>0</td>\n",
       "      <td>1.0</td>\n",
       "    </tr>\n",
       "    <tr>\n",
       "      <th>2</th>\n",
       "      <td>3</td>\n",
       "      <td>0</td>\n",
       "      <td>0.658180</td>\n",
       "      <td>38</td>\n",
       "      <td>1</td>\n",
       "      <td>0.085113</td>\n",
       "      <td>3042.0</td>\n",
       "      <td>2</td>\n",
       "      <td>1</td>\n",
       "      <td>0</td>\n",
       "      <td>0</td>\n",
       "      <td>0.0</td>\n",
       "    </tr>\n",
       "    <tr>\n",
       "      <th>3</th>\n",
       "      <td>4</td>\n",
       "      <td>0</td>\n",
       "      <td>0.233810</td>\n",
       "      <td>30</td>\n",
       "      <td>0</td>\n",
       "      <td>0.036050</td>\n",
       "      <td>3300.0</td>\n",
       "      <td>5</td>\n",
       "      <td>0</td>\n",
       "      <td>0</td>\n",
       "      <td>0</td>\n",
       "      <td>0.0</td>\n",
       "    </tr>\n",
       "    <tr>\n",
       "      <th>4</th>\n",
       "      <td>5</td>\n",
       "      <td>0</td>\n",
       "      <td>0.907239</td>\n",
       "      <td>49</td>\n",
       "      <td>1</td>\n",
       "      <td>0.024926</td>\n",
       "      <td>63588.0</td>\n",
       "      <td>7</td>\n",
       "      <td>0</td>\n",
       "      <td>1</td>\n",
       "      <td>0</td>\n",
       "      <td>0.0</td>\n",
       "    </tr>\n",
       "  </tbody>\n",
       "</table>\n",
       "</div>"
      ],
      "text/plain": [
       "   Unnamed: 0  SeriousDlqin2yrs  RevolvingUtilizationOfUnsecuredLines  age  \\\n",
       "0           1                 1                              0.766127   45   \n",
       "1           2                 0                              0.957151   40   \n",
       "2           3                 0                              0.658180   38   \n",
       "3           4                 0                              0.233810   30   \n",
       "4           5                 0                              0.907239   49   \n",
       "\n",
       "   NumberOfTime30-59DaysPastDueNotWorse  DebtRatio  MonthlyIncome  \\\n",
       "0                                     2   0.802982         9120.0   \n",
       "1                                     0   0.121876         2600.0   \n",
       "2                                     1   0.085113         3042.0   \n",
       "3                                     0   0.036050         3300.0   \n",
       "4                                     1   0.024926        63588.0   \n",
       "\n",
       "   NumberOfOpenCreditLinesAndLoans  NumberOfTimes90DaysLate  \\\n",
       "0                               13                        0   \n",
       "1                                4                        0   \n",
       "2                                2                        1   \n",
       "3                                5                        0   \n",
       "4                                7                        0   \n",
       "\n",
       "   NumberRealEstateLoansOrLines  NumberOfTime60-89DaysPastDueNotWorse  \\\n",
       "0                             6                                     0   \n",
       "1                             0                                     0   \n",
       "2                             0                                     0   \n",
       "3                             0                                     0   \n",
       "4                             1                                     0   \n",
       "\n",
       "   NumberOfDependents  \n",
       "0                 2.0  \n",
       "1                 1.0  \n",
       "2                 0.0  \n",
       "3                 0.0  \n",
       "4                 0.0  "
      ]
     },
     "execution_count": 4,
     "metadata": {},
     "output_type": "execute_result"
    }
   ],
   "source": [
    "# load dataset\n",
    "data = pd.read_csv(config['Training_Data']['file_path'] +'\\\\'+ config['Training_Data']['file_name'])\n",
    "data_t = pd.read_csv(config['Testing_Data']['file_path'] +'\\\\'+ config['Testing_Data']['file_name'])\n",
    "data.head()"
   ]
  },
  {
   "cell_type": "code",
   "execution_count": 5,
   "id": "38fe7ff1",
   "metadata": {},
   "outputs": [
    {
     "data": {
      "text/plain": [
       "((150000, 11), (101503, 11))"
      ]
     },
     "execution_count": 5,
     "metadata": {},
     "output_type": "execute_result"
    }
   ],
   "source": [
    "# drop id, it is just a number given to identify each house\n",
    "data.drop(['Unnamed: 0'], axis=1, inplace=True)\n",
    "data_t.drop(['Unnamed: 0'], axis=1, inplace=True)\n",
    "data.shape,data_t.shape"
   ]
  },
  {
   "cell_type": "code",
   "execution_count": 6,
   "id": "c3832f6c",
   "metadata": {},
   "outputs": [
    {
     "name": "stdout",
     "output_type": "stream",
     "text": [
      "Memory usage of dataframe is 12.59 MB\n",
      "Memory usage after optimization is: 2.72 MB\n",
      "Decreased by 78.4%\n",
      "Memory usage of dataframe is 8.52 MB\n",
      "Memory usage after optimization is: 2.52 MB\n",
      "Decreased by 70.5%\n"
     ]
    }
   ],
   "source": [
    "train_data = memoryManager.reduce_mem_usage(data)\n",
    "test_data = memoryManager.reduce_mem_usage(data_t)"
   ]
  },
  {
   "cell_type": "code",
   "execution_count": 7,
   "id": "ae68d262",
   "metadata": {},
   "outputs": [],
   "source": [
    "transformed_data = train_data.copy()"
   ]
  },
  {
   "cell_type": "code",
   "execution_count": 8,
   "id": "7b63e170",
   "metadata": {},
   "outputs": [],
   "source": [
    "from Preprocessing import Data_Preprocessing"
   ]
  },
  {
   "cell_type": "code",
   "execution_count": null,
   "id": "88cced6c",
   "metadata": {},
   "outputs": [],
   "source": [
    "# countplot to evaluate target distribution # SeriousDlqin2yrs\n",
    "sns.countplot(train_data['SeriousDlqin2yrs'])\n",
    "plt.ylabel('Count of SeriousDlqin2yrs')\n",
    "plt.xlabel('SeriousDlqin2yrs')\n",
    "plt.show()"
   ]
  },
  {
   "cell_type": "code",
   "execution_count": null,
   "id": "71f4e7b0",
   "metadata": {},
   "outputs": [],
   "source": [
    "(len(train_data[train_data.SeriousDlqin2yrs==1])/len(train_data))*100"
   ]
  },
  {
   "cell_type": "code",
   "execution_count": null,
   "id": "51f7d7e4",
   "metadata": {},
   "outputs": [],
   "source": [
    "train_data.isna().sum()"
   ]
  },
  {
   "cell_type": "markdown",
   "id": "82604e82",
   "metadata": {},
   "source": [
    "> - MonthlyIncome and NumberOfDependents having null values"
   ]
  },
  {
   "cell_type": "code",
   "execution_count": null,
   "id": "675532ba",
   "metadata": {},
   "outputs": [],
   "source": [
    "train_data.describe().T"
   ]
  },
  {
   "cell_type": "markdown",
   "id": "38771acf",
   "metadata": {},
   "source": [
    "> - Except Age all other independent parameters are highly skewed"
   ]
  },
  {
   "cell_type": "code",
   "execution_count": null,
   "id": "8350054f",
   "metadata": {},
   "outputs": [],
   "source": [
    "Target = ['SeriousDlqin2yrs']\n",
    "\n",
    "Percentage = ['RevolvingUtilizationOfUnsecuredLines','DebtRatio']\n",
    "\n",
    "Real = ['MonthlyIncome']\n",
    "\n",
    "Numeric_Param = [\"NumberOfDependents\",\n",
    "                 \"NumberRealEstateLoansOrLines\",\n",
    "                 \"NumberOfOpenCreditLinesAndLoans\",\n",
    "                 \"age\"]\n",
    "\n",
    "Delay_param = [\"NumberOfTime30-59DaysPastDueNotWorse\",\n",
    "               \"NumberOfTime60-89DaysPastDueNotWorse\",\n",
    "               \"NumberOfTimes90DaysLate\"]"
   ]
  },
  {
   "cell_type": "code",
   "execution_count": null,
   "id": "3641dce2",
   "metadata": {},
   "outputs": [],
   "source": [
    "plt.figure(figsize = (20,7))\n",
    "corr= train_data.corr()\n",
    "matrix = np.triu(corr)\n",
    "sns.heatmap(train_data.corr(),annot=True, cmap=\"Greens\") #, mask=matrix)"
   ]
  },
  {
   "cell_type": "code",
   "execution_count": null,
   "id": "e22efc10",
   "metadata": {},
   "outputs": [],
   "source": [
    "train_data[Delay_param][train_data[Delay_param].apply(lambda x: min(x) != max(x), 1)]['NumberOfTime30-59DaysPastDueNotWorse'].value_counts()"
   ]
  },
  {
   "cell_type": "code",
   "execution_count": null,
   "id": "55afc2f4",
   "metadata": {},
   "outputs": [],
   "source": [
    "train_data[Delay_param[2]].value_counts()"
   ]
  },
  {
   "cell_type": "code",
   "execution_count": null,
   "id": "e3f4467e",
   "metadata": {},
   "outputs": [],
   "source": [
    "pd.DataFrame([train_data[Delay_param[0]].value_counts(),train_data[Delay_param[1]].value_counts(),train_data[Delay_param[2]].value_counts()]).T"
   ]
  },
  {
   "cell_type": "code",
   "execution_count": null,
   "id": "02f92bc2",
   "metadata": {},
   "outputs": [],
   "source": [
    "transformed_data.loc[transformed_data[Delay_param[0]].isin([96,98]),Delay_param[0]] = 0\n",
    "transformed_data.loc[transformed_data[Delay_param[0]].isin([96,98]),Delay_param[1]] = 0\n",
    "transformed_data.loc[transformed_data[Delay_param[0]].isin([96,98]),Delay_param[1]] = 0"
   ]
  },
  {
   "cell_type": "code",
   "execution_count": null,
   "id": "807f8895",
   "metadata": {},
   "outputs": [],
   "source": [
    "test_data.loc[test_data[Delay_param[0]].isin([96,98]),Delay_param[0]] = 0\n",
    "test_data.loc[test_data[Delay_param[0]].isin([96,98]),Delay_param[1]] = 0\n",
    "test_data.loc[test_data[Delay_param[0]].isin([96,98]),Delay_param[1]] = 0"
   ]
  },
  {
   "cell_type": "code",
   "execution_count": null,
   "id": "6cf89b34",
   "metadata": {},
   "outputs": [],
   "source": [
    "transformed_data[transformed_data[Delay_param[0]].isin([96,98])]"
   ]
  },
  {
   "cell_type": "code",
   "execution_count": null,
   "id": "51c8bc84",
   "metadata": {},
   "outputs": [],
   "source": [
    "96*0.2+96*0.3+96*0.5"
   ]
  },
  {
   "cell_type": "code",
   "execution_count": null,
   "id": "fe9eafcd",
   "metadata": {},
   "outputs": [],
   "source": [
    "transformed_data['Weighted_Delay_sum'] = transformed_data[Delay_param[0]]*0.2+\\\n",
    "                                         transformed_data[Delay_param[1]]*0.3+\\\n",
    "                                         transformed_data[Delay_param[2]]*0.5"
   ]
  },
  {
   "cell_type": "code",
   "execution_count": null,
   "id": "d0236841",
   "metadata": {},
   "outputs": [],
   "source": [
    "test_data['Weighted_Delay_sum'] = test_data[Delay_param[0]]*0.2+\\\n",
    "                                         test_data[Delay_param[1]]*0.3+\\\n",
    "                                         test_data[Delay_param[2]]*0.5"
   ]
  },
  {
   "cell_type": "code",
   "execution_count": null,
   "id": "5b13db25",
   "metadata": {},
   "outputs": [],
   "source": [
    "#transformed_data.reset_index(inplace=True)"
   ]
  },
  {
   "cell_type": "code",
   "execution_count": null,
   "id": "af68140e",
   "metadata": {},
   "outputs": [],
   "source": [
    "#transformed_data.drop(Delay_param,axis=1,inplace=True)"
   ]
  },
  {
   "cell_type": "code",
   "execution_count": null,
   "id": "ee2df3be",
   "metadata": {},
   "outputs": [],
   "source": [
    "plt.rcParams[\"figure.figsize\"] = [15.00, 3.50]\n",
    "plt.rcParams[\"figure.autolayout\"] = True\n",
    "fig, ax = plt.subplots(1, 2)\n",
    "sns.distplot(transformed_data.loc[transformed_data.SeriousDlqin2yrs==0,'Weighted_Delay_sum'], ax=ax[0])\n",
    "sns.distplot(transformed_data.loc[transformed_data.SeriousDlqin2yrs==1,'Weighted_Delay_sum'], ax=ax[1],color='r')\n",
    "plt.show()"
   ]
  },
  {
   "cell_type": "code",
   "execution_count": null,
   "id": "867bf05d",
   "metadata": {},
   "outputs": [],
   "source": [
    "sns.barplot(x='SeriousDlqin2yrs',y='Weighted_Delay_sum',data=transformed_data)"
   ]
  },
  {
   "cell_type": "code",
   "execution_count": null,
   "id": "a704be0c",
   "metadata": {},
   "outputs": [],
   "source": [
    "#seaborn.barplot(x=df.reputation.value_counts().index, y=df.reputation.value_counts())"
   ]
  },
  {
   "cell_type": "code",
   "execution_count": null,
   "id": "5d1d61d3",
   "metadata": {},
   "outputs": [],
   "source": [
    "# fig, axs = plt.subplots(nrows=5, ncols=3, figsize=(15, 15))\n",
    "# plt.subplots_adjust(hspace=0.5)\n",
    "\n",
    "# # loop through tickers and axes\n",
    "# for ticker, ax in zip(day_30, axs.ravel()):\n",
    "#     sns.barplot(ax=ax,x=train_data.groupby('NumberOfTime30-59DaysPastDueNotWorse').get_group(ticker)['SeriousDlqin2yrs'].value_counts().index, y=train_data.groupby('NumberOfTime30-59DaysPastDueNotWorse').get_group(ticker)['SeriousDlqin2yrs'].value_counts())\n",
    "#     ax.set_title(str(ticker)+\" time\")\n",
    "\n",
    "# plt.show()"
   ]
  },
  {
   "cell_type": "code",
   "execution_count": null,
   "id": "ca5a5705",
   "metadata": {},
   "outputs": [],
   "source": [
    "# fig, axs = plt.subplots(nrows=4, ncols=3, figsize=(15, 15))\n",
    "# plt.subplots_adjust(hspace=0.5)\n",
    "\n",
    "# # loop through tickers and axes\n",
    "# for ticker, ax in zip(day_60, axs.ravel()):\n",
    "#     sns.barplot(ax=ax,x=train_data.groupby('NumberOfTime60-89DaysPastDueNotWorse').get_group(ticker)['SeriousDlqin2yrs'].value_counts().index, y=train_data.groupby('NumberOfTime60-89DaysPastDueNotWorse').get_group(ticker)['SeriousDlqin2yrs'].value_counts())\n",
    "#     ax.set_title(str(ticker)+\" time\")\n",
    "\n",
    "# plt.show()"
   ]
  },
  {
   "cell_type": "code",
   "execution_count": null,
   "id": "5fda4033",
   "metadata": {},
   "outputs": [],
   "source": [
    "# fig, axs = plt.subplots(nrows=4, ncols=4, figsize=(20, 15))\n",
    "\n",
    "# # loop through tickers and axes\n",
    "# for ticker, ax in zip(day_90, axs.ravel()):\n",
    "#     sns.barplot(ax=ax,x=train_data.groupby('NumberOfTimes90DaysLate').get_group(ticker)['SeriousDlqin2yrs'].value_counts().index, y=train_data.groupby('NumberOfTimes90DaysLate').get_group(ticker)['SeriousDlqin2yrs'].value_counts())\n",
    "#     ax.set_title(str(ticker)+' time')\n",
    "\n",
    "# plt.show()"
   ]
  },
  {
   "cell_type": "code",
   "execution_count": null,
   "id": "f2e1e702",
   "metadata": {
    "scrolled": false
   },
   "outputs": [],
   "source": [
    "#sns.FacetGrid(train_data, col = 'age', row = 'NumberOfTimes90DaysLate').map(sns.barplot,'SeriousDlqin2yrs')"
   ]
  },
  {
   "cell_type": "code",
   "execution_count": null,
   "id": "5aad37b1",
   "metadata": {
    "scrolled": true
   },
   "outputs": [],
   "source": [
    "# for i in train_data['SumOfDefaults'].index:    \n",
    "#     if train_data['SumOfDefaults'][i]!=0:\n",
    "#         d_30 = (train_data['NumberOfTime30-59DaysPastDueNotWorse'][i]/train_data['SumOfDefaults'][i])\n",
    "#         d_60 = (train_data['NumberOfTime60-89DaysPastDueNotWorse'][i]/train_data['SumOfDefaults'][i])\n",
    "#         d_90 = (train_data['NumberOfTimes90DaysLate'][i]/train_data['SumOfDefaults'][i])\n",
    "#         sum_d = (d_30*1)+(d_60*2)+(d_90*3)\n",
    "#         train_data.loc[i,'Weighted_SumOfDefaults'] = sum_d\n",
    "#     else:\n",
    "#         train_data.loc[i,'Weighted_SumOfDefaults'] = train_data['SumOfDefaults'][i]"
   ]
  },
  {
   "cell_type": "markdown",
   "id": "2f587452",
   "metadata": {},
   "source": [
    "# Function to check Outliers"
   ]
  },
  {
   "cell_type": "code",
   "execution_count": null,
   "id": "04627c3c",
   "metadata": {},
   "outputs": [],
   "source": [
    "def mark_outliers_zscore(feature, threshold = 3):\n",
    "    z = np.abs(stats.zscore(feature))\n",
    "    res = [i for i,j in zip(z.index,z.values) if j >= threshold]\n",
    "    print(\"Number of outliers : \", len(res))\n",
    "    return res"
   ]
  },
  {
   "cell_type": "markdown",
   "id": "132f3492",
   "metadata": {},
   "source": [
    "# RevolvingUtilizationOfUnsecuredLines"
   ]
  },
  {
   "cell_type": "code",
   "execution_count": null,
   "id": "0f940c86",
   "metadata": {
    "scrolled": false
   },
   "outputs": [],
   "source": [
    "klib.dist_plot(train_data.loc[train_data['SeriousDlqin2yrs']==0,'RevolvingUtilizationOfUnsecuredLines'])\n",
    "klib.dist_plot(train_data.loc[train_data['SeriousDlqin2yrs']==1,'RevolvingUtilizationOfUnsecuredLines'])\n",
    "plt.grid()\n",
    "plt.title(\"Distribution of RevolvingUtilizationOfUnsecuredLines\");"
   ]
  },
  {
   "cell_type": "code",
   "execution_count": null,
   "id": "f5193567",
   "metadata": {},
   "outputs": [],
   "source": [
    "from sklearn.preprocessing import MinMaxScaler\n",
    "mx = MinMaxScaler()"
   ]
  },
  {
   "cell_type": "code",
   "execution_count": null,
   "id": "ecc2c7ec",
   "metadata": {},
   "outputs": [],
   "source": [
    "plt.rcParams[\"figure.figsize\"] = [10.00, 3.50]\n",
    "plt.rcParams[\"figure.autolayout\"] = True\n",
    "fig, ax = plt.subplots(2, 1)\n",
    "sns.boxplot(train_data.loc[train_data['SeriousDlqin2yrs']==0,'RevolvingUtilizationOfUnsecuredLines'], ax=ax[0])\n",
    "sns.boxplot(train_data.loc[train_data['SeriousDlqin2yrs']==1,'RevolvingUtilizationOfUnsecuredLines'], ax=ax[1],color='r')\n",
    "plt.show()"
   ]
  },
  {
   "cell_type": "code",
   "execution_count": null,
   "id": "2c9527c6",
   "metadata": {},
   "outputs": [],
   "source": [
    "train_data.loc[(train_data['SeriousDlqin2yrs']==0)&(train_data['RevolvingUtilizationOfUnsecuredLines']<=1),'RevolvingUtilizationOfUnsecuredLines']"
   ]
  },
  {
   "cell_type": "code",
   "execution_count": null,
   "id": "e5de5998",
   "metadata": {},
   "outputs": [],
   "source": [
    "klib.dist_plot(train_data.loc[(train_data['SeriousDlqin2yrs']==0)&(train_data['RevolvingUtilizationOfUnsecuredLines']<=1),'RevolvingUtilizationOfUnsecuredLines'])\n",
    "klib.dist_plot(train_data.loc[(train_data['SeriousDlqin2yrs']==1)&(train_data['RevolvingUtilizationOfUnsecuredLines']<=1),'RevolvingUtilizationOfUnsecuredLines'])\n",
    "plt.grid()"
   ]
  },
  {
   "cell_type": "code",
   "execution_count": null,
   "id": "781141d2",
   "metadata": {
    "scrolled": true
   },
   "outputs": [],
   "source": [
    "plt.rcParams[\"figure.figsize\"] = [15.00, 3.50]\n",
    "plt.rcParams[\"figure.autolayout\"] = True\n",
    "fig, ax = plt.subplots(1, 2)\n",
    "sns.distplot(train_data.loc[(train_data['SeriousDlqin2yrs']==0)&(train_data['RevolvingUtilizationOfUnsecuredLines']<=1),'RevolvingUtilizationOfUnsecuredLines'], ax=ax[0])\n",
    "sns.distplot(train_data.loc[(train_data['SeriousDlqin2yrs']==1)&(train_data['RevolvingUtilizationOfUnsecuredLines']<=1),'RevolvingUtilizationOfUnsecuredLines'], ax=ax[1],color='r')\n",
    "plt.show()"
   ]
  },
  {
   "cell_type": "code",
   "execution_count": null,
   "id": "777cfda9",
   "metadata": {},
   "outputs": [],
   "source": [
    "print(train_data[train_data.RevolvingUtilizationOfUnsecuredLines>1].shape)\n",
    "print(train_data[train_data.RevolvingUtilizationOfUnsecuredLines>1]['SeriousDlqin2yrs'].value_counts())\n",
    "plt.rcParams[\"figure.figsize\"] = [15.00, 3.50]\n",
    "plt.rcParams[\"figure.autolayout\"] = True\n",
    "fig, ax = plt.subplots(1, 2)\n",
    "sns.distplot(train_data.loc[(train_data['SeriousDlqin2yrs']==0)&(train_data['RevolvingUtilizationOfUnsecuredLines']>1),'RevolvingUtilizationOfUnsecuredLines'], ax=ax[0])\n",
    "sns.distplot(train_data.loc[(train_data['SeriousDlqin2yrs']==1)&(train_data['RevolvingUtilizationOfUnsecuredLines']>1),'RevolvingUtilizationOfUnsecuredLines'], ax=ax[1],color='r')\n",
    "plt.show()"
   ]
  },
  {
   "cell_type": "code",
   "execution_count": null,
   "id": "23ac91ed",
   "metadata": {},
   "outputs": [],
   "source": [
    "train_data[train_data.RevolvingUtilizationOfUnsecuredLines>=0.2]['SeriousDlqin2yrs'].value_counts()"
   ]
  },
  {
   "cell_type": "code",
   "execution_count": null,
   "id": "bb7af978",
   "metadata": {},
   "outputs": [],
   "source": [
    "train_data[(train_data.RevolvingUtilizationOfUnsecuredLines>0.4)&(train_data.RevolvingUtilizationOfUnsecuredLines<=0.99999)]['SeriousDlqin2yrs'].value_counts()"
   ]
  },
  {
   "cell_type": "code",
   "execution_count": null,
   "id": "4e946095",
   "metadata": {},
   "outputs": [],
   "source": [
    "res = mark_outliers_zscore(train_data.RevolvingUtilizationOfUnsecuredLines)"
   ]
  },
  {
   "cell_type": "markdown",
   "id": "df5633df",
   "metadata": {},
   "source": [
    ">- There are more outlier can be seen in the data, There is huge gap between max value and the median.\n",
    ">- As compare to whole data there are few values where `RevolvingUtilizationOfUnsecuredLines` is more than `1`, which is just around 2% of whole data.\n",
    ">- Whenever `RevolvingUtilizationOfUnsecuredLines` is more than 8000 then target is always `1`.\n",
    "\n"
   ]
  },
  {
   "cell_type": "markdown",
   "id": "b4219b83",
   "metadata": {},
   "source": [
    "# MonthlyIncome and Debtratio"
   ]
  },
  {
   "cell_type": "code",
   "execution_count": null,
   "id": "ed03e7d7",
   "metadata": {},
   "outputs": [],
   "source": [
    "interval = (0,18, 25, 35, 60, 110)\n",
    "cats = ['Child','Student', 'Young', 'Adult', 'Old']\n",
    "train_data['age_cat'] = pd.cut(train_data.age, interval, labels=cats)"
   ]
  },
  {
   "cell_type": "code",
   "execution_count": null,
   "id": "fd0bcd00",
   "metadata": {},
   "outputs": [],
   "source": [
    "transformed_data['age_cat'] = pd.cut(transformed_data.age, interval, labels=cats)"
   ]
  },
  {
   "cell_type": "code",
   "execution_count": null,
   "id": "520717e0",
   "metadata": {},
   "outputs": [],
   "source": [
    "test_data['age_cat'] = pd.cut(test_data.age, interval, labels=cats)"
   ]
  },
  {
   "cell_type": "code",
   "execution_count": null,
   "id": "28c9e660",
   "metadata": {},
   "outputs": [],
   "source": [
    "res = mark_outliers_zscore(train_data.MonthlyIncome)"
   ]
  },
  {
   "cell_type": "code",
   "execution_count": null,
   "id": "8d908685",
   "metadata": {
    "scrolled": true
   },
   "outputs": [],
   "source": [
    "res = mark_outliers_zscore(train_data.DebtRatio)"
   ]
  },
  {
   "cell_type": "code",
   "execution_count": null,
   "id": "46a2349e",
   "metadata": {
    "scrolled": false
   },
   "outputs": [],
   "source": [
    "klib.dist_plot(train_data.loc[train_data['SeriousDlqin2yrs']==0,'MonthlyIncome'])\n",
    "klib.dist_plot(train_data.loc[train_data['SeriousDlqin2yrs']==1,'MonthlyIncome'])\n",
    "plt.grid()\n",
    "plt.title(\"Distribution of RevolvingUtilizationOfUnsecuredLines\");"
   ]
  },
  {
   "cell_type": "code",
   "execution_count": null,
   "id": "e70152e9",
   "metadata": {},
   "outputs": [],
   "source": [
    "plt.rcParams[\"figure.figsize\"] = [10.00, 3.50]\n",
    "#plt.rcParams[\"figure.autolayout\"] = True\n",
    "fig, ax = plt.subplots(2, 1)\n",
    "sns.boxplot(train_data.loc[train_data['SeriousDlqin2yrs']==0,'MonthlyIncome'], ax=ax[0],color='b')\n",
    "sns.boxplot(train_data.loc[train_data['SeriousDlqin2yrs']==1,'MonthlyIncome'], ax=ax[1],color='r')\n",
    "plt.show()"
   ]
  },
  {
   "cell_type": "code",
   "execution_count": null,
   "id": "ab44486c",
   "metadata": {},
   "outputs": [],
   "source": [
    "plt.rcParams[\"figure.figsize\"] = [15.00, 3.50]\n",
    "plt.rcParams[\"figure.autolayout\"] = True\n",
    "fig, ax = plt.subplots(1, 2)\n",
    "sns.distplot(train_data.loc[(train_data['SeriousDlqin2yrs']==0),'MonthlyIncome'], ax=ax[0],color='b',rug=True)\n",
    "sns.distplot(train_data.loc[(train_data['SeriousDlqin2yrs']==1),'MonthlyIncome'], ax=ax[1],color='r',rug=True)\n",
    "plt.show()"
   ]
  },
  {
   "cell_type": "code",
   "execution_count": null,
   "id": "5a327a58",
   "metadata": {},
   "outputs": [],
   "source": [
    "plt.rcParams[\"figure.figsize\"] = [15.00, 3.50]\n",
    "plt.rcParams[\"figure.autolayout\"] = True\n",
    "fig, ax = plt.subplots(1, 2)\n",
    "sns.distplot(np.log(train_data.loc[(train_data['SeriousDlqin2yrs']==0),'MonthlyIncome']+1), ax=ax[0],color='b',rug=True)\n",
    "sns.distplot(np.log(train_data.loc[(train_data['SeriousDlqin2yrs']==1),'MonthlyIncome']+1), ax=ax[1],color='r',rug=True)\n",
    "plt.show()"
   ]
  },
  {
   "cell_type": "code",
   "execution_count": null,
   "id": "d990e474",
   "metadata": {},
   "outputs": [],
   "source": [
    "transformed_data['MonthlyIncome_lg'] = np.log(transformed_data['MonthlyIncome']+1)\n",
    "test_data['MonthlyIncome_lg'] = np.log(test_data['MonthlyIncome']+1)"
   ]
  },
  {
   "cell_type": "code",
   "execution_count": null,
   "id": "fa8a64eb",
   "metadata": {
    "scrolled": false
   },
   "outputs": [],
   "source": [
    "klib.dist_plot(transformed_data.loc[transformed_data['SeriousDlqin2yrs']==0,'MonthlyIncome_lg'])\n",
    "klib.dist_plot(transformed_data.loc[transformed_data['SeriousDlqin2yrs']==1,'MonthlyIncome_lg'])\n",
    "plt.grid()\n",
    "plt.title(\"Distribution of MonthlyIncome_lg\");"
   ]
  },
  {
   "cell_type": "code",
   "execution_count": null,
   "id": "ec9d1c7a",
   "metadata": {},
   "outputs": [],
   "source": [
    "plt.rcParams[\"figure.figsize\"] = [10.00, 3.50]\n",
    "#plt.rcParams[\"figure.autolayout\"] = True\n",
    "fig, ax = plt.subplots(2, 1)\n",
    "sns.boxplot(transformed_data.loc[transformed_data['SeriousDlqin2yrs']==0,'MonthlyIncome_lg'], ax=ax[0],color='b')\n",
    "sns.boxplot(transformed_data.loc[transformed_data['SeriousDlqin2yrs']==1,'MonthlyIncome_lg'], ax=ax[1],color='r')\n",
    "plt.show()"
   ]
  },
  {
   "cell_type": "code",
   "execution_count": null,
   "id": "fbc69a57",
   "metadata": {},
   "outputs": [],
   "source": [
    "plt.rcParams[\"figure.figsize\"] = [10.00, 3.50]\n",
    "#plt.rcParams[\"figure.autolayout\"] = True\n",
    "fig, ax = plt.subplots(2, 1)\n",
    "sns.boxplot(transformed_data.loc[transformed_data['SeriousDlqin2yrs']==0,'MonthlyIncome_lg'], ax=ax[0],color='b')\n",
    "sns.boxplot(transformed_data.loc[transformed_data['SeriousDlqin2yrs']==1,'MonthlyIncome_lg'], ax=ax[1],color='r')\n",
    "plt.show()"
   ]
  },
  {
   "cell_type": "code",
   "execution_count": null,
   "id": "70a8ad93",
   "metadata": {},
   "outputs": [],
   "source": [
    "plt.rcParams[\"figure.figsize\"] = [15.00, 3.50]\n",
    "plt.rcParams[\"figure.autolayout\"] = True\n",
    "fig, ax = plt.subplots(1, 2)\n",
    "sns.distplot(transformed_data.loc[(transformed_data['SeriousDlqin2yrs']==0),'MonthlyIncome_lg'], ax=ax[0],color='b',rug=True)\n",
    "sns.distplot(transformed_data.loc[(transformed_data['SeriousDlqin2yrs']==1),'MonthlyIncome_lg'], ax=ax[1],color='r',rug=True)\n",
    "plt.show()"
   ]
  },
  {
   "cell_type": "code",
   "execution_count": null,
   "id": "22698cd1",
   "metadata": {},
   "outputs": [],
   "source": [
    "#train_data.drop(train_data[train_data.age==0].index,axis=0,inplace=True)"
   ]
  },
  {
   "cell_type": "code",
   "execution_count": null,
   "id": "bae8b4eb",
   "metadata": {},
   "outputs": [],
   "source": [
    "train_data.loc[train_data.age==0,:]"
   ]
  },
  {
   "cell_type": "code",
   "execution_count": null,
   "id": "27c48d0b",
   "metadata": {},
   "outputs": [],
   "source": [
    "transformed_data.loc[transformed_data.age==0,:]"
   ]
  },
  {
   "cell_type": "code",
   "execution_count": null,
   "id": "88219d8f",
   "metadata": {},
   "outputs": [],
   "source": [
    "test_data.loc[test_data.age==0,:]"
   ]
  },
  {
   "cell_type": "code",
   "execution_count": null,
   "id": "f84842f5",
   "metadata": {},
   "outputs": [],
   "source": [
    "train_data.drop(train_data[train_data.age==0].index,axis=0,inplace=True)\n",
    "transformed_data.drop(transformed_data[transformed_data.age==0].index,axis=0,inplace=True)"
   ]
  },
  {
   "cell_type": "code",
   "execution_count": null,
   "id": "3474666e",
   "metadata": {},
   "outputs": [],
   "source": [
    "print(train_data.loc[:,'SeriousDlqin2yrs'].value_counts())\n",
    "sns.barplot(x='age_cat',y='MonthlyIncome',data=train_data,hue='SeriousDlqin2yrs')"
   ]
  },
  {
   "cell_type": "code",
   "execution_count": null,
   "id": "a760b065",
   "metadata": {},
   "outputs": [],
   "source": [
    "train_data.loc[train_data.MonthlyIncome<=1]"
   ]
  },
  {
   "cell_type": "code",
   "execution_count": null,
   "id": "b577ff38",
   "metadata": {},
   "outputs": [],
   "source": [
    "train_data.loc[(train_data.MonthlyIncome<=1)&(train_data.age_cat=='Student')&(train_data.DebtRatio>1)]"
   ]
  },
  {
   "cell_type": "code",
   "execution_count": null,
   "id": "0ad37f17",
   "metadata": {},
   "outputs": [],
   "source": [
    "print(train_data.loc[train_data.MonthlyIncome<=1,'SeriousDlqin2yrs'].value_counts())\n",
    "sns.barplot(x='age_cat',y='MonthlyIncome',data=train_data[train_data.MonthlyIncome<=1],hue='SeriousDlqin2yrs',palette='rainbow')"
   ]
  },
  {
   "cell_type": "code",
   "execution_count": null,
   "id": "120e5355",
   "metadata": {},
   "outputs": [],
   "source": [
    "sns.boxplot(x='age_cat',y='MonthlyIncome',data=train_data[train_data.MonthlyIncome>1],hue='SeriousDlqin2yrs',palette='rainbow')"
   ]
  },
  {
   "cell_type": "code",
   "execution_count": null,
   "id": "ea3c8e4b",
   "metadata": {},
   "outputs": [],
   "source": [
    "sns.boxplot(x='age_cat',y='MonthlyIncome',data=train_data[train_data.MonthlyIncome<=1])"
   ]
  },
  {
   "cell_type": "markdown",
   "id": "8f4d74dd",
   "metadata": {},
   "source": [
    "> - `MonthlyIncome` is also the parameter highly skewed and contains outliers.\n",
    "> - There are values with `MonthlyIncome` 0 to 10, for which we dosen't have the interpretation.\n",
    "> - For this values the `DebtRatio` is more as it is ration of debt to income.\n",
    "> - `DebtRatio` is dependant on `MonthlyIncome` so `MonthlyIncome` needs to be cleaned. It is also contains null values.\n",
    "> - Outliers in `MonthlyIncome` can be handle by using `log transform`."
   ]
  },
  {
   "cell_type": "code",
   "execution_count": null,
   "id": "ebfaa85a",
   "metadata": {},
   "outputs": [],
   "source": [
    "np.log(1), np.exp(8.412796020507812)"
   ]
  },
  {
   "cell_type": "code",
   "execution_count": null,
   "id": "1a5a6ece",
   "metadata": {},
   "outputs": [],
   "source": [
    "transformed_data['MonthlyIncome_lg'].mean()"
   ]
  },
  {
   "cell_type": "code",
   "execution_count": null,
   "id": "59294b12",
   "metadata": {},
   "outputs": [],
   "source": [
    "child = 0 #transformed_data.loc[transformed_data.age_cat=='Child','MonthlyIncome_lg'].median()"
   ]
  },
  {
   "cell_type": "code",
   "execution_count": null,
   "id": "67bcddf9",
   "metadata": {},
   "outputs": [],
   "source": [
    "student = transformed_data.loc[transformed_data.age_cat=='Student','MonthlyIncome_lg'].median()"
   ]
  },
  {
   "cell_type": "code",
   "execution_count": null,
   "id": "d94091de",
   "metadata": {},
   "outputs": [],
   "source": [
    "young = transformed_data.loc[transformed_data.age_cat=='Young','MonthlyIncome_lg'].median()"
   ]
  },
  {
   "cell_type": "code",
   "execution_count": null,
   "id": "f6c7d461",
   "metadata": {},
   "outputs": [],
   "source": [
    "adult = transformed_data.loc[transformed_data.age_cat=='Adult','MonthlyIncome_lg'].median()"
   ]
  },
  {
   "cell_type": "code",
   "execution_count": null,
   "id": "62797bc0",
   "metadata": {},
   "outputs": [],
   "source": [
    "old = transformed_data.loc[transformed_data.age_cat=='Old','MonthlyIncome_lg'].median()"
   ]
  },
  {
   "cell_type": "code",
   "execution_count": null,
   "id": "c44aae6b",
   "metadata": {},
   "outputs": [],
   "source": [
    "transformed_data.loc[(transformed_data.age_cat=='Child')&(transformed_data.MonthlyIncome_lg.isna()),'MonthlyIncome_lg'] = 0"
   ]
  },
  {
   "cell_type": "code",
   "execution_count": null,
   "id": "49f4cf18",
   "metadata": {},
   "outputs": [],
   "source": [
    "transformed_data.loc[(transformed_data.age_cat=='Student')&(transformed_data.MonthlyIncome_lg.isna()),'MonthlyIncome_lg'] = student"
   ]
  },
  {
   "cell_type": "code",
   "execution_count": null,
   "id": "d9f7c66f",
   "metadata": {},
   "outputs": [],
   "source": [
    "transformed_data.loc[(transformed_data.age_cat=='Young')&(transformed_data.MonthlyIncome_lg.isna()),'MonthlyIncome_lg'] = young"
   ]
  },
  {
   "cell_type": "code",
   "execution_count": null,
   "id": "526e013d",
   "metadata": {},
   "outputs": [],
   "source": [
    "transformed_data.loc[(transformed_data.age_cat=='Adult')&(transformed_data.MonthlyIncome_lg.isna()),'MonthlyIncome_lg'] = adult"
   ]
  },
  {
   "cell_type": "code",
   "execution_count": null,
   "id": "728d4753",
   "metadata": {},
   "outputs": [],
   "source": [
    "transformed_data.loc[(transformed_data.age_cat=='Old')&(transformed_data.MonthlyIncome_lg.isna()),'MonthlyIncome_lg'] = old"
   ]
  },
  {
   "cell_type": "code",
   "execution_count": null,
   "id": "63f44aab",
   "metadata": {},
   "outputs": [],
   "source": [
    "child = 0 #test_data.loc[test_data.age_cat=='Child','MonthlyIncome_lg'].median()\n",
    "student = test_data.loc[test_data.age_cat=='Student','MonthlyIncome_lg'].median()\n",
    "young = test_data.loc[test_data.age_cat=='Young','MonthlyIncome_lg'].median()\n",
    "adult = test_data.loc[test_data.age_cat=='Adult','MonthlyIncome_lg'].median()\n",
    "old = test_data.loc[test_data.age_cat=='Old','MonthlyIncome_lg'].median()\n",
    "\n",
    "test_data.loc[(test_data.age_cat=='Child')&(test_data.MonthlyIncome_lg.isna()),'MonthlyIncome_lg'] = 0\n",
    "test_data.loc[(test_data.age_cat=='Student')&(test_data.MonthlyIncome_lg.isna()),'MonthlyIncome_lg'] = student\n",
    "test_data.loc[(test_data.age_cat=='Young')&(test_data.MonthlyIncome_lg.isna()),'MonthlyIncome_lg'] = young\n",
    "test_data.loc[(test_data.age_cat=='Adult')&(test_data.MonthlyIncome_lg.isna()),'MonthlyIncome_lg'] = adult\n",
    "test_data.loc[(test_data.age_cat=='Old')&(test_data.MonthlyIncome_lg.isna()),'MonthlyIncome_lg'] = old"
   ]
  },
  {
   "cell_type": "code",
   "execution_count": null,
   "id": "7b9c366e",
   "metadata": {},
   "outputs": [],
   "source": [
    "plt.rcParams[\"figure.figsize\"] = [15.00, 3.50]\n",
    "plt.rcParams[\"figure.autolayout\"] = True\n",
    "fig, ax = plt.subplots(1, 2)\n",
    "sns.distplot(transformed_data.loc[(transformed_data['SeriousDlqin2yrs']==0),'MonthlyIncome_lg'], ax=ax[0],color='b',rug=True)\n",
    "sns.distplot(transformed_data.loc[(transformed_data['SeriousDlqin2yrs']==1),'MonthlyIncome_lg'], ax=ax[1],color='r',rug=True)\n",
    "plt.show()"
   ]
  },
  {
   "cell_type": "code",
   "execution_count": null,
   "id": "bf6ae476",
   "metadata": {},
   "outputs": [],
   "source": [
    "plt.rcParams[\"figure.figsize\"] = [15.00, 3.50]\n",
    "plt.rcParams[\"figure.autolayout\"] = True\n",
    "fig, ax = plt.subplots(1, 2)\n",
    "sns.distplot(test_data.loc[:,'MonthlyIncome_lg'], ax=ax[0],color='b',rug=True)\n",
    "plt.show()"
   ]
  },
  {
   "cell_type": "code",
   "execution_count": null,
   "id": "1ac0e2f1",
   "metadata": {},
   "outputs": [],
   "source": [
    "transformed_data.isna().sum()"
   ]
  },
  {
   "cell_type": "code",
   "execution_count": null,
   "id": "258fec20",
   "metadata": {},
   "outputs": [],
   "source": [
    "test_data.isna().sum()"
   ]
  },
  {
   "cell_type": "code",
   "execution_count": null,
   "id": "48de1f24",
   "metadata": {},
   "outputs": [],
   "source": [
    "#transformed_data.dropna(subset='age_cat',inplace=True)"
   ]
  },
  {
   "cell_type": "markdown",
   "id": "3fe8ae23",
   "metadata": {},
   "source": [
    "# Analyzing DebtRatio"
   ]
  },
  {
   "cell_type": "code",
   "execution_count": null,
   "id": "b33f4b87",
   "metadata": {},
   "outputs": [],
   "source": [
    "res = mark_outliers_zscore(train_data.DebtRatio)"
   ]
  },
  {
   "cell_type": "code",
   "execution_count": null,
   "id": "f2c964b2",
   "metadata": {},
   "outputs": [],
   "source": [
    "klib.dist_plot(np.log(train_data.DebtRatio+0.0001))"
   ]
  },
  {
   "cell_type": "code",
   "execution_count": null,
   "id": "de51849f",
   "metadata": {},
   "outputs": [],
   "source": [
    "transformed_data[(transformed_data.index.isin(res))]"
   ]
  },
  {
   "cell_type": "code",
   "execution_count": null,
   "id": "14fb3d61",
   "metadata": {},
   "outputs": [],
   "source": [
    "train_data[(train_data.index.isin(res))]"
   ]
  },
  {
   "cell_type": "markdown",
   "id": "eedfbfda",
   "metadata": {},
   "source": [
    "> - Out of 659 outliers 616 records are having `MonthlyIncome` as Null.\n",
    "> - For these records Dividing DebtRatio by `MonthlyIncome` might adjust the outliers"
   ]
  },
  {
   "cell_type": "code",
   "execution_count": null,
   "id": "b4474977",
   "metadata": {},
   "outputs": [],
   "source": [
    "transformed_data['DebtRatio_transformed'] = transformed_data['DebtRatio']\n",
    "test_data['DebtRatio_transformed'] = test_data['DebtRatio']"
   ]
  },
  {
   "cell_type": "code",
   "execution_count": null,
   "id": "e2fea6d9",
   "metadata": {},
   "outputs": [],
   "source": [
    "transformed_data.loc[(transformed_data.index.isin(res)),'DebtRatio_transformed']"
   ]
  },
  {
   "cell_type": "code",
   "execution_count": null,
   "id": "9fc7394e",
   "metadata": {},
   "outputs": [],
   "source": [
    "def debt(df):\n",
    "    a = df.loc[(df.index.isin(res)),'DebtRatio_transformed']\n",
    "    b = np.exp(df.loc[(df.index.isin(res)),'MonthlyIncome_lg'])-1\n",
    "    \n",
    "    for i,j in zip(df.loc[df.index.isin(res),'DebtRatio_transformed'].index,df.loc[df.index.isin(res),'DebtRatio_transformed'].values):\n",
    "        if b[i]>1:\n",
    "            df.loc[i,'DebtRatio_transformed'] = j/b[i]\n",
    "    return df"
   ]
  },
  {
   "cell_type": "code",
   "execution_count": null,
   "id": "3696cddb",
   "metadata": {},
   "outputs": [],
   "source": [
    "debt(test_data)"
   ]
  },
  {
   "cell_type": "code",
   "execution_count": null,
   "id": "7599302f",
   "metadata": {},
   "outputs": [],
   "source": [
    "transformed_data.loc[(transformed_data.index.isin(res)),'DebtRatio_transformed']"
   ]
  },
  {
   "cell_type": "code",
   "execution_count": null,
   "id": "54aa2b5e",
   "metadata": {},
   "outputs": [],
   "source": [
    "# a = transformed_data.loc[(transformed_data.index.isin(res)),'DebtRatio_transformed']"
   ]
  },
  {
   "cell_type": "code",
   "execution_count": null,
   "id": "3d58208a",
   "metadata": {},
   "outputs": [],
   "source": [
    "# b = np.exp(transformed_data.loc[(transformed_data.index.isin(res)),'MonthlyIncome_lg'])-1"
   ]
  },
  {
   "cell_type": "code",
   "execution_count": null,
   "id": "832dc255",
   "metadata": {},
   "outputs": [],
   "source": [
    "res = mark_outliers_zscore(transformed_data['DebtRatio_transformed'])"
   ]
  },
  {
   "cell_type": "code",
   "execution_count": null,
   "id": "d52321a3",
   "metadata": {
    "scrolled": true
   },
   "outputs": [],
   "source": [
    "res = mark_outliers_zscore(test_data['DebtRatio_transformed'])"
   ]
  },
  {
   "cell_type": "markdown",
   "id": "1d821c75",
   "metadata": {},
   "source": [
    "### skewness\n",
    "·> skewness is between `-0.5 and 0.5`, the data are fairly `symmetrical`\n",
    "\n",
    "·> skewness is between `-1 and — 0.5` or between `0.5 and 1`, the data are `moderately skewed`\n",
    "\n",
    "·> skewness is less than `-1 or greater than 1`, the data are `highly skewed` \n",
    "\n",
    "### Kurtosis - determine the volume of the outlier\n",
    "·> `Kurtosis > 3` --> `leptokurtic` --> `distribution is tall and thin`\n",
    "\n",
    "·> `Kurtosis < 3` --> `platykurtic` --> `moderately spread out`\n",
    "\n",
    "·> `Kurtosis = 3`--> `mesokurtic`(looks more close to a normal distribution) ==> between `leptokurtic` and `platykurtic`"
   ]
  },
  {
   "cell_type": "code",
   "execution_count": null,
   "id": "0fbca02c",
   "metadata": {},
   "outputs": [],
   "source": [
    "train_data[Numeric_Param]"
   ]
  },
  {
   "cell_type": "code",
   "execution_count": null,
   "id": "cb42730e",
   "metadata": {},
   "outputs": [],
   "source": [
    "train_data.NumberOfDependents.value_counts()"
   ]
  },
  {
   "cell_type": "code",
   "execution_count": null,
   "id": "48d8f73c",
   "metadata": {},
   "outputs": [],
   "source": [
    "transformed_data['NumberOfDependentsTR'] = transformed_data['NumberOfDependents']\n",
    "test_data['NumberOfDependentsTR'] = test_data['NumberOfDependents']\n",
    "transformed_data.loc[transformed_data.NumberOfDependentsTR>=7,'NumberOfDependentsTR'] = 7\n",
    "test_data.loc[test_data.NumberOfDependentsTR>=7,'NumberOfDependentsTR'] = 7"
   ]
  },
  {
   "cell_type": "code",
   "execution_count": null,
   "id": "18ae302a",
   "metadata": {},
   "outputs": [],
   "source": [
    "transformed_data.NumberOfDependentsTR.value_counts()"
   ]
  },
  {
   "cell_type": "code",
   "execution_count": null,
   "id": "09bb01cf",
   "metadata": {},
   "outputs": [],
   "source": [
    "train_data.NumberRealEstateLoansOrLines.value_counts()"
   ]
  },
  {
   "cell_type": "code",
   "execution_count": null,
   "id": "798babd5",
   "metadata": {},
   "outputs": [],
   "source": [
    "transformed_data['NumberRealEstateLoansOrLinesTR'] = transformed_data['NumberRealEstateLoansOrLines']\n",
    "test_data['NumberRealEstateLoansOrLinesTR'] = test_data['NumberRealEstateLoansOrLines']\n",
    "\n",
    "transformed_data.loc[transformed_data.NumberRealEstateLoansOrLinesTR>=11,'NumberRealEstateLoansOrLinesTR'] = 11\n",
    "test_data.loc[test_data.NumberRealEstateLoansOrLinesTR>=11,'NumberRealEstateLoansOrLinesTR'] = 11"
   ]
  },
  {
   "cell_type": "code",
   "execution_count": null,
   "id": "ef6fcd21",
   "metadata": {},
   "outputs": [],
   "source": [
    "train_data.NumberOfOpenCreditLinesAndLoans.value_counts()"
   ]
  },
  {
   "cell_type": "code",
   "execution_count": null,
   "id": "61e12d23",
   "metadata": {},
   "outputs": [],
   "source": [
    "transformed_data['NumberOfOpenCreditLinesAndLoansTR'] = transformed_data['NumberOfOpenCreditLinesAndLoans']\n",
    "test_data['NumberOfOpenCreditLinesAndLoansTR'] = test_data['NumberOfOpenCreditLinesAndLoans']\n",
    "\n",
    "transformed_data.loc[transformed_data.NumberOfOpenCreditLinesAndLoansTR>=25,'NumberOfOpenCreditLinesAndLoansTR'] = 25\n",
    "test_data.loc[test_data.NumberOfOpenCreditLinesAndLoansTR>=25,'NumberOfOpenCreditLinesAndLoansTR'] = 25"
   ]
  },
  {
   "cell_type": "code",
   "execution_count": null,
   "id": "20810300",
   "metadata": {
    "scrolled": false
   },
   "outputs": [],
   "source": [
    "transformed_data.isna().sum()"
   ]
  },
  {
   "cell_type": "code",
   "execution_count": null,
   "id": "bafae6a7",
   "metadata": {},
   "outputs": [],
   "source": [
    "transformed_data.loc[transformed_data.NumberOfDependents.isna(),'NumberOfDependents'] = 0\n",
    "test_data.loc[test_data.NumberOfDependents.isna(),'NumberOfDependents'] = 0\n",
    "\n",
    "transformed_data.loc[transformed_data.NumberOfDependentsTR.isna(),'NumberOfDependentsTR'] = 0\n",
    "test_data.loc[test_data.NumberOfDependentsTR.isna(),'NumberOfDependentsTR'] = 0"
   ]
  },
  {
   "cell_type": "markdown",
   "id": "6ea9ed6b",
   "metadata": {},
   "source": [
    "# Clustering on dataset"
   ]
  },
  {
   "cell_type": "code",
   "execution_count": null,
   "id": "8b9692c3",
   "metadata": {},
   "outputs": [],
   "source": [
    "from sklearn.cluster import KMeans\n",
    "from sklearn.preprocessing import StandardScaler\n",
    "sc = StandardScaler()"
   ]
  },
  {
   "cell_type": "code",
   "execution_count": null,
   "id": "55e05e08",
   "metadata": {},
   "outputs": [],
   "source": [
    "X = train_data[['SeriousDlqin2yrs', 'RevolvingUtilizationOfUnsecuredLines']].copy()"
   ]
  },
  {
   "cell_type": "code",
   "execution_count": null,
   "id": "ba95938e",
   "metadata": {},
   "outputs": [],
   "source": [
    "# X.fillna(-1,inplace=True)"
   ]
  },
  {
   "cell_type": "code",
   "execution_count": null,
   "id": "aa6b819a",
   "metadata": {},
   "outputs": [],
   "source": [
    "X.tail(10)"
   ]
  },
  {
   "cell_type": "code",
   "execution_count": null,
   "id": "a487c1cf",
   "metadata": {},
   "outputs": [],
   "source": [
    "scaled_df = sc.fit_transform(X)\n",
    "scaled_df = X"
   ]
  },
  {
   "cell_type": "code",
   "execution_count": null,
   "id": "bc87daa1",
   "metadata": {},
   "outputs": [],
   "source": [
    "kmeans = KMeans(\n",
    "init=\"random\",\n",
    "n_clusters=4,\n",
    "n_init=10,\n",
    "max_iter=500,\n",
    "random_state=42)"
   ]
  },
  {
   "cell_type": "code",
   "execution_count": null,
   "id": "96178831",
   "metadata": {},
   "outputs": [],
   "source": [
    "kmeans.fit(scaled_df)"
   ]
  },
  {
   "cell_type": "code",
   "execution_count": null,
   "id": "2609ad3b",
   "metadata": {},
   "outputs": [],
   "source": [
    "kmeans.inertia_"
   ]
  },
  {
   "cell_type": "code",
   "execution_count": null,
   "id": "278814b2",
   "metadata": {},
   "outputs": [],
   "source": [
    "kmeans.cluster_centers_"
   ]
  },
  {
   "cell_type": "code",
   "execution_count": null,
   "id": "319f57bf",
   "metadata": {},
   "outputs": [],
   "source": [
    "kmeans.n_iter_"
   ]
  },
  {
   "cell_type": "code",
   "execution_count": null,
   "id": "08ae8770",
   "metadata": {},
   "outputs": [],
   "source": [
    "np.unique(kmeans.labels_,return_counts=True)"
   ]
  },
  {
   "cell_type": "code",
   "execution_count": null,
   "id": "e81cb1ac",
   "metadata": {},
   "outputs": [],
   "source": [
    "label = kmeans.fit_predict(scaled_df)\n",
    "label_0 = scaled_df[label == 0]\n",
    "label_1 = scaled_df[label == 1]\n",
    "label_2 = scaled_df[label == 2]\n",
    "label_3 = scaled_df[label == 3]"
   ]
  },
  {
   "cell_type": "code",
   "execution_count": null,
   "id": "ac4f93d0",
   "metadata": {},
   "outputs": [],
   "source": [
    "np.unique(label,return_counts=True)"
   ]
  },
  {
   "cell_type": "code",
   "execution_count": null,
   "id": "5171f84d",
   "metadata": {},
   "outputs": [],
   "source": [
    "filtered_label0"
   ]
  },
  {
   "cell_type": "code",
   "execution_count": null,
   "id": "2c3a8d37",
   "metadata": {},
   "outputs": [],
   "source": [
    "filtered_label0.iloc[:,0]"
   ]
  },
  {
   "cell_type": "code",
   "execution_count": null,
   "id": "7c014e46",
   "metadata": {},
   "outputs": [],
   "source": [
    "filtered_label0 = scaled_df[label == 0]\n",
    "\n",
    "filtered_label1 = scaled_df[label == 1]\n",
    " \n",
    "filtered_label2 = scaled_df[label == 2]\n",
    "\n",
    "filtered_label3 = scaled_df[label == 3]\n",
    " \n",
    "#Plotting the results\n",
    "plt.scatter(filtered_label0.iloc[:,0] , filtered_label0.iloc[:,1] , color = 'blue')\n",
    "plt.scatter(filtered_label1.iloc[:,0] , filtered_label1.iloc[:,1] , color = 'red')\n",
    "plt.scatter(filtered_label2.iloc[:,0] , filtered_label2.iloc[:,1] , color = 'green')\n",
    "plt.scatter(filtered_label3.iloc[:,0] , filtered_label3.iloc[:,1] , color = 'orange')\n",
    "plt.show()"
   ]
  },
  {
   "cell_type": "code",
   "execution_count": null,
   "id": "633e9f8d",
   "metadata": {
    "scrolled": true
   },
   "outputs": [],
   "source": [
    "plt.style.use(\"fivethirtyeight\")\n",
    "plt.plot(range(1, 11), sse)\n",
    "plt.xticks(range(1, 11))\n",
    "plt.xlabel(\"Number of Clusters\")\n",
    "plt.ylabel(\"SSE\")\n",
    "plt.show()"
   ]
  },
  {
   "cell_type": "markdown",
   "id": "f569ef68",
   "metadata": {},
   "source": [
    "# Modelling"
   ]
  },
  {
   "cell_type": "code",
   "execution_count": null,
   "id": "a32f21c1",
   "metadata": {},
   "outputs": [],
   "source": [
    "from sklearn.model_selection import train_test_split\n",
    "from sklearn.linear_model import LogisticRegression\n",
    "from sklearn.tree import DecisionTreeClassifier, ExtraTreeClassifier\n",
    "from sklearn.ensemble import RandomForestClassifier\n",
    "from sklearn.preprocessing import StandardScaler\n",
    "\n",
    "from sklearn.metrics import accuracy_score, recall_score, precision_score, f1_score, confusion_matrix,log_loss"
   ]
  },
  {
   "cell_type": "code",
   "execution_count": null,
   "id": "617000fe",
   "metadata": {},
   "outputs": [],
   "source": [
    "def data_build(df):\n",
    "    X = df.drop('SeriousDlqin2yrs',axis=1)\n",
    "    y = df.SeriousDlqin2yrs\n",
    "    sc = StandardScaler()\n",
    "    X_train, X_test, y_train, y_test = train_test_split(X,y,test_size=0.3,random_state=0)\n",
    "    X_train = sc.fit_transform(X_train)\n",
    "    X_test = sc.transform(X_test)    \n",
    "\n",
    "    return X, y, X_train, y_train, X_test, y_test"
   ]
  },
  {
   "cell_type": "code",
   "execution_count": null,
   "id": "5d150311",
   "metadata": {},
   "outputs": [],
   "source": [
    "def modelling(model, X_train, y_train, X_test, y_test,env = True):\n",
    "    if env:\n",
    "        print('I am here')\n",
    "        model_ = model.fit(X_train, y_train)\n",
    "        predictions = model_.predict(X_test)\n",
    "        \n",
    "\n",
    "        print(\"=\"*100)\n",
    "        print('log loss, ', log_loss(y_test,predictions))\n",
    "        print('Accuracy Score, ', accuracy_score(y_test,predictions))\n",
    "        print('Recall Score, ', recall_score(y_test,predictions))\n",
    "        print('Precision Score, ', precision_score(y_test,predictions))\n",
    "        print(\"=\"*100)\n",
    "        print('Confusion Matrix, \\n', confusion_matrix(y_test,predictions))\n",
    "    else:\n",
    "        print('I am here_1')\n",
    "        sc = StandardScaler()\n",
    "        X_train = sc.fit_transform(X_train)\n",
    "        X_test = sc.transform(X_test)\n",
    "        model_ = model.fit(X_train, y_train)\n",
    "        predictions = model.predict_proba(X_test)\n",
    "    return predictions"
   ]
  },
  {
   "cell_type": "code",
   "execution_count": null,
   "id": "084c61ba",
   "metadata": {},
   "outputs": [],
   "source": [
    "age_map = {'Child':0,'Student':1, 'Young':2, 'Adult':3, 'Old':4}\n",
    "transformed_data.age_cat = transformed_data.age_cat.map(age_map)"
   ]
  },
  {
   "cell_type": "code",
   "execution_count": null,
   "id": "ebdb3df5",
   "metadata": {},
   "outputs": [],
   "source": [
    "age_map = {'Child':0,'Student':1, 'Young':2, 'Adult':3, 'Old':4}\n",
    "test_data.age_cat = test_data.age_cat.map(age_map)"
   ]
  },
  {
   "cell_type": "code",
   "execution_count": null,
   "id": "bb3dde0a",
   "metadata": {},
   "outputs": [],
   "source": [
    "transformed_data['MonthlyIncome_nolg_'] = np.exp(transformed_data['MonthlyIncome_lg'])-1\n",
    "test_data['MonthlyIncome_nolg_'] = np.exp(test_data['MonthlyIncome_lg'])-1"
   ]
  },
  {
   "cell_type": "code",
   "execution_count": null,
   "id": "563b06b2",
   "metadata": {},
   "outputs": [],
   "source": [
    "transformed_data.MonthlyIncome_lg"
   ]
  },
  {
   "cell_type": "code",
   "execution_count": null,
   "id": "724ed8f5",
   "metadata": {},
   "outputs": [],
   "source": [
    "transformed_feature = ['SeriousDlqin2yrs',\n",
    "                       'RevolvingUtilizationOfUnsecuredLines',\n",
    "                       'Weighted_Delay_sum', \n",
    "                       'age',\n",
    "                       'MonthlyIncome_nolg_', \n",
    "                       'DebtRatio', \n",
    "                       'NumberOfDependentsTR',\n",
    "                       'NumberRealEstateLoansOrLinesTR', \n",
    "                       'NumberOfOpenCreditLinesAndLoansTR']"
   ]
  },
  {
   "cell_type": "code",
   "execution_count": null,
   "id": "0f6d7932",
   "metadata": {},
   "outputs": [],
   "source": [
    "transformed_data[transformed_feature]"
   ]
  },
  {
   "cell_type": "code",
   "execution_count": null,
   "id": "7673b780",
   "metadata": {},
   "outputs": [],
   "source": [
    "transformed_data_bkp = transformed_data.copy()\n",
    "test_data_bkp = test_data.copy()"
   ]
  },
  {
   "cell_type": "code",
   "execution_count": null,
   "id": "87f0068f",
   "metadata": {},
   "outputs": [],
   "source": [
    "df = transformed_data[transformed_feature]"
   ]
  },
  {
   "cell_type": "code",
   "execution_count": null,
   "id": "cdb60adc",
   "metadata": {},
   "outputs": [],
   "source": [
    "X, y, X_train, y_train, X_test, y_test = data_build(df)"
   ]
  },
  {
   "cell_type": "code",
   "execution_count": null,
   "id": "d58fed6b",
   "metadata": {},
   "outputs": [],
   "source": [
    "pred = modelling(DecisionTreeClassifier(random_state=0),X_train, y_train, X_test, y_test)"
   ]
  },
  {
   "cell_type": "code",
   "execution_count": null,
   "id": "7aa1a99e",
   "metadata": {},
   "outputs": [],
   "source": [
    "pred = modelling(DecisionTreeClassifier(random_state=0),X_train, y_train, X_test, y_test)"
   ]
  },
  {
   "cell_type": "code",
   "execution_count": null,
   "id": "ac9bb275",
   "metadata": {},
   "outputs": [],
   "source": [
    "df_test = test_data[transformed_feature]\n",
    "df_test.drop('SeriousDlqin2yrs',axis=1)"
   ]
  },
  {
   "cell_type": "code",
   "execution_count": null,
   "id": "cd12ec6f",
   "metadata": {},
   "outputs": [],
   "source": [
    "Xtest = df_test.drop('SeriousDlqin2yrs',axis=1)"
   ]
  },
  {
   "cell_type": "code",
   "execution_count": null,
   "id": "b9038a28",
   "metadata": {},
   "outputs": [],
   "source": [
    "pred = modelling(RandomForestClassifier(random_state=0),X, y, Xtest, None, False)"
   ]
  },
  {
   "cell_type": "code",
   "execution_count": null,
   "id": "cdd21e11",
   "metadata": {},
   "outputs": [],
   "source": [
    "pred"
   ]
  },
  {
   "cell_type": "code",
   "execution_count": null,
   "id": "7283ee59",
   "metadata": {},
   "outputs": [],
   "source": [
    "Xtest['Probability'] = pred[:,1]\n",
    "Xtest['Id'] = range(1,101504)"
   ]
  },
  {
   "cell_type": "code",
   "execution_count": null,
   "id": "c5fae07d",
   "metadata": {},
   "outputs": [],
   "source": [
    "Xtest[['Id','Probability']].to_csv('DataSet/submission_14.csv',index=False)"
   ]
  },
  {
   "cell_type": "code",
   "execution_count": null,
   "id": "38a47779",
   "metadata": {},
   "outputs": [],
   "source": []
  }
 ],
 "metadata": {
  "kernelspec": {
   "display_name": "Python 3 (ipykernel)",
   "language": "python",
   "name": "python3"
  },
  "language_info": {
   "codemirror_mode": {
    "name": "ipython",
    "version": 3
   },
   "file_extension": ".py",
   "mimetype": "text/x-python",
   "name": "python",
   "nbconvert_exporter": "python",
   "pygments_lexer": "ipython3",
   "version": "3.9.13"
  }
 },
 "nbformat": 4,
 "nbformat_minor": 5
}
