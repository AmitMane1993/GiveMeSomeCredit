{
 "cells": [
  {
   "cell_type": "code",
   "execution_count": 1,
   "id": "b9393780",
   "metadata": {},
   "outputs": [],
   "source": [
    "import pandas as pd\n",
    "import numpy as np\n",
    "import configparser"
   ]
  },
  {
   "cell_type": "code",
   "execution_count": 2,
   "id": "92ef52cc",
   "metadata": {},
   "outputs": [],
   "source": [
    "from Adjuct_Memory import memoryManager\n",
    "from Scripts.Final_script import *"
   ]
  },
  {
   "cell_type": "code",
   "execution_count": 5,
   "id": "063f4912",
   "metadata": {},
   "outputs": [
    {
     "data": {
      "text/plain": [
       "['Config/config.ini']"
      ]
     },
     "execution_count": 5,
     "metadata": {},
     "output_type": "execute_result"
    }
   ],
   "source": [
    "config = configparser.ConfigParser()\n",
    "config.read(r'Config/config.ini')"
   ]
  },
  {
   "cell_type": "code",
   "execution_count": 6,
   "id": "fecad548",
   "metadata": {},
   "outputs": [
    {
     "data": {
      "text/html": [
       "<div>\n",
       "<style scoped>\n",
       "    .dataframe tbody tr th:only-of-type {\n",
       "        vertical-align: middle;\n",
       "    }\n",
       "\n",
       "    .dataframe tbody tr th {\n",
       "        vertical-align: top;\n",
       "    }\n",
       "\n",
       "    .dataframe thead th {\n",
       "        text-align: right;\n",
       "    }\n",
       "</style>\n",
       "<table border=\"1\" class=\"dataframe\">\n",
       "  <thead>\n",
       "    <tr style=\"text-align: right;\">\n",
       "      <th></th>\n",
       "      <th>Unnamed: 0</th>\n",
       "      <th>SeriousDlqin2yrs</th>\n",
       "      <th>RevolvingUtilizationOfUnsecuredLines</th>\n",
       "      <th>age</th>\n",
       "      <th>NumberOfTime30-59DaysPastDueNotWorse</th>\n",
       "      <th>DebtRatio</th>\n",
       "      <th>MonthlyIncome</th>\n",
       "      <th>NumberOfOpenCreditLinesAndLoans</th>\n",
       "      <th>NumberOfTimes90DaysLate</th>\n",
       "      <th>NumberRealEstateLoansOrLines</th>\n",
       "      <th>NumberOfTime60-89DaysPastDueNotWorse</th>\n",
       "      <th>NumberOfDependents</th>\n",
       "    </tr>\n",
       "  </thead>\n",
       "  <tbody>\n",
       "    <tr>\n",
       "      <th>0</th>\n",
       "      <td>1</td>\n",
       "      <td>1</td>\n",
       "      <td>0.766127</td>\n",
       "      <td>45</td>\n",
       "      <td>2</td>\n",
       "      <td>0.802982</td>\n",
       "      <td>9120.0</td>\n",
       "      <td>13</td>\n",
       "      <td>0</td>\n",
       "      <td>6</td>\n",
       "      <td>0</td>\n",
       "      <td>2.0</td>\n",
       "    </tr>\n",
       "    <tr>\n",
       "      <th>1</th>\n",
       "      <td>2</td>\n",
       "      <td>0</td>\n",
       "      <td>0.957151</td>\n",
       "      <td>40</td>\n",
       "      <td>0</td>\n",
       "      <td>0.121876</td>\n",
       "      <td>2600.0</td>\n",
       "      <td>4</td>\n",
       "      <td>0</td>\n",
       "      <td>0</td>\n",
       "      <td>0</td>\n",
       "      <td>1.0</td>\n",
       "    </tr>\n",
       "    <tr>\n",
       "      <th>2</th>\n",
       "      <td>3</td>\n",
       "      <td>0</td>\n",
       "      <td>0.658180</td>\n",
       "      <td>38</td>\n",
       "      <td>1</td>\n",
       "      <td>0.085113</td>\n",
       "      <td>3042.0</td>\n",
       "      <td>2</td>\n",
       "      <td>1</td>\n",
       "      <td>0</td>\n",
       "      <td>0</td>\n",
       "      <td>0.0</td>\n",
       "    </tr>\n",
       "    <tr>\n",
       "      <th>3</th>\n",
       "      <td>4</td>\n",
       "      <td>0</td>\n",
       "      <td>0.233810</td>\n",
       "      <td>30</td>\n",
       "      <td>0</td>\n",
       "      <td>0.036050</td>\n",
       "      <td>3300.0</td>\n",
       "      <td>5</td>\n",
       "      <td>0</td>\n",
       "      <td>0</td>\n",
       "      <td>0</td>\n",
       "      <td>0.0</td>\n",
       "    </tr>\n",
       "    <tr>\n",
       "      <th>4</th>\n",
       "      <td>5</td>\n",
       "      <td>0</td>\n",
       "      <td>0.907239</td>\n",
       "      <td>49</td>\n",
       "      <td>1</td>\n",
       "      <td>0.024926</td>\n",
       "      <td>63588.0</td>\n",
       "      <td>7</td>\n",
       "      <td>0</td>\n",
       "      <td>1</td>\n",
       "      <td>0</td>\n",
       "      <td>0.0</td>\n",
       "    </tr>\n",
       "  </tbody>\n",
       "</table>\n",
       "</div>"
      ],
      "text/plain": [
       "   Unnamed: 0  SeriousDlqin2yrs  RevolvingUtilizationOfUnsecuredLines  age  \\\n",
       "0           1                 1                              0.766127   45   \n",
       "1           2                 0                              0.957151   40   \n",
       "2           3                 0                              0.658180   38   \n",
       "3           4                 0                              0.233810   30   \n",
       "4           5                 0                              0.907239   49   \n",
       "\n",
       "   NumberOfTime30-59DaysPastDueNotWorse  DebtRatio  MonthlyIncome  \\\n",
       "0                                     2   0.802982         9120.0   \n",
       "1                                     0   0.121876         2600.0   \n",
       "2                                     1   0.085113         3042.0   \n",
       "3                                     0   0.036050         3300.0   \n",
       "4                                     1   0.024926        63588.0   \n",
       "\n",
       "   NumberOfOpenCreditLinesAndLoans  NumberOfTimes90DaysLate  \\\n",
       "0                               13                        0   \n",
       "1                                4                        0   \n",
       "2                                2                        1   \n",
       "3                                5                        0   \n",
       "4                                7                        0   \n",
       "\n",
       "   NumberRealEstateLoansOrLines  NumberOfTime60-89DaysPastDueNotWorse  \\\n",
       "0                             6                                     0   \n",
       "1                             0                                     0   \n",
       "2                             0                                     0   \n",
       "3                             0                                     0   \n",
       "4                             1                                     0   \n",
       "\n",
       "   NumberOfDependents  \n",
       "0                 2.0  \n",
       "1                 1.0  \n",
       "2                 0.0  \n",
       "3                 0.0  \n",
       "4                 0.0  "
      ]
     },
     "execution_count": 6,
     "metadata": {},
     "output_type": "execute_result"
    }
   ],
   "source": [
    "# load dataset\n",
    "data = pd.read_csv(config['Training_Data']['file_path'] +'\\\\'+ config['Training_Data']['file_name'])\n",
    "data_t = pd.read_csv(config['Testing_Data']['file_path'] +'\\\\'+ config['Testing_Data']['file_name'])\n",
    "data.head()"
   ]
  },
  {
   "cell_type": "markdown",
   "id": "e79b6518",
   "metadata": {},
   "source": [
    "# Dropping unwanted data from both train and test dataset"
   ]
  },
  {
   "cell_type": "code",
   "execution_count": 7,
   "id": "38fe7ff1",
   "metadata": {},
   "outputs": [
    {
     "data": {
      "text/plain": [
       "((150000, 11), (101503, 11))"
      ]
     },
     "execution_count": 7,
     "metadata": {},
     "output_type": "execute_result"
    }
   ],
   "source": [
    "# drop id, it is just a number given to identify each house\n",
    "data.drop(['Unnamed: 0'], axis=1, inplace=True)\n",
    "data_t.drop(['Unnamed: 0'], axis=1, inplace=True)\n",
    "data.shape,data_t.shape"
   ]
  },
  {
   "cell_type": "markdown",
   "id": "9499cb5d",
   "metadata": {},
   "source": [
    "# Reducing the dataset size"
   ]
  },
  {
   "cell_type": "code",
   "execution_count": 8,
   "id": "c3832f6c",
   "metadata": {},
   "outputs": [
    {
     "name": "stdout",
     "output_type": "stream",
     "text": [
      "Memory usage of dataframe is 12.59 MB\n",
      "Memory usage after optimization is: 2.72 MB\n",
      "Decreased by 78.4%\n",
      "Memory usage of dataframe is 8.52 MB\n",
      "Memory usage after optimization is: 2.52 MB\n",
      "Decreased by 70.5%\n"
     ]
    }
   ],
   "source": [
    "train_data = memoryManager.reduce_mem_usage(data)\n",
    "test_data = memoryManager.reduce_mem_usage(data_t)"
   ]
  },
  {
   "cell_type": "code",
   "execution_count": 13,
   "id": "2923b14f",
   "metadata": {},
   "outputs": [],
   "source": [
    "train_data = pd.concat([dataPreparation(train_data),train_data[['SeriousDlqin2yrs']]],axis=1)"
   ]
  },
  {
   "cell_type": "code",
   "execution_count": 66,
   "id": "9ca095c0",
   "metadata": {},
   "outputs": [
    {
     "data": {
      "text/plain": [
       "Index(['RevolvingUtilizationOfUnsecuredLines', 'Weighted_Delay_sum', 'age_cat',\n",
       "       'MonthlyIncome', 'DebtRatio', 'NumberOfDependentsTR',\n",
       "       'NumberRealEstateLoansOrLinesTR', 'NumberOfOpenCreditLinesAndLoansTR',\n",
       "       'SeriousDlqin2yrs'],\n",
       "      dtype='object')"
      ]
     },
     "execution_count": 66,
     "metadata": {},
     "output_type": "execute_result"
    }
   ],
   "source": [
    "train_data.columns"
   ]
  },
  {
   "cell_type": "code",
   "execution_count": 18,
   "id": "1092b587",
   "metadata": {},
   "outputs": [
    {
     "data": {
      "text/html": [
       "<div>\n",
       "<style scoped>\n",
       "    .dataframe tbody tr th:only-of-type {\n",
       "        vertical-align: middle;\n",
       "    }\n",
       "\n",
       "    .dataframe tbody tr th {\n",
       "        vertical-align: top;\n",
       "    }\n",
       "\n",
       "    .dataframe thead th {\n",
       "        text-align: right;\n",
       "    }\n",
       "</style>\n",
       "<table border=\"1\" class=\"dataframe\">\n",
       "  <thead>\n",
       "    <tr style=\"text-align: right;\">\n",
       "      <th></th>\n",
       "      <th>RevolvingUtilizationOfUnsecuredLines</th>\n",
       "      <th>Weighted_Delay_sum</th>\n",
       "      <th>age_cat</th>\n",
       "      <th>MonthlyIncome</th>\n",
       "      <th>DebtRatio</th>\n",
       "      <th>NumberOfDependentsTR</th>\n",
       "      <th>NumberRealEstateLoansOrLinesTR</th>\n",
       "      <th>NumberOfOpenCreditLinesAndLoansTR</th>\n",
       "      <th>SeriousDlqin2yrs</th>\n",
       "    </tr>\n",
       "  </thead>\n",
       "  <tbody>\n",
       "    <tr>\n",
       "      <th>0</th>\n",
       "      <td>0.766113</td>\n",
       "      <td>0.4</td>\n",
       "      <td>3</td>\n",
       "      <td>9120.0</td>\n",
       "      <td>0.802982</td>\n",
       "      <td>2.0</td>\n",
       "      <td>6</td>\n",
       "      <td>13</td>\n",
       "      <td>1</td>\n",
       "    </tr>\n",
       "    <tr>\n",
       "      <th>1</th>\n",
       "      <td>0.957031</td>\n",
       "      <td>0.0</td>\n",
       "      <td>3</td>\n",
       "      <td>2600.0</td>\n",
       "      <td>0.121876</td>\n",
       "      <td>1.0</td>\n",
       "      <td>0</td>\n",
       "      <td>4</td>\n",
       "      <td>0</td>\n",
       "    </tr>\n",
       "    <tr>\n",
       "      <th>2</th>\n",
       "      <td>0.658203</td>\n",
       "      <td>0.7</td>\n",
       "      <td>3</td>\n",
       "      <td>3042.0</td>\n",
       "      <td>0.085113</td>\n",
       "      <td>0.0</td>\n",
       "      <td>0</td>\n",
       "      <td>2</td>\n",
       "      <td>0</td>\n",
       "    </tr>\n",
       "    <tr>\n",
       "      <th>3</th>\n",
       "      <td>0.233765</td>\n",
       "      <td>0.0</td>\n",
       "      <td>2</td>\n",
       "      <td>3300.0</td>\n",
       "      <td>0.036050</td>\n",
       "      <td>0.0</td>\n",
       "      <td>0</td>\n",
       "      <td>5</td>\n",
       "      <td>0</td>\n",
       "    </tr>\n",
       "    <tr>\n",
       "      <th>4</th>\n",
       "      <td>0.907227</td>\n",
       "      <td>0.2</td>\n",
       "      <td>3</td>\n",
       "      <td>63588.0</td>\n",
       "      <td>0.024926</td>\n",
       "      <td>0.0</td>\n",
       "      <td>1</td>\n",
       "      <td>7</td>\n",
       "      <td>0</td>\n",
       "    </tr>\n",
       "    <tr>\n",
       "      <th>...</th>\n",
       "      <td>...</td>\n",
       "      <td>...</td>\n",
       "      <td>...</td>\n",
       "      <td>...</td>\n",
       "      <td>...</td>\n",
       "      <td>...</td>\n",
       "      <td>...</td>\n",
       "      <td>...</td>\n",
       "      <td>...</td>\n",
       "    </tr>\n",
       "    <tr>\n",
       "      <th>149995</th>\n",
       "      <td>0.040680</td>\n",
       "      <td>0.0</td>\n",
       "      <td>4</td>\n",
       "      <td>2100.0</td>\n",
       "      <td>0.225131</td>\n",
       "      <td>0.0</td>\n",
       "      <td>1</td>\n",
       "      <td>4</td>\n",
       "      <td>0</td>\n",
       "    </tr>\n",
       "    <tr>\n",
       "      <th>149996</th>\n",
       "      <td>0.299805</td>\n",
       "      <td>0.0</td>\n",
       "      <td>3</td>\n",
       "      <td>5584.0</td>\n",
       "      <td>0.716562</td>\n",
       "      <td>2.0</td>\n",
       "      <td>1</td>\n",
       "      <td>4</td>\n",
       "      <td>0</td>\n",
       "    </tr>\n",
       "    <tr>\n",
       "      <th>149997</th>\n",
       "      <td>0.246094</td>\n",
       "      <td>0.0</td>\n",
       "      <td>3</td>\n",
       "      <td>NaN</td>\n",
       "      <td>3870.000000</td>\n",
       "      <td>0.0</td>\n",
       "      <td>1</td>\n",
       "      <td>18</td>\n",
       "      <td>0</td>\n",
       "    </tr>\n",
       "    <tr>\n",
       "      <th>149998</th>\n",
       "      <td>0.000000</td>\n",
       "      <td>0.0</td>\n",
       "      <td>2</td>\n",
       "      <td>5716.0</td>\n",
       "      <td>0.000000</td>\n",
       "      <td>0.0</td>\n",
       "      <td>0</td>\n",
       "      <td>4</td>\n",
       "      <td>0</td>\n",
       "    </tr>\n",
       "    <tr>\n",
       "      <th>149999</th>\n",
       "      <td>0.850098</td>\n",
       "      <td>0.0</td>\n",
       "      <td>4</td>\n",
       "      <td>8158.0</td>\n",
       "      <td>0.249908</td>\n",
       "      <td>0.0</td>\n",
       "      <td>2</td>\n",
       "      <td>8</td>\n",
       "      <td>0</td>\n",
       "    </tr>\n",
       "  </tbody>\n",
       "</table>\n",
       "<p>150000 rows × 9 columns</p>\n",
       "</div>"
      ],
      "text/plain": [
       "        RevolvingUtilizationOfUnsecuredLines  Weighted_Delay_sum age_cat  \\\n",
       "0                                   0.766113                 0.4       3   \n",
       "1                                   0.957031                 0.0       3   \n",
       "2                                   0.658203                 0.7       3   \n",
       "3                                   0.233765                 0.0       2   \n",
       "4                                   0.907227                 0.2       3   \n",
       "...                                      ...                 ...     ...   \n",
       "149995                              0.040680                 0.0       4   \n",
       "149996                              0.299805                 0.0       3   \n",
       "149997                              0.246094                 0.0       3   \n",
       "149998                              0.000000                 0.0       2   \n",
       "149999                              0.850098                 0.0       4   \n",
       "\n",
       "        MonthlyIncome    DebtRatio  NumberOfDependentsTR  \\\n",
       "0              9120.0     0.802982                   2.0   \n",
       "1              2600.0     0.121876                   1.0   \n",
       "2              3042.0     0.085113                   0.0   \n",
       "3              3300.0     0.036050                   0.0   \n",
       "4             63588.0     0.024926                   0.0   \n",
       "...               ...          ...                   ...   \n",
       "149995         2100.0     0.225131                   0.0   \n",
       "149996         5584.0     0.716562                   2.0   \n",
       "149997            NaN  3870.000000                   0.0   \n",
       "149998         5716.0     0.000000                   0.0   \n",
       "149999         8158.0     0.249908                   0.0   \n",
       "\n",
       "        NumberRealEstateLoansOrLinesTR  NumberOfOpenCreditLinesAndLoansTR  \\\n",
       "0                                    6                                 13   \n",
       "1                                    0                                  4   \n",
       "2                                    0                                  2   \n",
       "3                                    0                                  5   \n",
       "4                                    1                                  7   \n",
       "...                                ...                                ...   \n",
       "149995                               1                                  4   \n",
       "149996                               1                                  4   \n",
       "149997                               1                                 18   \n",
       "149998                               0                                  4   \n",
       "149999                               2                                  8   \n",
       "\n",
       "        SeriousDlqin2yrs  \n",
       "0                      1  \n",
       "1                      0  \n",
       "2                      0  \n",
       "3                      0  \n",
       "4                      0  \n",
       "...                  ...  \n",
       "149995                 0  \n",
       "149996                 0  \n",
       "149997                 0  \n",
       "149998                 0  \n",
       "149999                 0  \n",
       "\n",
       "[150000 rows x 9 columns]"
      ]
     },
     "execution_count": 18,
     "metadata": {},
     "output_type": "execute_result"
    }
   ],
   "source": [
    "train_data"
   ]
  },
  {
   "cell_type": "code",
   "execution_count": 14,
   "id": "6dbd77d4",
   "metadata": {},
   "outputs": [],
   "source": [
    "test_data = dataPreparation(test_data)"
   ]
  },
  {
   "cell_type": "markdown",
   "id": "f569ef68",
   "metadata": {},
   "source": [
    "# Modelling"
   ]
  },
  {
   "cell_type": "code",
   "execution_count": 16,
   "id": "be65157f",
   "metadata": {},
   "outputs": [],
   "source": [
    "import pickle\n",
    "from lightgbm import LGBMClassifier\n",
    "from sklearn.preprocessing import StandardScaler\n",
    "from sklearn.pipeline import Pipeline, make_pipeline"
   ]
  },
  {
   "cell_type": "code",
   "execution_count": 20,
   "id": "54425681",
   "metadata": {},
   "outputs": [],
   "source": [
    "X = train_data.drop('SeriousDlqin2yrs',axis=1)\n",
    "y = train_data.SeriousDlqin2yrs\n",
    "\n",
    "Xtest = test_data"
   ]
  },
  {
   "cell_type": "code",
   "execution_count": 21,
   "id": "cc909506",
   "metadata": {},
   "outputs": [],
   "source": [
    "sc = StandardScaler()\n",
    "X_transformed = sc.fit_transform(X)\n",
    "Xtest_transformed = sc.transform(Xtest)"
   ]
  },
  {
   "cell_type": "code",
   "execution_count": 22,
   "id": "4b5fb28d",
   "metadata": {},
   "outputs": [
    {
     "data": {
      "text/plain": [
       "(150000, 8)"
      ]
     },
     "execution_count": 22,
     "metadata": {},
     "output_type": "execute_result"
    }
   ],
   "source": [
    "X_transformed.shape"
   ]
  },
  {
   "cell_type": "code",
   "execution_count": 23,
   "id": "9ca52308",
   "metadata": {},
   "outputs": [
    {
     "data": {
      "text/plain": [
       "(101503, 8)"
      ]
     },
     "execution_count": 23,
     "metadata": {},
     "output_type": "execute_result"
    }
   ],
   "source": [
    "Xtest_transformed.shape"
   ]
  },
  {
   "cell_type": "code",
   "execution_count": 24,
   "id": "e5ef1961",
   "metadata": {},
   "outputs": [],
   "source": [
    "model_lgbm = LGBMClassifier(class_weight={1:0.55,0:0.45},random_state=0)"
   ]
  },
  {
   "cell_type": "code",
   "execution_count": 25,
   "id": "4cae8d94",
   "metadata": {},
   "outputs": [],
   "source": [
    "model_lgbm = model_lgbm.fit(X_transformed,y)"
   ]
  },
  {
   "cell_type": "code",
   "execution_count": 26,
   "id": "28d09c3c",
   "metadata": {},
   "outputs": [
    {
     "data": {
      "text/plain": [
       "array([[0.9278189 , 0.0721811 ],\n",
       "       [0.93678992, 0.06321008],\n",
       "       [0.98168607, 0.01831393],\n",
       "       ...,\n",
       "       [0.99446509, 0.00553491],\n",
       "       [0.89371484, 0.10628516],\n",
       "       [0.9513848 , 0.0486152 ]])"
      ]
     },
     "execution_count": 26,
     "metadata": {},
     "output_type": "execute_result"
    }
   ],
   "source": [
    "model_lgbm_pred = model_lgbm.predict_proba(Xtest_transformed)\n",
    "model_lgbm_pred"
   ]
  },
  {
   "cell_type": "markdown",
   "id": "8360a318",
   "metadata": {},
   "source": [
    "# Modelling using Pipeline"
   ]
  },
  {
   "cell_type": "code",
   "execution_count": 30,
   "id": "6f498411",
   "metadata": {},
   "outputs": [],
   "source": [
    "pipe = make_pipeline(StandardScaler(), LGBMClassifier(class_weight={1:0.55,0:0.45},random_state=0))"
   ]
  },
  {
   "cell_type": "code",
   "execution_count": 31,
   "id": "6617eac3",
   "metadata": {},
   "outputs": [],
   "source": [
    "pipe_model = pipe.fit(X,y)"
   ]
  },
  {
   "cell_type": "code",
   "execution_count": 32,
   "id": "c62a8a12",
   "metadata": {
    "scrolled": true
   },
   "outputs": [
    {
     "data": {
      "text/plain": [
       "array([[0.9278189 , 0.0721811 ],\n",
       "       [0.93678992, 0.06321008],\n",
       "       [0.98168607, 0.01831393],\n",
       "       ...,\n",
       "       [0.99446509, 0.00553491],\n",
       "       [0.89371484, 0.10628516],\n",
       "       [0.9513848 , 0.0486152 ]])"
      ]
     },
     "execution_count": 32,
     "metadata": {},
     "output_type": "execute_result"
    }
   ],
   "source": [
    "pipe_model_pred = pipe.predict_proba(Xtest)\n",
    "pipe_model_pred"
   ]
  },
  {
   "cell_type": "code",
   "execution_count": 33,
   "id": "79146df6",
   "metadata": {},
   "outputs": [],
   "source": [
    "filename = r'Model\\finalized_model.sav'\n",
    "pickle.dump(pipe_model, open(filename, 'wb'))"
   ]
  },
  {
   "cell_type": "markdown",
   "id": "5a0420c5",
   "metadata": {},
   "source": [
    "# Modelling with MlFlow (MLOps)"
   ]
  },
  {
   "cell_type": "code",
   "execution_count": 39,
   "id": "527d41b3",
   "metadata": {},
   "outputs": [],
   "source": [
    "import mlflow"
   ]
  },
  {
   "cell_type": "code",
   "execution_count": 40,
   "id": "6b5ca476",
   "metadata": {},
   "outputs": [
    {
     "name": "stdout",
     "output_type": "stream",
     "text": [
      "tracking URI: 'http://127.0.0.1:5000'\n"
     ]
    }
   ],
   "source": [
    "mlflow.set_tracking_uri(\"http://127.0.0.1:5000\")\n",
    "print(f\"tracking URI: '{mlflow.get_tracking_uri()}'\")"
   ]
  },
  {
   "cell_type": "code",
   "execution_count": 42,
   "id": "dd2bbc45",
   "metadata": {},
   "outputs": [
    {
     "data": {
      "text/plain": [
       "[<Experiment: artifact_location='artifact-root/0', experiment_id='0', lifecycle_stage='active', name='Default', tags={}>]"
      ]
     },
     "execution_count": 42,
     "metadata": {},
     "output_type": "execute_result"
    }
   ],
   "source": [
    "mlflow.list_experiments()"
   ]
  },
  {
   "cell_type": "code",
   "execution_count": 44,
   "id": "35dd3970",
   "metadata": {},
   "outputs": [
    {
     "name": "stderr",
     "output_type": "stream",
     "text": [
      "C:\\Users\\meet9\\anaconda3\\lib\\site-packages\\_distutils_hack\\__init__.py:30: UserWarning: Setuptools is replacing distutils.\n",
      "  warnings.warn(\"Setuptools is replacing distutils.\")\n"
     ]
    },
    {
     "name": "stdout",
     "output_type": "stream",
     "text": [
      "default artifacts URI: 'artifact-root/1/e8c1f5a3a43e4310884d0591daae4f57/artifacts'\n"
     ]
    }
   ],
   "source": [
    "from sklearn.metrics import accuracy_score,f1_score\n",
    "\n",
    "mlflow.set_experiment(\"Project_CreditScoring\")\n",
    "\n",
    "with mlflow.start_run():\n",
    "\n",
    "    pipe = make_pipeline(StandardScaler(), LGBMClassifier(class_weight={1:0.55,0:0.45},random_state=0))\n",
    "    pipe_model = pipe.fit(X,y)\n",
    "    \n",
    "    y_pred = pipe_model.predict(Xtest)\n",
    "    \n",
    "    mlflow.sklearn.log_model(pipe_model, artifact_path=\"models\")\n",
    "    print(f\"default artifacts URI: '{mlflow.get_artifact_uri()}'\")"
   ]
  },
  {
   "cell_type": "markdown",
   "id": "f0f0540d",
   "metadata": {},
   "source": [
    "### Interacting with the model registry"
   ]
  },
  {
   "cell_type": "code",
   "execution_count": 45,
   "id": "aa805012",
   "metadata": {},
   "outputs": [],
   "source": [
    "from mlflow.tracking import MlflowClient\n",
    "client = MlflowClient(\"http://127.0.0.1:5000\")"
   ]
  },
  {
   "cell_type": "code",
   "execution_count": 46,
   "id": "2bf6578b",
   "metadata": {},
   "outputs": [
    {
     "data": {
      "text/plain": [
       "[]"
      ]
     },
     "execution_count": 46,
     "metadata": {},
     "output_type": "execute_result"
    }
   ],
   "source": [
    "client.list_registered_models()"
   ]
  },
  {
   "cell_type": "code",
   "execution_count": 51,
   "id": "a41e2886",
   "metadata": {},
   "outputs": [
    {
     "data": {
      "text/plain": [
       "<RunInfo: artifact_uri='artifact-root/1/e8c1f5a3a43e4310884d0591daae4f57/artifacts', end_time=1670764605032, experiment_id='1', lifecycle_stage='active', run_id='e8c1f5a3a43e4310884d0591daae4f57', run_uuid='e8c1f5a3a43e4310884d0591daae4f57', start_time=1670764582311, status='FINISHED', user_id='meet9'>"
      ]
     },
     "execution_count": 51,
     "metadata": {},
     "output_type": "execute_result"
    }
   ],
   "source": [
    "client.list_run_infos(experiment_id='1')[0]"
   ]
  },
  {
   "cell_type": "code",
   "execution_count": 48,
   "id": "833de685",
   "metadata": {},
   "outputs": [
    {
     "data": {
      "text/plain": [
       "'e8c1f5a3a43e4310884d0591daae4f57'"
      ]
     },
     "execution_count": 48,
     "metadata": {},
     "output_type": "execute_result"
    }
   ],
   "source": [
    "run_id = client.list_run_infos(experiment_id='1')[0].run_id\n",
    "run_id"
   ]
  },
  {
   "cell_type": "code",
   "execution_count": 49,
   "id": "2c18d78b",
   "metadata": {},
   "outputs": [
    {
     "name": "stderr",
     "output_type": "stream",
     "text": [
      "Successfully registered model 'PredictProbofDefaulters'.\n",
      "2022/12/11 18:48:37 INFO mlflow.tracking._model_registry.client: Waiting up to 300 seconds for model version to finish creation.                     Model name: PredictProbofDefaulters, version 1\n",
      "Created version '1' of model 'PredictProbofDefaulters'.\n"
     ]
    },
    {
     "data": {
      "text/plain": [
       "<ModelVersion: creation_timestamp=1670764717650, current_stage='None', description='', last_updated_timestamp=1670764717650, name='PredictProbofDefaulters', run_id='e8c1f5a3a43e4310884d0591daae4f57', run_link='', source='artifact-root/1/e8c1f5a3a43e4310884d0591daae4f57/artifacts/models', status='READY', status_message='', tags={}, user_id='', version='1'>"
      ]
     },
     "execution_count": 49,
     "metadata": {},
     "output_type": "execute_result"
    }
   ],
   "source": [
    "mlflow.register_model(\n",
    "    model_uri=f\"runs:/{run_id}/models\",\n",
    "    name='PredictProbofDefaulters'\n",
    ")"
   ]
  },
  {
   "cell_type": "code",
   "execution_count": 59,
   "id": "ecec14b9",
   "metadata": {},
   "outputs": [
    {
     "data": {
      "text/plain": [
       "(array([0, 1], dtype=int8), array([98624,  2879], dtype=int64))"
      ]
     },
     "execution_count": 59,
     "metadata": {},
     "output_type": "execute_result"
    }
   ],
   "source": [
    "logged_model = 'runs:/e8c1f5a3a43e4310884d0591daae4f57/models'\n",
    "\n",
    "# Load model as a PyFuncModel.\n",
    "loaded_model = mlflow.pyfunc.load_model(logged_model)\n",
    "\n",
    "# Predict on a Pandas DataFrame.\n",
    "np.unique(loaded_model.predict(pd.DataFrame(Xtest)),return_counts=True)"
   ]
  },
  {
   "cell_type": "code",
   "execution_count": 58,
   "id": "40427bb3",
   "metadata": {},
   "outputs": [
    {
     "data": {
      "text/plain": [
       "(array([0, 1], dtype=int8), array([98624,  2879], dtype=int64))"
      ]
     },
     "execution_count": 58,
     "metadata": {},
     "output_type": "execute_result"
    }
   ],
   "source": [
    "np.unique(pipe.predict(Xtest),return_counts=True)"
   ]
  },
  {
   "cell_type": "markdown",
   "id": "21bc9c1d",
   "metadata": {},
   "source": [
    "# Other way round "
   ]
  },
  {
   "cell_type": "code",
   "execution_count": 62,
   "id": "2e0f06a2",
   "metadata": {},
   "outputs": [],
   "source": [
    "model_path = r'artifact-root/1/e8c1f5a3a43e4310884d0591daae4f57/artifacts/models'"
   ]
  },
  {
   "cell_type": "code",
   "execution_count": 65,
   "id": "cc988557",
   "metadata": {},
   "outputs": [
    {
     "data": {
      "text/plain": [
       "(array([0, 1], dtype=int8), array([98624,  2879], dtype=int64))"
      ]
     },
     "execution_count": 65,
     "metadata": {},
     "output_type": "execute_result"
    }
   ],
   "source": [
    "loaded_model = mlflow.pyfunc.load_model(model_path)\n",
    "# Predict on a Pandas DataFrame.\n",
    "np.unique(loaded_model.predict(pd.DataFrame(Xtest)),return_counts=True)"
   ]
  }
 ],
 "metadata": {
  "kernelspec": {
   "display_name": "Python 3 (ipykernel)",
   "language": "python",
   "name": "python3"
  },
  "language_info": {
   "codemirror_mode": {
    "name": "ipython",
    "version": 3
   },
   "file_extension": ".py",
   "mimetype": "text/x-python",
   "name": "python",
   "nbconvert_exporter": "python",
   "pygments_lexer": "ipython3",
   "version": "3.9.12"
  }
 },
 "nbformat": 4,
 "nbformat_minor": 5
}
