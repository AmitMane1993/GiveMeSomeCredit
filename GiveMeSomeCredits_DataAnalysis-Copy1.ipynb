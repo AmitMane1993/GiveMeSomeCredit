{
 "cells": [
  {
   "cell_type": "code",
   "execution_count": 33,
   "id": "d76ebafe",
   "metadata": {},
   "outputs": [],
   "source": [
    "import pandas as pd\n",
    "import numpy as np\n",
    "import matplotlib.pyplot as plt\n",
    "import seaborn as sns\n",
    "import scipy.stats as stats\n",
    "import configparser\n",
    "import klib\n",
    "import warnings\n",
    "warnings.filterwarnings('ignore')"
   ]
  },
  {
   "cell_type": "code",
   "execution_count": 34,
   "id": "4d52ffb5",
   "metadata": {},
   "outputs": [],
   "source": [
    "from Adjuct_Memory import memoryManager"
   ]
  },
  {
   "cell_type": "code",
   "execution_count": 35,
   "id": "47942453",
   "metadata": {},
   "outputs": [
    {
     "data": {
      "text/plain": [
       "['config.ini']"
      ]
     },
     "execution_count": 35,
     "metadata": {},
     "output_type": "execute_result"
    }
   ],
   "source": [
    "config = configparser.ConfigParser()\n",
    "config.read('config.ini')"
   ]
  },
  {
   "cell_type": "markdown",
   "id": "fa2c24a9",
   "metadata": {},
   "source": [
    "# Data Description"
   ]
  },
  {
   "cell_type": "markdown",
   "id": "980113ca",
   "metadata": {},
   "source": [
    "| Variable Name\t| Description\t| Type\n",
    "| ---\t| ---\t| ---\n",
    "|SeriousDlqin2yrs|\tPerson experienced 90 days past due delinquency or worse \t|Y/N\n",
    "RevolvingUtilizationOfUnsecuredLines|\tTotal balance on credit cards and personal lines of credit except real estate and no installment debt like car loans divided by the sum of credit limits|\tpercentage\n",
    "age|\tAge of borrower in years\t|integer\n",
    "NumberOfTime30-59DaysPastDueNotWorse\t|Number of times borrower has been 30-59 days past due but no worse in the last 2 years.\t|integer\n",
    "DebtRatio|\tMonthly debt payments, alimony,living costs divided by monthy gross income\t|percentage\n",
    "MonthlyIncome|\tMonthly income\t|real\n",
    "NumberOfOpenCreditLinesAndLoans\t|Number of Open loans (installment like car loan or mortgage) and Lines of credit (e.g. credit cards)|\tinteger\n",
    "NumberOfTimes90DaysLate|\tNumber of times borrower has been 90 days or more past due.|\tinteger\n",
    "NumberRealEstateLoansOrLines\t|Number of mortgage and real estate loans including home equity lines of credit\t|integer\n",
    "NumberOfTime60-89DaysPastDueNotWorse|\tNumber of times borrower has been 60-89 days past due but no worse in the last 2 years.\t|integer\n",
    "NumberOfDependents\t|Number of dependents in family excluding themselves (spouse, children etc.)|\tinteger\n"
   ]
  },
  {
   "cell_type": "markdown",
   "id": "61c0eef5",
   "metadata": {},
   "source": [
    "# Loading data set"
   ]
  },
  {
   "cell_type": "code",
   "execution_count": 36,
   "id": "9c79cec1",
   "metadata": {
    "scrolled": true
   },
   "outputs": [
    {
     "data": {
      "text/html": [
       "<div>\n",
       "<style scoped>\n",
       "    .dataframe tbody tr th:only-of-type {\n",
       "        vertical-align: middle;\n",
       "    }\n",
       "\n",
       "    .dataframe tbody tr th {\n",
       "        vertical-align: top;\n",
       "    }\n",
       "\n",
       "    .dataframe thead th {\n",
       "        text-align: right;\n",
       "    }\n",
       "</style>\n",
       "<table border=\"1\" class=\"dataframe\">\n",
       "  <thead>\n",
       "    <tr style=\"text-align: right;\">\n",
       "      <th></th>\n",
       "      <th>Unnamed: 0</th>\n",
       "      <th>SeriousDlqin2yrs</th>\n",
       "      <th>RevolvingUtilizationOfUnsecuredLines</th>\n",
       "      <th>age</th>\n",
       "      <th>NumberOfTime30-59DaysPastDueNotWorse</th>\n",
       "      <th>DebtRatio</th>\n",
       "      <th>MonthlyIncome</th>\n",
       "      <th>NumberOfOpenCreditLinesAndLoans</th>\n",
       "      <th>NumberOfTimes90DaysLate</th>\n",
       "      <th>NumberRealEstateLoansOrLines</th>\n",
       "      <th>NumberOfTime60-89DaysPastDueNotWorse</th>\n",
       "      <th>NumberOfDependents</th>\n",
       "    </tr>\n",
       "  </thead>\n",
       "  <tbody>\n",
       "    <tr>\n",
       "      <th>0</th>\n",
       "      <td>1</td>\n",
       "      <td>1</td>\n",
       "      <td>0.766127</td>\n",
       "      <td>45</td>\n",
       "      <td>2</td>\n",
       "      <td>0.802982</td>\n",
       "      <td>9120.0</td>\n",
       "      <td>13</td>\n",
       "      <td>0</td>\n",
       "      <td>6</td>\n",
       "      <td>0</td>\n",
       "      <td>2.0</td>\n",
       "    </tr>\n",
       "    <tr>\n",
       "      <th>1</th>\n",
       "      <td>2</td>\n",
       "      <td>0</td>\n",
       "      <td>0.957151</td>\n",
       "      <td>40</td>\n",
       "      <td>0</td>\n",
       "      <td>0.121876</td>\n",
       "      <td>2600.0</td>\n",
       "      <td>4</td>\n",
       "      <td>0</td>\n",
       "      <td>0</td>\n",
       "      <td>0</td>\n",
       "      <td>1.0</td>\n",
       "    </tr>\n",
       "    <tr>\n",
       "      <th>2</th>\n",
       "      <td>3</td>\n",
       "      <td>0</td>\n",
       "      <td>0.658180</td>\n",
       "      <td>38</td>\n",
       "      <td>1</td>\n",
       "      <td>0.085113</td>\n",
       "      <td>3042.0</td>\n",
       "      <td>2</td>\n",
       "      <td>1</td>\n",
       "      <td>0</td>\n",
       "      <td>0</td>\n",
       "      <td>0.0</td>\n",
       "    </tr>\n",
       "    <tr>\n",
       "      <th>3</th>\n",
       "      <td>4</td>\n",
       "      <td>0</td>\n",
       "      <td>0.233810</td>\n",
       "      <td>30</td>\n",
       "      <td>0</td>\n",
       "      <td>0.036050</td>\n",
       "      <td>3300.0</td>\n",
       "      <td>5</td>\n",
       "      <td>0</td>\n",
       "      <td>0</td>\n",
       "      <td>0</td>\n",
       "      <td>0.0</td>\n",
       "    </tr>\n",
       "    <tr>\n",
       "      <th>4</th>\n",
       "      <td>5</td>\n",
       "      <td>0</td>\n",
       "      <td>0.907239</td>\n",
       "      <td>49</td>\n",
       "      <td>1</td>\n",
       "      <td>0.024926</td>\n",
       "      <td>63588.0</td>\n",
       "      <td>7</td>\n",
       "      <td>0</td>\n",
       "      <td>1</td>\n",
       "      <td>0</td>\n",
       "      <td>0.0</td>\n",
       "    </tr>\n",
       "  </tbody>\n",
       "</table>\n",
       "</div>"
      ],
      "text/plain": [
       "   Unnamed: 0  SeriousDlqin2yrs  RevolvingUtilizationOfUnsecuredLines  age  \\\n",
       "0           1                 1                              0.766127   45   \n",
       "1           2                 0                              0.957151   40   \n",
       "2           3                 0                              0.658180   38   \n",
       "3           4                 0                              0.233810   30   \n",
       "4           5                 0                              0.907239   49   \n",
       "\n",
       "   NumberOfTime30-59DaysPastDueNotWorse  DebtRatio  MonthlyIncome  \\\n",
       "0                                     2   0.802982         9120.0   \n",
       "1                                     0   0.121876         2600.0   \n",
       "2                                     1   0.085113         3042.0   \n",
       "3                                     0   0.036050         3300.0   \n",
       "4                                     1   0.024926        63588.0   \n",
       "\n",
       "   NumberOfOpenCreditLinesAndLoans  NumberOfTimes90DaysLate  \\\n",
       "0                               13                        0   \n",
       "1                                4                        0   \n",
       "2                                2                        1   \n",
       "3                                5                        0   \n",
       "4                                7                        0   \n",
       "\n",
       "   NumberRealEstateLoansOrLines  NumberOfTime60-89DaysPastDueNotWorse  \\\n",
       "0                             6                                     0   \n",
       "1                             0                                     0   \n",
       "2                             0                                     0   \n",
       "3                             0                                     0   \n",
       "4                             1                                     0   \n",
       "\n",
       "   NumberOfDependents  \n",
       "0                 2.0  \n",
       "1                 1.0  \n",
       "2                 0.0  \n",
       "3                 0.0  \n",
       "4                 0.0  "
      ]
     },
     "execution_count": 36,
     "metadata": {},
     "output_type": "execute_result"
    }
   ],
   "source": [
    "# load dataset\n",
    "data = pd.read_csv(config['Training_Data']['file_path'] +'\\\\'+ config['Training_Data']['file_name'])\n",
    "data_t = pd.read_csv(config['Testing_Data']['file_path'] +'\\\\'+ config['Testing_Data']['file_name'])\n",
    "data.head()"
   ]
  },
  {
   "cell_type": "markdown",
   "id": "e79b6518",
   "metadata": {},
   "source": [
    "# Dropping unwanted data from both train and test dataset"
   ]
  },
  {
   "cell_type": "code",
   "execution_count": 37,
   "id": "38fe7ff1",
   "metadata": {},
   "outputs": [
    {
     "data": {
      "text/plain": [
       "((150000, 11), (101503, 11))"
      ]
     },
     "execution_count": 37,
     "metadata": {},
     "output_type": "execute_result"
    }
   ],
   "source": [
    "# drop id, it is just a number given to identify each house\n",
    "data.drop(['Unnamed: 0'], axis=1, inplace=True)\n",
    "data_t.drop(['Unnamed: 0'], axis=1, inplace=True)\n",
    "data.shape,data_t.shape"
   ]
  },
  {
   "cell_type": "markdown",
   "id": "9499cb5d",
   "metadata": {},
   "source": [
    "# Reducing the dataset size"
   ]
  },
  {
   "cell_type": "code",
   "execution_count": 38,
   "id": "c3832f6c",
   "metadata": {},
   "outputs": [
    {
     "name": "stdout",
     "output_type": "stream",
     "text": [
      "Memory usage of dataframe is 12.59 MB\n",
      "Memory usage after optimization is: 2.72 MB\n",
      "Decreased by 78.4%\n",
      "Memory usage of dataframe is 8.52 MB\n",
      "Memory usage after optimization is: 2.52 MB\n",
      "Decreased by 70.5%\n"
     ]
    }
   ],
   "source": [
    "train_data = memoryManager.reduce_mem_usage(data)\n",
    "test_data = memoryManager.reduce_mem_usage(data_t)"
   ]
  },
  {
   "cell_type": "markdown",
   "id": "87e0e6e3",
   "metadata": {},
   "source": [
    "# Copying original data which can used for transformation"
   ]
  },
  {
   "cell_type": "code",
   "execution_count": 39,
   "id": "ae68d262",
   "metadata": {},
   "outputs": [],
   "source": [
    "transformed_data = train_data.copy()"
   ]
  },
  {
   "cell_type": "markdown",
   "id": "11dccf0e",
   "metadata": {},
   "source": [
    "# Target feature distribution"
   ]
  },
  {
   "cell_type": "code",
   "execution_count": 40,
   "id": "88cced6c",
   "metadata": {},
   "outputs": [
    {
     "data": {
      "image/png": "[encoded data removed]",
      "text/plain": [
       "<Figure size 720x252 with 1 Axes>"
      ]
     },
     "metadata": {
      "needs_background": "light"
     },
     "output_type": "display_data"
    }
   ],
   "source": [
    "# countplot to evaluate target distribution # SeriousDlqin2yrs\n",
    "sns.countplot(train_data['SeriousDlqin2yrs'])\n",
    "plt.ylabel('Count of SeriousDlqin2yrs')\n",
    "plt.xlabel('SeriousDlqin2yrs')\n",
    "plt.show()"
   ]
  },
  {
   "cell_type": "code",
   "execution_count": 41,
   "id": "456647ce",
   "metadata": {},
   "outputs": [
    {
     "data": {
      "text/plain": [
       "0    139974\n",
       "1     10026\n",
       "Name: SeriousDlqin2yrs, dtype: int64"
      ]
     },
     "execution_count": 41,
     "metadata": {},
     "output_type": "execute_result"
    }
   ],
   "source": [
    "train_data.SeriousDlqin2yrs.value_counts()"
   ]
  },
  {
   "cell_type": "code",
   "execution_count": 42,
   "id": "71f4e7b0",
   "metadata": {},
   "outputs": [
    {
     "data": {
      "text/plain": [
       "6.683999999999999"
      ]
     },
     "execution_count": 42,
     "metadata": {},
     "output_type": "execute_result"
    }
   ],
   "source": [
    "(len(train_data[train_data.SeriousDlqin2yrs==1])/len(train_data))*100"
   ]
  },
  {
   "cell_type": "code",
   "execution_count": 43,
   "id": "51f7d7e4",
   "metadata": {},
   "outputs": [
    {
     "data": {
      "text/plain": [
       "SeriousDlqin2yrs                            0\n",
       "RevolvingUtilizationOfUnsecuredLines        0\n",
       "age                                         0\n",
       "NumberOfTime30-59DaysPastDueNotWorse        0\n",
       "DebtRatio                                   0\n",
       "MonthlyIncome                           29731\n",
       "NumberOfOpenCreditLinesAndLoans             0\n",
       "NumberOfTimes90DaysLate                     0\n",
       "NumberRealEstateLoansOrLines                0\n",
       "NumberOfTime60-89DaysPastDueNotWorse        0\n",
       "NumberOfDependents                       3924\n",
       "dtype: int64"
      ]
     },
     "execution_count": 43,
     "metadata": {},
     "output_type": "execute_result"
    }
   ],
   "source": [
    "train_data.isna().sum()"
   ]
  },
  {
   "cell_type": "markdown",
   "id": "82604e82",
   "metadata": {},
   "source": [
    "> - MonthlyIncome and NumberOfDependents having null values\n",
    "> - Target is imbalance as ration of defaulters to non defaulters is very minimum"
   ]
  },
  {
   "cell_type": "code",
   "execution_count": 44,
   "id": "675532ba",
   "metadata": {},
   "outputs": [
    {
     "data": {
      "text/html": [
       "<div>\n",
       "<style scoped>\n",
       "    .dataframe tbody tr th:only-of-type {\n",
       "        vertical-align: middle;\n",
       "    }\n",
       "\n",
       "    .dataframe tbody tr th {\n",
       "        vertical-align: top;\n",
       "    }\n",
       "\n",
       "    .dataframe thead th {\n",
       "        text-align: right;\n",
       "    }\n",
       "</style>\n",
       "<table border=\"1\" class=\"dataframe\">\n",
       "  <thead>\n",
       "    <tr style=\"text-align: right;\">\n",
       "      <th></th>\n",
       "      <th>count</th>\n",
       "      <th>mean</th>\n",
       "      <th>std</th>\n",
       "      <th>min</th>\n",
       "      <th>25%</th>\n",
       "      <th>50%</th>\n",
       "      <th>75%</th>\n",
       "      <th>max</th>\n",
       "    </tr>\n",
       "  </thead>\n",
       "  <tbody>\n",
       "    <tr>\n",
       "      <th>SeriousDlqin2yrs</th>\n",
       "      <td>150000.0</td>\n",
       "      <td>0.066840</td>\n",
       "      <td>0.249746</td>\n",
       "      <td>0.0</td>\n",
       "      <td>0.000000</td>\n",
       "      <td>0.000000</td>\n",
       "      <td>0.000000</td>\n",
       "      <td>1.0</td>\n",
       "    </tr>\n",
       "    <tr>\n",
       "      <th>RevolvingUtilizationOfUnsecuredLines</th>\n",
       "      <td>150000.0</td>\n",
       "      <td>NaN</td>\n",
       "      <td>NaN</td>\n",
       "      <td>0.0</td>\n",
       "      <td>0.029861</td>\n",
       "      <td>0.154175</td>\n",
       "      <td>0.559082</td>\n",
       "      <td>50720.0</td>\n",
       "    </tr>\n",
       "    <tr>\n",
       "      <th>age</th>\n",
       "      <td>150000.0</td>\n",
       "      <td>52.295207</td>\n",
       "      <td>14.771866</td>\n",
       "      <td>0.0</td>\n",
       "      <td>41.000000</td>\n",
       "      <td>52.000000</td>\n",
       "      <td>63.000000</td>\n",
       "      <td>109.0</td>\n",
       "    </tr>\n",
       "    <tr>\n",
       "      <th>NumberOfTime30-59DaysPastDueNotWorse</th>\n",
       "      <td>150000.0</td>\n",
       "      <td>0.421033</td>\n",
       "      <td>4.192781</td>\n",
       "      <td>0.0</td>\n",
       "      <td>0.000000</td>\n",
       "      <td>0.000000</td>\n",
       "      <td>0.000000</td>\n",
       "      <td>98.0</td>\n",
       "    </tr>\n",
       "    <tr>\n",
       "      <th>DebtRatio</th>\n",
       "      <td>150000.0</td>\n",
       "      <td>352.825867</td>\n",
       "      <td>2038.782471</td>\n",
       "      <td>0.0</td>\n",
       "      <td>0.175074</td>\n",
       "      <td>0.366508</td>\n",
       "      <td>0.868254</td>\n",
       "      <td>329664.0</td>\n",
       "    </tr>\n",
       "    <tr>\n",
       "      <th>MonthlyIncome</th>\n",
       "      <td>120269.0</td>\n",
       "      <td>6670.017090</td>\n",
       "      <td>14383.863281</td>\n",
       "      <td>0.0</td>\n",
       "      <td>3400.000000</td>\n",
       "      <td>5400.000000</td>\n",
       "      <td>8249.000000</td>\n",
       "      <td>3008750.0</td>\n",
       "    </tr>\n",
       "    <tr>\n",
       "      <th>NumberOfOpenCreditLinesAndLoans</th>\n",
       "      <td>150000.0</td>\n",
       "      <td>8.452760</td>\n",
       "      <td>5.145951</td>\n",
       "      <td>0.0</td>\n",
       "      <td>5.000000</td>\n",
       "      <td>8.000000</td>\n",
       "      <td>11.000000</td>\n",
       "      <td>58.0</td>\n",
       "    </tr>\n",
       "    <tr>\n",
       "      <th>NumberOfTimes90DaysLate</th>\n",
       "      <td>150000.0</td>\n",
       "      <td>0.265973</td>\n",
       "      <td>4.169304</td>\n",
       "      <td>0.0</td>\n",
       "      <td>0.000000</td>\n",
       "      <td>0.000000</td>\n",
       "      <td>0.000000</td>\n",
       "      <td>98.0</td>\n",
       "    </tr>\n",
       "    <tr>\n",
       "      <th>NumberRealEstateLoansOrLines</th>\n",
       "      <td>150000.0</td>\n",
       "      <td>1.018240</td>\n",
       "      <td>1.129771</td>\n",
       "      <td>0.0</td>\n",
       "      <td>0.000000</td>\n",
       "      <td>1.000000</td>\n",
       "      <td>2.000000</td>\n",
       "      <td>54.0</td>\n",
       "    </tr>\n",
       "    <tr>\n",
       "      <th>NumberOfTime60-89DaysPastDueNotWorse</th>\n",
       "      <td>150000.0</td>\n",
       "      <td>0.240387</td>\n",
       "      <td>4.155179</td>\n",
       "      <td>0.0</td>\n",
       "      <td>0.000000</td>\n",
       "      <td>0.000000</td>\n",
       "      <td>0.000000</td>\n",
       "      <td>98.0</td>\n",
       "    </tr>\n",
       "    <tr>\n",
       "      <th>NumberOfDependents</th>\n",
       "      <td>146076.0</td>\n",
       "      <td>NaN</td>\n",
       "      <td>0.000000</td>\n",
       "      <td>0.0</td>\n",
       "      <td>0.000000</td>\n",
       "      <td>0.000000</td>\n",
       "      <td>1.000000</td>\n",
       "      <td>20.0</td>\n",
       "    </tr>\n",
       "  </tbody>\n",
       "</table>\n",
       "</div>"
      ],
      "text/plain": [
       "                                         count         mean           std  \\\n",
       "SeriousDlqin2yrs                      150000.0     0.066840      0.249746   \n",
       "RevolvingUtilizationOfUnsecuredLines  150000.0          NaN           NaN   \n",
       "age                                   150000.0    52.295207     14.771866   \n",
       "NumberOfTime30-59DaysPastDueNotWorse  150000.0     0.421033      4.192781   \n",
       "DebtRatio                             150000.0   352.825867   2038.782471   \n",
       "MonthlyIncome                         120269.0  6670.017090  14383.863281   \n",
       "NumberOfOpenCreditLinesAndLoans       150000.0     8.452760      5.145951   \n",
       "NumberOfTimes90DaysLate               150000.0     0.265973      4.169304   \n",
       "NumberRealEstateLoansOrLines          150000.0     1.018240      1.129771   \n",
       "NumberOfTime60-89DaysPastDueNotWorse  150000.0     0.240387      4.155179   \n",
       "NumberOfDependents                    146076.0          NaN      0.000000   \n",
       "\n",
       "                                      min          25%          50%  \\\n",
       "SeriousDlqin2yrs                      0.0     0.000000     0.000000   \n",
       "RevolvingUtilizationOfUnsecuredLines  0.0     0.029861     0.154175   \n",
       "age                                   0.0    41.000000    52.000000   \n",
       "NumberOfTime30-59DaysPastDueNotWorse  0.0     0.000000     0.000000   \n",
       "DebtRatio                             0.0     0.175074     0.366508   \n",
       "MonthlyIncome                         0.0  3400.000000  5400.000000   \n",
       "NumberOfOpenCreditLinesAndLoans       0.0     5.000000     8.000000   \n",
       "NumberOfTimes90DaysLate               0.0     0.000000     0.000000   \n",
       "NumberRealEstateLoansOrLines          0.0     0.000000     1.000000   \n",
       "NumberOfTime60-89DaysPastDueNotWorse  0.0     0.000000     0.000000   \n",
       "NumberOfDependents                    0.0     0.000000     0.000000   \n",
       "\n",
       "                                              75%        max  \n",
       "SeriousDlqin2yrs                         0.000000        1.0  \n",
       "RevolvingUtilizationOfUnsecuredLines     0.559082    50720.0  \n",
       "age                                     63.000000      109.0  \n",
       "NumberOfTime30-59DaysPastDueNotWorse     0.000000       98.0  \n",
       "DebtRatio                                0.868254   329664.0  \n",
       "MonthlyIncome                         8249.000000  3008750.0  \n",
       "NumberOfOpenCreditLinesAndLoans         11.000000       58.0  \n",
       "NumberOfTimes90DaysLate                  0.000000       98.0  \n",
       "NumberRealEstateLoansOrLines             2.000000       54.0  \n",
       "NumberOfTime60-89DaysPastDueNotWorse     0.000000       98.0  \n",
       "NumberOfDependents                       1.000000       20.0  "
      ]
     },
     "execution_count": 44,
     "metadata": {},
     "output_type": "execute_result"
    }
   ],
   "source": [
    "train_data.describe().T"
   ]
  },
  {
   "cell_type": "markdown",
   "id": "38771acf",
   "metadata": {},
   "source": [
    "> - Except Age all other independent parameters are highly skewed.\n",
    "> - There is huge difference in mean and median for skewed data columns"
   ]
  },
  {
   "cell_type": "code",
   "execution_count": 45,
   "id": "8350054f",
   "metadata": {},
   "outputs": [],
   "source": [
    "Target = ['SeriousDlqin2yrs']\n",
    "\n",
    "Percentage = ['RevolvingUtilizationOfUnsecuredLines','DebtRatio']\n",
    "\n",
    "Real = ['MonthlyIncome']\n",
    "\n",
    "Numeric_Param = [\"NumberOfDependents\",\n",
    "                 \"NumberRealEstateLoansOrLines\",\n",
    "                 \"NumberOfOpenCreditLinesAndLoans\",\n",
    "                 \"age\"]\n",
    "\n",
    "Delay_param = [\"NumberOfTime30-59DaysPastDueNotWorse\",\n",
    "               \"NumberOfTime60-89DaysPastDueNotWorse\",\n",
    "               \"NumberOfTimes90DaysLate\"]"
   ]
  },
  {
   "cell_type": "code",
   "execution_count": 46,
   "id": "3641dce2",
   "metadata": {},
   "outputs": [
    {
     "data": {
      "text/plain": [
       "<AxesSubplot:>"
      ]
     },
     "execution_count": 46,
     "metadata": {},
     "output_type": "execute_result"
    },
    {
     "data": {
      "image/png": "[encoded data removed]",
      "text/plain": [
       "<Figure size 1440x504 with 2 Axes>"
      ]
     },
     "metadata": {
      "needs_background": "light"
     },
     "output_type": "display_data"
    }
   ],
   "source": [
    "plt.figure(figsize = (20,7))\n",
    "corr= train_data.corr()\n",
    "matrix = np.triu(corr)\n",
    "sns.heatmap(train_data.corr(),annot=True, cmap=\"Greens\") #, mask=matrix)"
   ]
  },
  {
   "cell_type": "markdown",
   "id": "f32ff269",
   "metadata": {},
   "source": [
    "# Number of similar records among below columns,\n",
    "> - `\"NumberOfTime30-59DaysPastDueNotWorse\", \n",
    "   \"NumberOfTime60-89DaysPastDueNotWorse\",\n",
    "   \"NumberOfTimes90DaysLate\"`"
   ]
  },
  {
   "cell_type": "code",
   "execution_count": 47,
   "id": "e22efc10",
   "metadata": {},
   "outputs": [
    {
     "data": {
      "text/plain": [
       "1     15777\n",
       "0      6381\n",
       "2      4568\n",
       "3      1749\n",
       "4       747\n",
       "5       340\n",
       "6       140\n",
       "7        54\n",
       "8        25\n",
       "9        12\n",
       "10        4\n",
       "12        2\n",
       "13        1\n",
       "11        1\n",
       "Name: NumberOfTime30-59DaysPastDueNotWorse, dtype: int64"
      ]
     },
     "execution_count": 47,
     "metadata": {},
     "output_type": "execute_result"
    }
   ],
   "source": [
    "train_data[Delay_param][train_data[Delay_param].apply(lambda x: min(x) != max(x), 1)]['NumberOfTime30-59DaysPastDueNotWorse'].value_counts()"
   ]
  },
  {
   "cell_type": "code",
   "execution_count": 48,
   "id": "e3f4467e",
   "metadata": {},
   "outputs": [
    {
     "data": {
      "text/html": [
       "<div>\n",
       "<style scoped>\n",
       "    .dataframe tbody tr th:only-of-type {\n",
       "        vertical-align: middle;\n",
       "    }\n",
       "\n",
       "    .dataframe tbody tr th {\n",
       "        vertical-align: top;\n",
       "    }\n",
       "\n",
       "    .dataframe thead th {\n",
       "        text-align: right;\n",
       "    }\n",
       "</style>\n",
       "<table border=\"1\" class=\"dataframe\">\n",
       "  <thead>\n",
       "    <tr style=\"text-align: right;\">\n",
       "      <th></th>\n",
       "      <th>NumberOfTime30-59DaysPastDueNotWorse</th>\n",
       "      <th>NumberOfTime60-89DaysPastDueNotWorse</th>\n",
       "      <th>NumberOfTimes90DaysLate</th>\n",
       "    </tr>\n",
       "  </thead>\n",
       "  <tbody>\n",
       "    <tr>\n",
       "      <th>0</th>\n",
       "      <td>126018.0</td>\n",
       "      <td>142396.0</td>\n",
       "      <td>141662.0</td>\n",
       "    </tr>\n",
       "    <tr>\n",
       "      <th>1</th>\n",
       "      <td>16033.0</td>\n",
       "      <td>5731.0</td>\n",
       "      <td>5243.0</td>\n",
       "    </tr>\n",
       "    <tr>\n",
       "      <th>2</th>\n",
       "      <td>4598.0</td>\n",
       "      <td>1118.0</td>\n",
       "      <td>1555.0</td>\n",
       "    </tr>\n",
       "    <tr>\n",
       "      <th>3</th>\n",
       "      <td>1754.0</td>\n",
       "      <td>318.0</td>\n",
       "      <td>667.0</td>\n",
       "    </tr>\n",
       "    <tr>\n",
       "      <th>4</th>\n",
       "      <td>747.0</td>\n",
       "      <td>105.0</td>\n",
       "      <td>291.0</td>\n",
       "    </tr>\n",
       "    <tr>\n",
       "      <th>5</th>\n",
       "      <td>342.0</td>\n",
       "      <td>34.0</td>\n",
       "      <td>131.0</td>\n",
       "    </tr>\n",
       "    <tr>\n",
       "      <th>98</th>\n",
       "      <td>264.0</td>\n",
       "      <td>264.0</td>\n",
       "      <td>264.0</td>\n",
       "    </tr>\n",
       "    <tr>\n",
       "      <th>6</th>\n",
       "      <td>140.0</td>\n",
       "      <td>16.0</td>\n",
       "      <td>80.0</td>\n",
       "    </tr>\n",
       "    <tr>\n",
       "      <th>7</th>\n",
       "      <td>54.0</td>\n",
       "      <td>9.0</td>\n",
       "      <td>38.0</td>\n",
       "    </tr>\n",
       "    <tr>\n",
       "      <th>8</th>\n",
       "      <td>25.0</td>\n",
       "      <td>2.0</td>\n",
       "      <td>21.0</td>\n",
       "    </tr>\n",
       "    <tr>\n",
       "      <th>9</th>\n",
       "      <td>12.0</td>\n",
       "      <td>1.0</td>\n",
       "      <td>19.0</td>\n",
       "    </tr>\n",
       "    <tr>\n",
       "      <th>96</th>\n",
       "      <td>5.0</td>\n",
       "      <td>5.0</td>\n",
       "      <td>5.0</td>\n",
       "    </tr>\n",
       "    <tr>\n",
       "      <th>10</th>\n",
       "      <td>4.0</td>\n",
       "      <td>NaN</td>\n",
       "      <td>8.0</td>\n",
       "    </tr>\n",
       "    <tr>\n",
       "      <th>12</th>\n",
       "      <td>2.0</td>\n",
       "      <td>NaN</td>\n",
       "      <td>2.0</td>\n",
       "    </tr>\n",
       "    <tr>\n",
       "      <th>13</th>\n",
       "      <td>1.0</td>\n",
       "      <td>NaN</td>\n",
       "      <td>4.0</td>\n",
       "    </tr>\n",
       "    <tr>\n",
       "      <th>11</th>\n",
       "      <td>1.0</td>\n",
       "      <td>1.0</td>\n",
       "      <td>5.0</td>\n",
       "    </tr>\n",
       "    <tr>\n",
       "      <th>15</th>\n",
       "      <td>NaN</td>\n",
       "      <td>NaN</td>\n",
       "      <td>2.0</td>\n",
       "    </tr>\n",
       "    <tr>\n",
       "      <th>14</th>\n",
       "      <td>NaN</td>\n",
       "      <td>NaN</td>\n",
       "      <td>2.0</td>\n",
       "    </tr>\n",
       "    <tr>\n",
       "      <th>17</th>\n",
       "      <td>NaN</td>\n",
       "      <td>NaN</td>\n",
       "      <td>1.0</td>\n",
       "    </tr>\n",
       "  </tbody>\n",
       "</table>\n",
       "</div>"
      ],
      "text/plain": [
       "    NumberOfTime30-59DaysPastDueNotWorse  \\\n",
       "0                               126018.0   \n",
       "1                                16033.0   \n",
       "2                                 4598.0   \n",
       "3                                 1754.0   \n",
       "4                                  747.0   \n",
       "5                                  342.0   \n",
       "98                                 264.0   \n",
       "6                                  140.0   \n",
       "7                                   54.0   \n",
       "8                                   25.0   \n",
       "9                                   12.0   \n",
       "96                                   5.0   \n",
       "10                                   4.0   \n",
       "12                                   2.0   \n",
       "13                                   1.0   \n",
       "11                                   1.0   \n",
       "15                                   NaN   \n",
       "14                                   NaN   \n",
       "17                                   NaN   \n",
       "\n",
       "    NumberOfTime60-89DaysPastDueNotWorse  NumberOfTimes90DaysLate  \n",
       "0                               142396.0                 141662.0  \n",
       "1                                 5731.0                   5243.0  \n",
       "2                                 1118.0                   1555.0  \n",
       "3                                  318.0                    667.0  \n",
       "4                                  105.0                    291.0  \n",
       "5                                   34.0                    131.0  \n",
       "98                                 264.0                    264.0  \n",
       "6                                   16.0                     80.0  \n",
       "7                                    9.0                     38.0  \n",
       "8                                    2.0                     21.0  \n",
       "9                                    1.0                     19.0  \n",
       "96                                   5.0                      5.0  \n",
       "10                                   NaN                      8.0  \n",
       "12                                   NaN                      2.0  \n",
       "13                                   NaN                      4.0  \n",
       "11                                   1.0                      5.0  \n",
       "15                                   NaN                      2.0  \n",
       "14                                   NaN                      2.0  \n",
       "17                                   NaN                      1.0  "
      ]
     },
     "execution_count": 48,
     "metadata": {},
     "output_type": "execute_result"
    }
   ],
   "source": [
    "pd.DataFrame([train_data[Delay_param[0]].value_counts(),train_data[Delay_param[1]].value_counts(),train_data[Delay_param[2]].value_counts()]).T"
   ]
  },
  {
   "cell_type": "code",
   "execution_count": 49,
   "id": "02f92bc2",
   "metadata": {},
   "outputs": [],
   "source": [
    "transformed_data.loc[transformed_data[Delay_param[0]].isin([96,98]),Delay_param[0]] = 0\n",
    "transformed_data.loc[transformed_data[Delay_param[0]].isin([96,98]),Delay_param[1]] = 0\n",
    "transformed_data.loc[transformed_data[Delay_param[0]].isin([96,98]),Delay_param[1]] = 0"
   ]
  },
  {
   "cell_type": "code",
   "execution_count": 50,
   "id": "807f8895",
   "metadata": {},
   "outputs": [],
   "source": [
    "test_data.loc[test_data[Delay_param[0]].isin([96,98]),Delay_param[0]] = 0\n",
    "test_data.loc[test_data[Delay_param[0]].isin([96,98]),Delay_param[1]] = 0\n",
    "test_data.loc[test_data[Delay_param[0]].isin([96,98]),Delay_param[1]] = 0"
   ]
  },
  {
   "cell_type": "markdown",
   "id": "172a340f",
   "metadata": {},
   "source": [
    "> - Records having values 96 and 98 in columns `\"NumberOfTime30-59DaysPastDueNotWorse\", \n",
    " \"NumberOfTime60-89DaysPastDueNotWorse\",\n",
    " \"NumberOfTimes90DaysLate\"` is replaced with zero"
   ]
  },
  {
   "cell_type": "code",
   "execution_count": 51,
   "id": "6cf89b34",
   "metadata": {},
   "outputs": [
    {
     "data": {
      "text/html": [
       "<div>\n",
       "<style scoped>\n",
       "    .dataframe tbody tr th:only-of-type {\n",
       "        vertical-align: middle;\n",
       "    }\n",
       "\n",
       "    .dataframe tbody tr th {\n",
       "        vertical-align: top;\n",
       "    }\n",
       "\n",
       "    .dataframe thead th {\n",
       "        text-align: right;\n",
       "    }\n",
       "</style>\n",
       "<table border=\"1\" class=\"dataframe\">\n",
       "  <thead>\n",
       "    <tr style=\"text-align: right;\">\n",
       "      <th></th>\n",
       "      <th>SeriousDlqin2yrs</th>\n",
       "      <th>RevolvingUtilizationOfUnsecuredLines</th>\n",
       "      <th>age</th>\n",
       "      <th>NumberOfTime30-59DaysPastDueNotWorse</th>\n",
       "      <th>DebtRatio</th>\n",
       "      <th>MonthlyIncome</th>\n",
       "      <th>NumberOfOpenCreditLinesAndLoans</th>\n",
       "      <th>NumberOfTimes90DaysLate</th>\n",
       "      <th>NumberRealEstateLoansOrLines</th>\n",
       "      <th>NumberOfTime60-89DaysPastDueNotWorse</th>\n",
       "      <th>NumberOfDependents</th>\n",
       "    </tr>\n",
       "  </thead>\n",
       "  <tbody>\n",
       "  </tbody>\n",
       "</table>\n",
       "</div>"
      ],
      "text/plain": [
       "Empty DataFrame\n",
       "Columns: [SeriousDlqin2yrs, RevolvingUtilizationOfUnsecuredLines, age, NumberOfTime30-59DaysPastDueNotWorse, DebtRatio, MonthlyIncome, NumberOfOpenCreditLinesAndLoans, NumberOfTimes90DaysLate, NumberRealEstateLoansOrLines, NumberOfTime60-89DaysPastDueNotWorse, NumberOfDependents]\n",
       "Index: []"
      ]
     },
     "execution_count": 51,
     "metadata": {},
     "output_type": "execute_result"
    }
   ],
   "source": [
    "transformed_data[transformed_data[Delay_param[0]].isin([96,98])]"
   ]
  },
  {
   "cell_type": "markdown",
   "id": "8a925a70",
   "metadata": {},
   "source": [
    "# Creating single column for \n",
    "### `\"NumberOfTime30-59DaysPastDueNotWorse\", \"NumberOfTime60-89DaysPastDueNotWorse\", `\n",
    "### `\"NumberOfTimes90DaysLate\"`  \n",
    "\n",
    "> - This features were highly correlated"
   ]
  },
  {
   "cell_type": "code",
   "execution_count": 52,
   "id": "fe9eafcd",
   "metadata": {},
   "outputs": [],
   "source": [
    "transformed_data['Weighted_Delay_sum'] = transformed_data[Delay_param[0]]*0.2+\\\n",
    "                                         transformed_data[Delay_param[1]]*0.3+\\\n",
    "                                         transformed_data[Delay_param[2]]*0.5"
   ]
  },
  {
   "cell_type": "code",
   "execution_count": 53,
   "id": "d0236841",
   "metadata": {},
   "outputs": [],
   "source": [
    "test_data['Weighted_Delay_sum'] = test_data[Delay_param[0]]*0.2+\\\n",
    "                                         test_data[Delay_param[1]]*0.3+\\\n",
    "                                         test_data[Delay_param[2]]*0.5"
   ]
  },
  {
   "cell_type": "code",
   "execution_count": 54,
   "id": "ee2df3be",
   "metadata": {},
   "outputs": [
    {
     "data": {
      "image/png": "[encoded data removed]",
      "text/plain": [
       "<Figure size 1080x252 with 2 Axes>"
      ]
     },
     "metadata": {
      "needs_background": "light"
     },
     "output_type": "display_data"
    }
   ],
   "source": [
    "plt.rcParams[\"figure.figsize\"] = [15.00, 3.50]\n",
    "plt.rcParams[\"figure.autolayout\"] = True\n",
    "fig, ax = plt.subplots(1, 2)\n",
    "sns.distplot(transformed_data.loc[transformed_data.SeriousDlqin2yrs==0,'Weighted_Delay_sum'], ax=ax[0])\n",
    "sns.distplot(transformed_data.loc[transformed_data.SeriousDlqin2yrs==1,'Weighted_Delay_sum'], ax=ax[1],color='r')\n",
    "plt.show()"
   ]
  },
  {
   "cell_type": "code",
   "execution_count": 55,
   "id": "867bf05d",
   "metadata": {},
   "outputs": [
    {
     "data": {
      "text/plain": [
       "<AxesSubplot:xlabel='SeriousDlqin2yrs', ylabel='Weighted_Delay_sum'>"
      ]
     },
     "execution_count": 55,
     "metadata": {},
     "output_type": "execute_result"
    },
    {
     "data": {
      "image/png": "[encoded data removed]",
      "text/plain": [
       "<Figure size 1080x252 with 1 Axes>"
      ]
     },
     "metadata": {
      "needs_background": "light"
     },
     "output_type": "display_data"
    }
   ],
   "source": [
    "sns.barplot(x='SeriousDlqin2yrs',y='Weighted_Delay_sum',data=transformed_data)"
   ]
  },
  {
   "cell_type": "markdown",
   "id": "f0c32284",
   "metadata": {},
   "source": [
    "> - With newly created feature `Weighted_Delay_sum` seems importance feature to classify defaulters vs non-defaulters"
   ]
  },
  {
   "cell_type": "markdown",
   "id": "2f587452",
   "metadata": {},
   "source": [
    "# Function to check Outliers"
   ]
  },
  {
   "cell_type": "code",
   "execution_count": 56,
   "id": "04627c3c",
   "metadata": {},
   "outputs": [],
   "source": [
    "def mark_outliers_zscore(feature, threshold = 3):\n",
    "    z = np.abs(stats.zscore(feature))\n",
    "    res = [i for i,j in zip(z.index,z.values) if j >= threshold]\n",
    "    print(\"Number of outliers : \", len(res))\n",
    "    return res"
   ]
  },
  {
   "cell_type": "markdown",
   "id": "132f3492",
   "metadata": {},
   "source": [
    "# RevolvingUtilizationOfUnsecuredLines"
   ]
  },
  {
   "cell_type": "code",
   "execution_count": 57,
   "id": "0f940c86",
   "metadata": {
    "scrolled": false
   },
   "outputs": [
    {
     "name": "stdout",
     "output_type": "stream",
     "text": [
      "Large dataset detected, using 10000 random samples for the plots. Summary statistics are still based on the entire dataset.\n",
      "Large dataset detected, using 10000 random samples for the plots. Summary statistics are still based on the entire dataset.\n"
     ]
    },
    {
     "data": {
      "image/png": "[encoded data removed]",
      "text/plain": [
       "<Figure size 1080x216 with 1 Axes>"
      ]
     },
     "metadata": {
      "needs_background": "light"
     },
     "output_type": "display_data"
    },
    {
     "data": {
      "image/png": "[encoded data removed]",
      "text/plain": [
       "<Figure size 1080x216 with 1 Axes>"
      ]
     },
     "metadata": {
      "needs_background": "light"
     },
     "output_type": "display_data"
    }
   ],
   "source": [
    "klib.dist_plot(train_data.loc[train_data['SeriousDlqin2yrs']==0,'RevolvingUtilizationOfUnsecuredLines'])\n",
    "klib.dist_plot(train_data.loc[train_data['SeriousDlqin2yrs']==1,'RevolvingUtilizationOfUnsecuredLines'])\n",
    "plt.grid()\n",
    "plt.title(\"Distribution of RevolvingUtilizationOfUnsecuredLines\");"
   ]
  },
  {
   "cell_type": "code",
   "execution_count": 58,
   "id": "ecc2c7ec",
   "metadata": {},
   "outputs": [
    {
     "data": {
      "image/png": "[encoded data removed]",
      "text/plain": [
       "<Figure size 720x252 with 2 Axes>"
      ]
     },
     "metadata": {
      "needs_background": "light"
     },
     "output_type": "display_data"
    }
   ],
   "source": [
    "plt.rcParams[\"figure.figsize\"] = [10.00, 3.50]\n",
    "plt.rcParams[\"figure.autolayout\"] = True\n",
    "fig, ax = plt.subplots(2, 1)\n",
    "sns.boxplot(train_data.loc[train_data['SeriousDlqin2yrs']==0,'RevolvingUtilizationOfUnsecuredLines'], ax=ax[0])\n",
    "sns.boxplot(train_data.loc[train_data['SeriousDlqin2yrs']==1,'RevolvingUtilizationOfUnsecuredLines'], ax=ax[1],color='r')\n",
    "plt.show()"
   ]
  },
  {
   "cell_type": "code",
   "execution_count": 59,
   "id": "732bec54",
   "metadata": {},
   "outputs": [
    {
     "data": {
      "text/plain": [
       "0    137903\n",
       "1      8792\n",
       "Name: SeriousDlqin2yrs, dtype: int64"
      ]
     },
     "execution_count": 59,
     "metadata": {},
     "output_type": "execute_result"
    }
   ],
   "source": [
    "train_data[train_data.RevolvingUtilizationOfUnsecuredLines<=1]['SeriousDlqin2yrs'].value_counts()"
   ]
  },
  {
   "cell_type": "code",
   "execution_count": 61,
   "id": "c51e1a74",
   "metadata": {},
   "outputs": [
    {
     "data": {
      "text/plain": [
       "0.05993387641023893"
      ]
     },
     "execution_count": 61,
     "metadata": {},
     "output_type": "execute_result"
    }
   ],
   "source": [
    "8792/(8792+137903)"
   ]
  },
  {
   "cell_type": "code",
   "execution_count": 60,
   "id": "3a5b4dff",
   "metadata": {},
   "outputs": [
    {
     "data": {
      "text/plain": [
       "0    2071\n",
       "1    1234\n",
       "Name: SeriousDlqin2yrs, dtype: int64"
      ]
     },
     "execution_count": 60,
     "metadata": {},
     "output_type": "execute_result"
    }
   ],
   "source": [
    "train_data[train_data.RevolvingUtilizationOfUnsecuredLines>1]['SeriousDlqin2yrs'].value_counts()"
   ]
  },
  {
   "cell_type": "code",
   "execution_count": 62,
   "id": "9780dd08",
   "metadata": {},
   "outputs": [
    {
     "data": {
      "text/plain": [
       "0.3733736762481089"
      ]
     },
     "execution_count": 62,
     "metadata": {},
     "output_type": "execute_result"
    }
   ],
   "source": [
    "1234/(1234+2071)"
   ]
  },
  {
   "cell_type": "code",
   "execution_count": 29,
   "id": "2c9527c6",
   "metadata": {},
   "outputs": [
    {
     "data": {
      "text/plain": [
       "1         0.957031\n",
       "2         0.658203\n",
       "3         0.233765\n",
       "4         0.907227\n",
       "5         0.213135\n",
       "            ...   \n",
       "149995    0.040680\n",
       "149996    0.299805\n",
       "149997    0.246094\n",
       "149998    0.000000\n",
       "149999    0.850098\n",
       "Name: RevolvingUtilizationOfUnsecuredLines, Length: 137903, dtype: float16"
      ]
     },
     "execution_count": 29,
     "metadata": {},
     "output_type": "execute_result"
    }
   ],
   "source": [
    "train_data.loc[(train_data['SeriousDlqin2yrs']==0)&(train_data['RevolvingUtilizationOfUnsecuredLines']<=1),'RevolvingUtilizationOfUnsecuredLines']"
   ]
  },
  {
   "cell_type": "markdown",
   "id": "de7be79d",
   "metadata": {},
   "source": [
    "> - Probability of getting default is getting increased by increase in `\"RevolvingUtilizationOfUnsecuredLines\"`. This can be observed in below distribution plot"
   ]
  },
  {
   "cell_type": "code",
   "execution_count": 63,
   "id": "e5de5998",
   "metadata": {},
   "outputs": [
    {
     "name": "stdout",
     "output_type": "stream",
     "text": [
      "Large dataset detected, using 10000 random samples for the plots. Summary statistics are still based on the entire dataset.\n"
     ]
    },
    {
     "data": {
      "image/png": "[encoded data removed]",
      "text/plain": [
       "<Figure size 1080x216 with 1 Axes>"
      ]
     },
     "metadata": {
      "needs_background": "light"
     },
     "output_type": "display_data"
    },
    {
     "data": {
      "image/png": "[encoded data removed]",
      "text/plain": [
       "<Figure size 1080x216 with 1 Axes>"
      ]
     },
     "metadata": {
      "needs_background": "light"
     },
     "output_type": "display_data"
    }
   ],
   "source": [
    "klib.dist_plot(train_data.loc[(train_data['SeriousDlqin2yrs']==0)&(train_data['RevolvingUtilizationOfUnsecuredLines']<=1),'RevolvingUtilizationOfUnsecuredLines'])\n",
    "klib.dist_plot(train_data.loc[(train_data['SeriousDlqin2yrs']==1)&(train_data['RevolvingUtilizationOfUnsecuredLines']<=1),'RevolvingUtilizationOfUnsecuredLines'])\n",
    "plt.grid()"
   ]
  },
  {
   "cell_type": "code",
   "execution_count": 64,
   "id": "781141d2",
   "metadata": {
    "scrolled": true
   },
   "outputs": [
    {
     "data": {
      "image/png": "[encoded data removed]",
      "text/plain": [
       "<Figure size 1080x252 with 2 Axes>"
      ]
     },
     "metadata": {
      "needs_background": "light"
     },
     "output_type": "display_data"
    }
   ],
   "source": [
    "plt.rcParams[\"figure.figsize\"] = [15.00, 3.50]\n",
    "plt.rcParams[\"figure.autolayout\"] = True\n",
    "fig, ax = plt.subplots(1, 2)\n",
    "sns.distplot(train_data.loc[(train_data['SeriousDlqin2yrs']==0)&(train_data['RevolvingUtilizationOfUnsecuredLines']<=1),'RevolvingUtilizationOfUnsecuredLines'], ax=ax[0])\n",
    "sns.distplot(train_data.loc[(train_data['SeriousDlqin2yrs']==1)&(train_data['RevolvingUtilizationOfUnsecuredLines']<=1),'RevolvingUtilizationOfUnsecuredLines'], ax=ax[1],color='r')\n",
    "plt.show()"
   ]
  },
  {
   "cell_type": "code",
   "execution_count": 65,
   "id": "777cfda9",
   "metadata": {},
   "outputs": [
    {
     "name": "stdout",
     "output_type": "stream",
     "text": [
      "(3305, 11)\n",
      "0    2071\n",
      "1    1234\n",
      "Name: SeriousDlqin2yrs, dtype: int64\n"
     ]
    },
    {
     "data": {
      "image/png": "[encoded data removed]",
      "text/plain": [
       "<Figure size 1080x252 with 2 Axes>"
      ]
     },
     "metadata": {
      "needs_background": "light"
     },
     "output_type": "display_data"
    }
   ],
   "source": [
    "print(train_data[train_data.RevolvingUtilizationOfUnsecuredLines>1].shape)\n",
    "print(train_data[train_data.RevolvingUtilizationOfUnsecuredLines>1]['SeriousDlqin2yrs'].value_counts())\n",
    "plt.rcParams[\"figure.figsize\"] = [15.00, 3.50]\n",
    "plt.rcParams[\"figure.autolayout\"] = True\n",
    "fig, ax = plt.subplots(1, 2)\n",
    "sns.distplot(train_data.loc[(train_data['SeriousDlqin2yrs']==0)&(train_data['RevolvingUtilizationOfUnsecuredLines']>1),'RevolvingUtilizationOfUnsecuredLines'], ax=ax[0])\n",
    "sns.distplot(train_data.loc[(train_data['SeriousDlqin2yrs']==1)&(train_data['RevolvingUtilizationOfUnsecuredLines']>1),'RevolvingUtilizationOfUnsecuredLines'], ax=ax[1],color='r')\n",
    "plt.show()"
   ]
  },
  {
   "cell_type": "code",
   "execution_count": 48,
   "id": "23ac91ed",
   "metadata": {},
   "outputs": [
    {
     "data": {
      "text/plain": [
       "0    59934\n",
       "1     8380\n",
       "Name: SeriousDlqin2yrs, dtype: int64"
      ]
     },
     "execution_count": 48,
     "metadata": {},
     "output_type": "execute_result"
    }
   ],
   "source": [
    "train_data[train_data.RevolvingUtilizationOfUnsecuredLines>=0.2]['SeriousDlqin2yrs'].value_counts()"
   ]
  },
  {
   "cell_type": "code",
   "execution_count": 49,
   "id": "bb7af978",
   "metadata": {},
   "outputs": [
    {
     "data": {
      "text/plain": [
       "0    38866\n",
       "1     6274\n",
       "Name: SeriousDlqin2yrs, dtype: int64"
      ]
     },
     "execution_count": 49,
     "metadata": {},
     "output_type": "execute_result"
    }
   ],
   "source": [
    "train_data[(train_data.RevolvingUtilizationOfUnsecuredLines>0.4)&(train_data.RevolvingUtilizationOfUnsecuredLines<=0.99999)]['SeriousDlqin2yrs'].value_counts()"
   ]
  },
  {
   "cell_type": "code",
   "execution_count": 50,
   "id": "4e946095",
   "metadata": {},
   "outputs": [
    {
     "name": "stdout",
     "output_type": "stream",
     "text": [
      "Number of outliers :  0\n"
     ]
    }
   ],
   "source": [
    "res = mark_outliers_zscore(train_data.RevolvingUtilizationOfUnsecuredLines)"
   ]
  },
  {
   "cell_type": "markdown",
   "id": "df5633df",
   "metadata": {},
   "source": [
    ">- As compare to whole data there are few values where `RevolvingUtilizationOfUnsecuredLines` is more than `1`, which is just around 2% of whole data.\n",
    ">- Whenever `RevolvingUtilizationOfUnsecuredLines` is more than 8000 then target is always `1`.\n",
    "\n"
   ]
  },
  {
   "cell_type": "markdown",
   "id": "b4219b83",
   "metadata": {},
   "source": [
    "# MonthlyIncome and Debtratio"
   ]
  },
  {
   "cell_type": "code",
   "execution_count": 66,
   "id": "ed03e7d7",
   "metadata": {},
   "outputs": [],
   "source": [
    "interval = (0,18, 25, 35, 60, 110)\n",
    "cats = ['Child','Student', 'Young', 'Adult', 'Old']\n",
    "train_data['age_cat'] = pd.cut(train_data.age, interval, labels=cats)"
   ]
  },
  {
   "cell_type": "code",
   "execution_count": 67,
   "id": "fd0bcd00",
   "metadata": {},
   "outputs": [],
   "source": [
    "transformed_data['age_cat'] = pd.cut(transformed_data.age, interval, labels=cats)"
   ]
  },
  {
   "cell_type": "code",
   "execution_count": 68,
   "id": "520717e0",
   "metadata": {},
   "outputs": [],
   "source": [
    "test_data['age_cat'] = pd.cut(test_data.age, interval, labels=cats)"
   ]
  },
  {
   "cell_type": "code",
   "execution_count": 69,
   "id": "28c9e660",
   "metadata": {},
   "outputs": [
    {
     "name": "stdout",
     "output_type": "stream",
     "text": [
      "Number of outliers :  0\n"
     ]
    }
   ],
   "source": [
    "res = mark_outliers_zscore(train_data.MonthlyIncome)"
   ]
  },
  {
   "cell_type": "code",
   "execution_count": 70,
   "id": "8d908685",
   "metadata": {
    "scrolled": true
   },
   "outputs": [
    {
     "name": "stdout",
     "output_type": "stream",
     "text": [
      "Number of outliers :  659\n"
     ]
    }
   ],
   "source": [
    "res = mark_outliers_zscore(train_data.DebtRatio)"
   ]
  },
  {
   "cell_type": "code",
   "execution_count": 71,
   "id": "46a2349e",
   "metadata": {
    "scrolled": false
   },
   "outputs": [
    {
     "name": "stdout",
     "output_type": "stream",
     "text": [
      "Large dataset detected, using 10000 random samples for the plots. Summary statistics are still based on the entire dataset.\n",
      "Large dataset detected, using 10000 random samples for the plots. Summary statistics are still based on the entire dataset.\n"
     ]
    },
    {
     "data": {
      "image/png": "[encoded data removed]",
      "text/plain": [
       "<Figure size 1080x216 with 1 Axes>"
      ]
     },
     "metadata": {
      "needs_background": "light"
     },
     "output_type": "display_data"
    },
    {
     "data": {
      "image/png": "[encoded data removed]",
      "text/plain": [
       "<Figure size 1080x216 with 1 Axes>"
      ]
     },
     "metadata": {
      "needs_background": "light"
     },
     "output_type": "display_data"
    }
   ],
   "source": [
    "klib.dist_plot(train_data.loc[train_data['SeriousDlqin2yrs']==0,'MonthlyIncome'])\n",
    "klib.dist_plot(train_data.loc[train_data['SeriousDlqin2yrs']==1,'MonthlyIncome'])\n",
    "plt.grid()\n",
    "plt.title(\"Distribution of RevolvingUtilizationOfUnsecuredLines\");"
   ]
  },
  {
   "cell_type": "code",
   "execution_count": 72,
   "id": "e70152e9",
   "metadata": {},
   "outputs": [
    {
     "data": {
      "image/png": "[encoded data removed]",
      "text/plain": [
       "<Figure size 720x252 with 2 Axes>"
      ]
     },
     "metadata": {
      "needs_background": "light"
     },
     "output_type": "display_data"
    }
   ],
   "source": [
    "plt.rcParams[\"figure.figsize\"] = [10.00, 3.50]\n",
    "#plt.rcParams[\"figure.autolayout\"] = True\n",
    "fig, ax = plt.subplots(2, 1)\n",
    "sns.boxplot(train_data.loc[train_data['SeriousDlqin2yrs']==0,'MonthlyIncome'], ax=ax[0],color='b')\n",
    "sns.boxplot(train_data.loc[train_data['SeriousDlqin2yrs']==1,'MonthlyIncome'], ax=ax[1],color='r')\n",
    "plt.show()"
   ]
  },
  {
   "cell_type": "code",
   "execution_count": 73,
   "id": "ab44486c",
   "metadata": {},
   "outputs": [
    {
     "data": {
      "image/png": "[encoded data removed]",
      "text/plain": [
       "<Figure size 1080x252 with 2 Axes>"
      ]
     },
     "metadata": {
      "needs_background": "light"
     },
     "output_type": "display_data"
    }
   ],
   "source": [
    "plt.rcParams[\"figure.figsize\"] = [15.00, 3.50]\n",
    "plt.rcParams[\"figure.autolayout\"] = True\n",
    "fig, ax = plt.subplots(1, 2)\n",
    "sns.distplot(train_data.loc[(train_data['SeriousDlqin2yrs']==0),'MonthlyIncome'], ax=ax[0],color='b',rug=True)\n",
    "sns.distplot(train_data.loc[(train_data['SeriousDlqin2yrs']==1),'MonthlyIncome'], ax=ax[1],color='r',rug=True)\n",
    "plt.show()"
   ]
  },
  {
   "cell_type": "code",
   "execution_count": 74,
   "id": "5a327a58",
   "metadata": {},
   "outputs": [
    {
     "data": {
      "image/png": "[encoded data removed]",
      "text/plain": [
       "<Figure size 1080x252 with 2 Axes>"
      ]
     },
     "metadata": {
      "needs_background": "light"
     },
     "output_type": "display_data"
    }
   ],
   "source": [
    "plt.rcParams[\"figure.figsize\"] = [15.00, 3.50]\n",
    "plt.rcParams[\"figure.autolayout\"] = True\n",
    "fig, ax = plt.subplots(1, 2)\n",
    "sns.distplot(np.log(train_data.loc[(train_data['SeriousDlqin2yrs']==0),'MonthlyIncome']+1), ax=ax[0],color='b',rug=True)\n",
    "sns.distplot(np.log(train_data.loc[(train_data['SeriousDlqin2yrs']==1),'MonthlyIncome']+1), ax=ax[1],color='r',rug=True)\n",
    "plt.show()"
   ]
  },
  {
   "cell_type": "code",
   "execution_count": 75,
   "id": "d990e474",
   "metadata": {},
   "outputs": [],
   "source": [
    "transformed_data['MonthlyIncome_lg'] = np.log(transformed_data['MonthlyIncome']+1)\n",
    "test_data['MonthlyIncome_lg'] = np.log(test_data['MonthlyIncome']+1)"
   ]
  },
  {
   "cell_type": "code",
   "execution_count": 76,
   "id": "fa8a64eb",
   "metadata": {
    "scrolled": false
   },
   "outputs": [
    {
     "name": "stdout",
     "output_type": "stream",
     "text": [
      "Large dataset detected, using 10000 random samples for the plots. Summary statistics are still based on the entire dataset.\n",
      "Large dataset detected, using 10000 random samples for the plots. Summary statistics are still based on the entire dataset.\n"
     ]
    },
    {
     "data": {
      "image/png": "[encoded data removed]",
      "text/plain": [
       "<Figure size 1080x216 with 1 Axes>"
      ]
     },
     "metadata": {
      "needs_background": "light"
     },
     "output_type": "display_data"
    },
    {
     "data": {
      "image/png": "[encoded data removed]",
      "text/plain": [
       "<Figure size 1080x216 with 1 Axes>"
      ]
     },
     "metadata": {
      "needs_background": "light"
     },
     "output_type": "display_data"
    }
   ],
   "source": [
    "klib.dist_plot(transformed_data.loc[transformed_data['SeriousDlqin2yrs']==0,'MonthlyIncome_lg'])\n",
    "klib.dist_plot(transformed_data.loc[transformed_data['SeriousDlqin2yrs']==1,'MonthlyIncome_lg'])\n",
    "plt.grid()\n",
    "plt.title(\"Distribution of MonthlyIncome_lg\");"
   ]
  },
  {
   "cell_type": "code",
   "execution_count": 77,
   "id": "ec9d1c7a",
   "metadata": {},
   "outputs": [
    {
     "data": {
      "image/png": "[encoded data removed]",
      "text/plain": [
       "<Figure size 720x252 with 2 Axes>"
      ]
     },
     "metadata": {
      "needs_background": "light"
     },
     "output_type": "display_data"
    }
   ],
   "source": [
    "plt.rcParams[\"figure.figsize\"] = [10.00, 3.50]\n",
    "#plt.rcParams[\"figure.autolayout\"] = True\n",
    "fig, ax = plt.subplots(2, 1)\n",
    "sns.boxplot(transformed_data.loc[transformed_data['SeriousDlqin2yrs']==0,'MonthlyIncome_lg'], ax=ax[0],color='b')\n",
    "sns.boxplot(transformed_data.loc[transformed_data['SeriousDlqin2yrs']==1,'MonthlyIncome_lg'], ax=ax[1],color='r')\n",
    "plt.show()"
   ]
  },
  {
   "cell_type": "code",
   "execution_count": 78,
   "id": "fbc69a57",
   "metadata": {},
   "outputs": [
    {
     "data": {
      "image/png": "[encoded data removed]",
      "text/plain": [
       "<Figure size 720x252 with 2 Axes>"
      ]
     },
     "metadata": {
      "needs_background": "light"
     },
     "output_type": "display_data"
    }
   ],
   "source": [
    "plt.rcParams[\"figure.figsize\"] = [10.00, 3.50]\n",
    "#plt.rcParams[\"figure.autolayout\"] = True\n",
    "fig, ax = plt.subplots(2, 1)\n",
    "sns.boxplot(transformed_data.loc[transformed_data['SeriousDlqin2yrs']==0,'MonthlyIncome_lg'], ax=ax[0],color='b')\n",
    "sns.boxplot(transformed_data.loc[transformed_data['SeriousDlqin2yrs']==1,'MonthlyIncome_lg'], ax=ax[1],color='r')\n",
    "plt.show()"
   ]
  },
  {
   "cell_type": "code",
   "execution_count": 79,
   "id": "70a8ad93",
   "metadata": {},
   "outputs": [
    {
     "data": {
      "image/png": "[encoded data removed]",
      "text/plain": [
       "<Figure size 1080x252 with 2 Axes>"
      ]
     },
     "metadata": {
      "needs_background": "light"
     },
     "output_type": "display_data"
    }
   ],
   "source": [
    "plt.rcParams[\"figure.figsize\"] = [15.00, 3.50]\n",
    "plt.rcParams[\"figure.autolayout\"] = True\n",
    "fig, ax = plt.subplots(1, 2)\n",
    "sns.distplot(transformed_data.loc[(transformed_data['SeriousDlqin2yrs']==0),'MonthlyIncome_lg'], ax=ax[0],color='b',rug=True)\n",
    "sns.distplot(transformed_data.loc[(transformed_data['SeriousDlqin2yrs']==1),'MonthlyIncome_lg'], ax=ax[1],color='r',rug=True)\n",
    "plt.show()"
   ]
  },
  {
   "cell_type": "code",
   "execution_count": 66,
   "id": "bae8b4eb",
   "metadata": {},
   "outputs": [
    {
     "data": {
      "text/html": [
       "<div>\n",
       "<style scoped>\n",
       "    .dataframe tbody tr th:only-of-type {\n",
       "        vertical-align: middle;\n",
       "    }\n",
       "\n",
       "    .dataframe tbody tr th {\n",
       "        vertical-align: top;\n",
       "    }\n",
       "\n",
       "    .dataframe thead th {\n",
       "        text-align: right;\n",
       "    }\n",
       "</style>\n",
       "<table border=\"1\" class=\"dataframe\">\n",
       "  <thead>\n",
       "    <tr style=\"text-align: right;\">\n",
       "      <th></th>\n",
       "      <th>SeriousDlqin2yrs</th>\n",
       "      <th>RevolvingUtilizationOfUnsecuredLines</th>\n",
       "      <th>age</th>\n",
       "      <th>NumberOfTime30-59DaysPastDueNotWorse</th>\n",
       "      <th>DebtRatio</th>\n",
       "      <th>MonthlyIncome</th>\n",
       "      <th>NumberOfOpenCreditLinesAndLoans</th>\n",
       "      <th>NumberOfTimes90DaysLate</th>\n",
       "      <th>NumberRealEstateLoansOrLines</th>\n",
       "      <th>NumberOfTime60-89DaysPastDueNotWorse</th>\n",
       "      <th>NumberOfDependents</th>\n",
       "      <th>age_cat</th>\n",
       "    </tr>\n",
       "  </thead>\n",
       "  <tbody>\n",
       "    <tr>\n",
       "      <th>65695</th>\n",
       "      <td>0</td>\n",
       "      <td>1.0</td>\n",
       "      <td>0</td>\n",
       "      <td>1</td>\n",
       "      <td>0.436927</td>\n",
       "      <td>6000.0</td>\n",
       "      <td>6</td>\n",
       "      <td>0</td>\n",
       "      <td>2</td>\n",
       "      <td>0</td>\n",
       "      <td>2.0</td>\n",
       "      <td>NaN</td>\n",
       "    </tr>\n",
       "  </tbody>\n",
       "</table>\n",
       "</div>"
      ],
      "text/plain": [
       "       SeriousDlqin2yrs  RevolvingUtilizationOfUnsecuredLines  age  \\\n",
       "65695                 0                                   1.0    0   \n",
       "\n",
       "       NumberOfTime30-59DaysPastDueNotWorse  DebtRatio  MonthlyIncome  \\\n",
       "65695                                     1   0.436927         6000.0   \n",
       "\n",
       "       NumberOfOpenCreditLinesAndLoans  NumberOfTimes90DaysLate  \\\n",
       "65695                                6                        0   \n",
       "\n",
       "       NumberRealEstateLoansOrLines  NumberOfTime60-89DaysPastDueNotWorse  \\\n",
       "65695                             2                                     0   \n",
       "\n",
       "       NumberOfDependents age_cat  \n",
       "65695                 2.0     NaN  "
      ]
     },
     "execution_count": 66,
     "metadata": {},
     "output_type": "execute_result"
    }
   ],
   "source": [
    "train_data.loc[train_data.age==0,:]"
   ]
  },
  {
   "cell_type": "code",
   "execution_count": 81,
   "id": "27c48d0b",
   "metadata": {},
   "outputs": [
    {
     "data": {
      "text/html": [
       "<div>\n",
       "<style scoped>\n",
       "    .dataframe tbody tr th:only-of-type {\n",
       "        vertical-align: middle;\n",
       "    }\n",
       "\n",
       "    .dataframe tbody tr th {\n",
       "        vertical-align: top;\n",
       "    }\n",
       "\n",
       "    .dataframe thead th {\n",
       "        text-align: right;\n",
       "    }\n",
       "</style>\n",
       "<table border=\"1\" class=\"dataframe\">\n",
       "  <thead>\n",
       "    <tr style=\"text-align: right;\">\n",
       "      <th></th>\n",
       "      <th>SeriousDlqin2yrs</th>\n",
       "      <th>RevolvingUtilizationOfUnsecuredLines</th>\n",
       "      <th>age</th>\n",
       "      <th>NumberOfTime30-59DaysPastDueNotWorse</th>\n",
       "      <th>DebtRatio</th>\n",
       "      <th>MonthlyIncome</th>\n",
       "      <th>NumberOfOpenCreditLinesAndLoans</th>\n",
       "      <th>NumberOfTimes90DaysLate</th>\n",
       "      <th>NumberRealEstateLoansOrLines</th>\n",
       "      <th>NumberOfTime60-89DaysPastDueNotWorse</th>\n",
       "      <th>NumberOfDependents</th>\n",
       "      <th>Weighted_Delay_sum</th>\n",
       "      <th>age_cat</th>\n",
       "      <th>MonthlyIncome_lg</th>\n",
       "    </tr>\n",
       "  </thead>\n",
       "  <tbody>\n",
       "    <tr>\n",
       "      <th>65695</th>\n",
       "      <td>0</td>\n",
       "      <td>1.0</td>\n",
       "      <td>0</td>\n",
       "      <td>1</td>\n",
       "      <td>0.436927</td>\n",
       "      <td>6000.0</td>\n",
       "      <td>6</td>\n",
       "      <td>0</td>\n",
       "      <td>2</td>\n",
       "      <td>0</td>\n",
       "      <td>2.0</td>\n",
       "      <td>0.2</td>\n",
       "      <td>NaN</td>\n",
       "      <td>8.699681</td>\n",
       "    </tr>\n",
       "  </tbody>\n",
       "</table>\n",
       "</div>"
      ],
      "text/plain": [
       "       SeriousDlqin2yrs  RevolvingUtilizationOfUnsecuredLines  age  \\\n",
       "65695                 0                                   1.0    0   \n",
       "\n",
       "       NumberOfTime30-59DaysPastDueNotWorse  DebtRatio  MonthlyIncome  \\\n",
       "65695                                     1   0.436927         6000.0   \n",
       "\n",
       "       NumberOfOpenCreditLinesAndLoans  NumberOfTimes90DaysLate  \\\n",
       "65695                                6                        0   \n",
       "\n",
       "       NumberRealEstateLoansOrLines  NumberOfTime60-89DaysPastDueNotWorse  \\\n",
       "65695                             2                                     0   \n",
       "\n",
       "       NumberOfDependents  Weighted_Delay_sum age_cat  MonthlyIncome_lg  \n",
       "65695                 2.0                 0.2     NaN          8.699681  "
      ]
     },
     "execution_count": 81,
     "metadata": {},
     "output_type": "execute_result"
    }
   ],
   "source": [
    "transformed_data.loc[transformed_data.age==0,:]"
   ]
  },
  {
   "cell_type": "code",
   "execution_count": 82,
   "id": "88219d8f",
   "metadata": {},
   "outputs": [
    {
     "data": {
      "text/html": [
       "<div>\n",
       "<style scoped>\n",
       "    .dataframe tbody tr th:only-of-type {\n",
       "        vertical-align: middle;\n",
       "    }\n",
       "\n",
       "    .dataframe tbody tr th {\n",
       "        vertical-align: top;\n",
       "    }\n",
       "\n",
       "    .dataframe thead th {\n",
       "        text-align: right;\n",
       "    }\n",
       "</style>\n",
       "<table border=\"1\" class=\"dataframe\">\n",
       "  <thead>\n",
       "    <tr style=\"text-align: right;\">\n",
       "      <th></th>\n",
       "      <th>SeriousDlqin2yrs</th>\n",
       "      <th>RevolvingUtilizationOfUnsecuredLines</th>\n",
       "      <th>age</th>\n",
       "      <th>NumberOfTime30-59DaysPastDueNotWorse</th>\n",
       "      <th>DebtRatio</th>\n",
       "      <th>MonthlyIncome</th>\n",
       "      <th>NumberOfOpenCreditLinesAndLoans</th>\n",
       "      <th>NumberOfTimes90DaysLate</th>\n",
       "      <th>NumberRealEstateLoansOrLines</th>\n",
       "      <th>NumberOfTime60-89DaysPastDueNotWorse</th>\n",
       "      <th>NumberOfDependents</th>\n",
       "      <th>Weighted_Delay_sum</th>\n",
       "      <th>age_cat</th>\n",
       "      <th>MonthlyIncome_lg</th>\n",
       "    </tr>\n",
       "  </thead>\n",
       "  <tbody>\n",
       "  </tbody>\n",
       "</table>\n",
       "</div>"
      ],
      "text/plain": [
       "Empty DataFrame\n",
       "Columns: [SeriousDlqin2yrs, RevolvingUtilizationOfUnsecuredLines, age, NumberOfTime30-59DaysPastDueNotWorse, DebtRatio, MonthlyIncome, NumberOfOpenCreditLinesAndLoans, NumberOfTimes90DaysLate, NumberRealEstateLoansOrLines, NumberOfTime60-89DaysPastDueNotWorse, NumberOfDependents, Weighted_Delay_sum, age_cat, MonthlyIncome_lg]\n",
       "Index: []"
      ]
     },
     "execution_count": 82,
     "metadata": {},
     "output_type": "execute_result"
    }
   ],
   "source": [
    "test_data.loc[test_data.age==0,:]"
   ]
  },
  {
   "cell_type": "code",
   "execution_count": 83,
   "id": "f84842f5",
   "metadata": {},
   "outputs": [],
   "source": [
    "train_data.drop(train_data[train_data.age==0].index,axis=0,inplace=True)\n",
    "transformed_data.drop(transformed_data[transformed_data.age==0].index,axis=0,inplace=True)"
   ]
  },
  {
   "cell_type": "code",
   "execution_count": 84,
   "id": "3474666e",
   "metadata": {},
   "outputs": [
    {
     "name": "stdout",
     "output_type": "stream",
     "text": [
      "0    139973\n",
      "1     10026\n",
      "Name: SeriousDlqin2yrs, dtype: int64\n"
     ]
    },
    {
     "data": {
      "text/plain": [
       "<AxesSubplot:xlabel='age_cat', ylabel='MonthlyIncome'>"
      ]
     },
     "execution_count": 84,
     "metadata": {},
     "output_type": "execute_result"
    },
    {
     "data": {
      "image/png": "[encoded data removed]",
      "text/plain": [
       "<Figure size 1080x252 with 1 Axes>"
      ]
     },
     "metadata": {
      "needs_background": "light"
     },
     "output_type": "display_data"
    }
   ],
   "source": [
    "print(train_data.loc[:,'SeriousDlqin2yrs'].value_counts())\n",
    "sns.barplot(x='age_cat',y='MonthlyIncome',data=train_data,hue='SeriousDlqin2yrs')"
   ]
  },
  {
   "cell_type": "code",
   "execution_count": 86,
   "id": "a760b065",
   "metadata": {},
   "outputs": [
    {
     "data": {
      "text/html": [
       "<div>\n",
       "<style scoped>\n",
       "    .dataframe tbody tr th:only-of-type {\n",
       "        vertical-align: middle;\n",
       "    }\n",
       "\n",
       "    .dataframe tbody tr th {\n",
       "        vertical-align: top;\n",
       "    }\n",
       "\n",
       "    .dataframe thead th {\n",
       "        text-align: right;\n",
       "    }\n",
       "</style>\n",
       "<table border=\"1\" class=\"dataframe\">\n",
       "  <thead>\n",
       "    <tr style=\"text-align: right;\">\n",
       "      <th></th>\n",
       "      <th>SeriousDlqin2yrs</th>\n",
       "      <th>RevolvingUtilizationOfUnsecuredLines</th>\n",
       "      <th>age</th>\n",
       "      <th>NumberOfTime30-59DaysPastDueNotWorse</th>\n",
       "      <th>DebtRatio</th>\n",
       "      <th>MonthlyIncome</th>\n",
       "      <th>NumberOfOpenCreditLinesAndLoans</th>\n",
       "      <th>NumberOfTimes90DaysLate</th>\n",
       "      <th>NumberRealEstateLoansOrLines</th>\n",
       "      <th>NumberOfTime60-89DaysPastDueNotWorse</th>\n",
       "      <th>NumberOfDependents</th>\n",
       "      <th>age_cat</th>\n",
       "    </tr>\n",
       "  </thead>\n",
       "  <tbody>\n",
       "    <tr>\n",
       "      <th>14</th>\n",
       "      <td>0</td>\n",
       "      <td>0.019653</td>\n",
       "      <td>76</td>\n",
       "      <td>0</td>\n",
       "      <td>477.0</td>\n",
       "      <td>0.0</td>\n",
       "      <td>6</td>\n",
       "      <td>0</td>\n",
       "      <td>1</td>\n",
       "      <td>0</td>\n",
       "      <td>0.0</td>\n",
       "      <td>Old</td>\n",
       "    </tr>\n",
       "    <tr>\n",
       "      <th>44</th>\n",
       "      <td>0</td>\n",
       "      <td>0.368896</td>\n",
       "      <td>68</td>\n",
       "      <td>0</td>\n",
       "      <td>1687.5</td>\n",
       "      <td>1.0</td>\n",
       "      <td>31</td>\n",
       "      <td>0</td>\n",
       "      <td>1</td>\n",
       "      <td>0</td>\n",
       "      <td>0.0</td>\n",
       "      <td>Old</td>\n",
       "    </tr>\n",
       "    <tr>\n",
       "      <th>50</th>\n",
       "      <td>0</td>\n",
       "      <td>0.818848</td>\n",
       "      <td>73</td>\n",
       "      <td>0</td>\n",
       "      <td>3095.0</td>\n",
       "      <td>0.0</td>\n",
       "      <td>9</td>\n",
       "      <td>0</td>\n",
       "      <td>1</td>\n",
       "      <td>1</td>\n",
       "      <td>0.0</td>\n",
       "      <td>Old</td>\n",
       "    </tr>\n",
       "    <tr>\n",
       "      <th>73</th>\n",
       "      <td>0</td>\n",
       "      <td>0.059662</td>\n",
       "      <td>31</td>\n",
       "      <td>0</td>\n",
       "      <td>3162.0</td>\n",
       "      <td>0.0</td>\n",
       "      <td>11</td>\n",
       "      <td>0</td>\n",
       "      <td>2</td>\n",
       "      <td>0</td>\n",
       "      <td>1.0</td>\n",
       "      <td>Young</td>\n",
       "    </tr>\n",
       "    <tr>\n",
       "      <th>90</th>\n",
       "      <td>0</td>\n",
       "      <td>0.039398</td>\n",
       "      <td>51</td>\n",
       "      <td>0</td>\n",
       "      <td>15466.0</td>\n",
       "      <td>0.0</td>\n",
       "      <td>7</td>\n",
       "      <td>0</td>\n",
       "      <td>0</td>\n",
       "      <td>0</td>\n",
       "      <td>0.0</td>\n",
       "      <td>Adult</td>\n",
       "    </tr>\n",
       "    <tr>\n",
       "      <th>...</th>\n",
       "      <td>...</td>\n",
       "      <td>...</td>\n",
       "      <td>...</td>\n",
       "      <td>...</td>\n",
       "      <td>...</td>\n",
       "      <td>...</td>\n",
       "      <td>...</td>\n",
       "      <td>...</td>\n",
       "      <td>...</td>\n",
       "      <td>...</td>\n",
       "      <td>...</td>\n",
       "      <td>...</td>\n",
       "    </tr>\n",
       "    <tr>\n",
       "      <th>149562</th>\n",
       "      <td>0</td>\n",
       "      <td>0.230835</td>\n",
       "      <td>72</td>\n",
       "      <td>0</td>\n",
       "      <td>430.0</td>\n",
       "      <td>0.0</td>\n",
       "      <td>7</td>\n",
       "      <td>0</td>\n",
       "      <td>0</td>\n",
       "      <td>0</td>\n",
       "      <td>0.0</td>\n",
       "      <td>Old</td>\n",
       "    </tr>\n",
       "    <tr>\n",
       "      <th>149646</th>\n",
       "      <td>0</td>\n",
       "      <td>0.080078</td>\n",
       "      <td>69</td>\n",
       "      <td>0</td>\n",
       "      <td>1248.0</td>\n",
       "      <td>0.0</td>\n",
       "      <td>8</td>\n",
       "      <td>0</td>\n",
       "      <td>1</td>\n",
       "      <td>0</td>\n",
       "      <td>1.0</td>\n",
       "      <td>Old</td>\n",
       "    </tr>\n",
       "    <tr>\n",
       "      <th>149673</th>\n",
       "      <td>0</td>\n",
       "      <td>0.132324</td>\n",
       "      <td>82</td>\n",
       "      <td>0</td>\n",
       "      <td>4123.0</td>\n",
       "      <td>0.0</td>\n",
       "      <td>14</td>\n",
       "      <td>0</td>\n",
       "      <td>2</td>\n",
       "      <td>0</td>\n",
       "      <td>0.0</td>\n",
       "      <td>Old</td>\n",
       "    </tr>\n",
       "    <tr>\n",
       "      <th>149882</th>\n",
       "      <td>0</td>\n",
       "      <td>0.062408</td>\n",
       "      <td>77</td>\n",
       "      <td>0</td>\n",
       "      <td>714.5</td>\n",
       "      <td>1.0</td>\n",
       "      <td>3</td>\n",
       "      <td>0</td>\n",
       "      <td>0</td>\n",
       "      <td>0</td>\n",
       "      <td>0.0</td>\n",
       "      <td>Old</td>\n",
       "    </tr>\n",
       "    <tr>\n",
       "      <th>149950</th>\n",
       "      <td>0</td>\n",
       "      <td>0.004826</td>\n",
       "      <td>61</td>\n",
       "      <td>0</td>\n",
       "      <td>1940.0</td>\n",
       "      <td>0.0</td>\n",
       "      <td>10</td>\n",
       "      <td>0</td>\n",
       "      <td>1</td>\n",
       "      <td>0</td>\n",
       "      <td>0.0</td>\n",
       "      <td>Old</td>\n",
       "    </tr>\n",
       "  </tbody>\n",
       "</table>\n",
       "<p>2239 rows × 12 columns</p>\n",
       "</div>"
      ],
      "text/plain": [
       "        SeriousDlqin2yrs  RevolvingUtilizationOfUnsecuredLines  age  \\\n",
       "14                     0                              0.019653   76   \n",
       "44                     0                              0.368896   68   \n",
       "50                     0                              0.818848   73   \n",
       "73                     0                              0.059662   31   \n",
       "90                     0                              0.039398   51   \n",
       "...                  ...                                   ...  ...   \n",
       "149562                 0                              0.230835   72   \n",
       "149646                 0                              0.080078   69   \n",
       "149673                 0                              0.132324   82   \n",
       "149882                 0                              0.062408   77   \n",
       "149950                 0                              0.004826   61   \n",
       "\n",
       "        NumberOfTime30-59DaysPastDueNotWorse  DebtRatio  MonthlyIncome  \\\n",
       "14                                         0      477.0            0.0   \n",
       "44                                         0     1687.5            1.0   \n",
       "50                                         0     3095.0            0.0   \n",
       "73                                         0     3162.0            0.0   \n",
       "90                                         0    15466.0            0.0   \n",
       "...                                      ...        ...            ...   \n",
       "149562                                     0      430.0            0.0   \n",
       "149646                                     0     1248.0            0.0   \n",
       "149673                                     0     4123.0            0.0   \n",
       "149882                                     0      714.5            1.0   \n",
       "149950                                     0     1940.0            0.0   \n",
       "\n",
       "        NumberOfOpenCreditLinesAndLoans  NumberOfTimes90DaysLate  \\\n",
       "14                                    6                        0   \n",
       "44                                   31                        0   \n",
       "50                                    9                        0   \n",
       "73                                   11                        0   \n",
       "90                                    7                        0   \n",
       "...                                 ...                      ...   \n",
       "149562                                7                        0   \n",
       "149646                                8                        0   \n",
       "149673                               14                        0   \n",
       "149882                                3                        0   \n",
       "149950                               10                        0   \n",
       "\n",
       "        NumberRealEstateLoansOrLines  NumberOfTime60-89DaysPastDueNotWorse  \\\n",
       "14                                 1                                     0   \n",
       "44                                 1                                     0   \n",
       "50                                 1                                     1   \n",
       "73                                 2                                     0   \n",
       "90                                 0                                     0   \n",
       "...                              ...                                   ...   \n",
       "149562                             0                                     0   \n",
       "149646                             1                                     0   \n",
       "149673                             2                                     0   \n",
       "149882                             0                                     0   \n",
       "149950                             1                                     0   \n",
       "\n",
       "        NumberOfDependents age_cat  \n",
       "14                     0.0     Old  \n",
       "44                     0.0     Old  \n",
       "50                     0.0     Old  \n",
       "73                     1.0   Young  \n",
       "90                     0.0   Adult  \n",
       "...                    ...     ...  \n",
       "149562                 0.0     Old  \n",
       "149646                 1.0     Old  \n",
       "149673                 0.0     Old  \n",
       "149882                 0.0     Old  \n",
       "149950                 0.0     Old  \n",
       "\n",
       "[2239 rows x 12 columns]"
      ]
     },
     "execution_count": 86,
     "metadata": {},
     "output_type": "execute_result"
    }
   ],
   "source": [
    "train_data.loc[train_data.MonthlyIncome<=1]"
   ]
  },
  {
   "cell_type": "code",
   "execution_count": 87,
   "id": "b577ff38",
   "metadata": {},
   "outputs": [
    {
     "data": {
      "text/html": [
       "<div>\n",
       "<style scoped>\n",
       "    .dataframe tbody tr th:only-of-type {\n",
       "        vertical-align: middle;\n",
       "    }\n",
       "\n",
       "    .dataframe tbody tr th {\n",
       "        vertical-align: top;\n",
       "    }\n",
       "\n",
       "    .dataframe thead th {\n",
       "        text-align: right;\n",
       "    }\n",
       "</style>\n",
       "<table border=\"1\" class=\"dataframe\">\n",
       "  <thead>\n",
       "    <tr style=\"text-align: right;\">\n",
       "      <th></th>\n",
       "      <th>SeriousDlqin2yrs</th>\n",
       "      <th>RevolvingUtilizationOfUnsecuredLines</th>\n",
       "      <th>age</th>\n",
       "      <th>NumberOfTime30-59DaysPastDueNotWorse</th>\n",
       "      <th>DebtRatio</th>\n",
       "      <th>MonthlyIncome</th>\n",
       "      <th>NumberOfOpenCreditLinesAndLoans</th>\n",
       "      <th>NumberOfTimes90DaysLate</th>\n",
       "      <th>NumberRealEstateLoansOrLines</th>\n",
       "      <th>NumberOfTime60-89DaysPastDueNotWorse</th>\n",
       "      <th>NumberOfDependents</th>\n",
       "      <th>age_cat</th>\n",
       "    </tr>\n",
       "  </thead>\n",
       "  <tbody>\n",
       "    <tr>\n",
       "      <th>298</th>\n",
       "      <td>0</td>\n",
       "      <td>0.085144</td>\n",
       "      <td>25</td>\n",
       "      <td>0</td>\n",
       "      <td>1005.0</td>\n",
       "      <td>0.0</td>\n",
       "      <td>5</td>\n",
       "      <td>0</td>\n",
       "      <td>0</td>\n",
       "      <td>0</td>\n",
       "      <td>0.0</td>\n",
       "      <td>Student</td>\n",
       "    </tr>\n",
       "    <tr>\n",
       "      <th>6244</th>\n",
       "      <td>0</td>\n",
       "      <td>1.000000</td>\n",
       "      <td>24</td>\n",
       "      <td>0</td>\n",
       "      <td>141.0</td>\n",
       "      <td>0.0</td>\n",
       "      <td>1</td>\n",
       "      <td>0</td>\n",
       "      <td>0</td>\n",
       "      <td>0</td>\n",
       "      <td>0.0</td>\n",
       "      <td>Student</td>\n",
       "    </tr>\n",
       "    <tr>\n",
       "      <th>8184</th>\n",
       "      <td>0</td>\n",
       "      <td>1.000000</td>\n",
       "      <td>22</td>\n",
       "      <td>0</td>\n",
       "      <td>965.0</td>\n",
       "      <td>0.0</td>\n",
       "      <td>1</td>\n",
       "      <td>0</td>\n",
       "      <td>0</td>\n",
       "      <td>0</td>\n",
       "      <td>0.0</td>\n",
       "      <td>Student</td>\n",
       "    </tr>\n",
       "    <tr>\n",
       "      <th>9193</th>\n",
       "      <td>0</td>\n",
       "      <td>0.099792</td>\n",
       "      <td>23</td>\n",
       "      <td>0</td>\n",
       "      <td>9.0</td>\n",
       "      <td>0.0</td>\n",
       "      <td>1</td>\n",
       "      <td>0</td>\n",
       "      <td>0</td>\n",
       "      <td>0</td>\n",
       "      <td>0.0</td>\n",
       "      <td>Student</td>\n",
       "    </tr>\n",
       "    <tr>\n",
       "      <th>9239</th>\n",
       "      <td>0</td>\n",
       "      <td>0.197144</td>\n",
       "      <td>21</td>\n",
       "      <td>0</td>\n",
       "      <td>8.0</td>\n",
       "      <td>0.0</td>\n",
       "      <td>2</td>\n",
       "      <td>0</td>\n",
       "      <td>0</td>\n",
       "      <td>0</td>\n",
       "      <td>0.0</td>\n",
       "      <td>Student</td>\n",
       "    </tr>\n",
       "    <tr>\n",
       "      <th>...</th>\n",
       "      <td>...</td>\n",
       "      <td>...</td>\n",
       "      <td>...</td>\n",
       "      <td>...</td>\n",
       "      <td>...</td>\n",
       "      <td>...</td>\n",
       "      <td>...</td>\n",
       "      <td>...</td>\n",
       "      <td>...</td>\n",
       "      <td>...</td>\n",
       "      <td>...</td>\n",
       "      <td>...</td>\n",
       "    </tr>\n",
       "    <tr>\n",
       "      <th>140783</th>\n",
       "      <td>0</td>\n",
       "      <td>0.150513</td>\n",
       "      <td>25</td>\n",
       "      <td>0</td>\n",
       "      <td>45.0</td>\n",
       "      <td>1.0</td>\n",
       "      <td>6</td>\n",
       "      <td>0</td>\n",
       "      <td>0</td>\n",
       "      <td>0</td>\n",
       "      <td>0.0</td>\n",
       "      <td>Student</td>\n",
       "    </tr>\n",
       "    <tr>\n",
       "      <th>143004</th>\n",
       "      <td>0</td>\n",
       "      <td>0.583008</td>\n",
       "      <td>23</td>\n",
       "      <td>0</td>\n",
       "      <td>8.0</td>\n",
       "      <td>0.0</td>\n",
       "      <td>1</td>\n",
       "      <td>0</td>\n",
       "      <td>0</td>\n",
       "      <td>0</td>\n",
       "      <td>0.0</td>\n",
       "      <td>Student</td>\n",
       "    </tr>\n",
       "    <tr>\n",
       "      <th>147838</th>\n",
       "      <td>0</td>\n",
       "      <td>0.657227</td>\n",
       "      <td>23</td>\n",
       "      <td>0</td>\n",
       "      <td>19.0</td>\n",
       "      <td>0.0</td>\n",
       "      <td>2</td>\n",
       "      <td>0</td>\n",
       "      <td>0</td>\n",
       "      <td>0</td>\n",
       "      <td>0.0</td>\n",
       "      <td>Student</td>\n",
       "    </tr>\n",
       "    <tr>\n",
       "      <th>148758</th>\n",
       "      <td>0</td>\n",
       "      <td>0.079895</td>\n",
       "      <td>23</td>\n",
       "      <td>0</td>\n",
       "      <td>2.0</td>\n",
       "      <td>0.0</td>\n",
       "      <td>1</td>\n",
       "      <td>0</td>\n",
       "      <td>0</td>\n",
       "      <td>0</td>\n",
       "      <td>0.0</td>\n",
       "      <td>Student</td>\n",
       "    </tr>\n",
       "    <tr>\n",
       "      <th>149186</th>\n",
       "      <td>0</td>\n",
       "      <td>0.056915</td>\n",
       "      <td>23</td>\n",
       "      <td>0</td>\n",
       "      <td>6.0</td>\n",
       "      <td>0.0</td>\n",
       "      <td>2</td>\n",
       "      <td>0</td>\n",
       "      <td>0</td>\n",
       "      <td>0</td>\n",
       "      <td>0.0</td>\n",
       "      <td>Student</td>\n",
       "    </tr>\n",
       "  </tbody>\n",
       "</table>\n",
       "<p>120 rows × 12 columns</p>\n",
       "</div>"
      ],
      "text/plain": [
       "        SeriousDlqin2yrs  RevolvingUtilizationOfUnsecuredLines  age  \\\n",
       "298                    0                              0.085144   25   \n",
       "6244                   0                              1.000000   24   \n",
       "8184                   0                              1.000000   22   \n",
       "9193                   0                              0.099792   23   \n",
       "9239                   0                              0.197144   21   \n",
       "...                  ...                                   ...  ...   \n",
       "140783                 0                              0.150513   25   \n",
       "143004                 0                              0.583008   23   \n",
       "147838                 0                              0.657227   23   \n",
       "148758                 0                              0.079895   23   \n",
       "149186                 0                              0.056915   23   \n",
       "\n",
       "        NumberOfTime30-59DaysPastDueNotWorse  DebtRatio  MonthlyIncome  \\\n",
       "298                                        0     1005.0            0.0   \n",
       "6244                                       0      141.0            0.0   \n",
       "8184                                       0      965.0            0.0   \n",
       "9193                                       0        9.0            0.0   \n",
       "9239                                       0        8.0            0.0   \n",
       "...                                      ...        ...            ...   \n",
       "140783                                     0       45.0            1.0   \n",
       "143004                                     0        8.0            0.0   \n",
       "147838                                     0       19.0            0.0   \n",
       "148758                                     0        2.0            0.0   \n",
       "149186                                     0        6.0            0.0   \n",
       "\n",
       "        NumberOfOpenCreditLinesAndLoans  NumberOfTimes90DaysLate  \\\n",
       "298                                   5                        0   \n",
       "6244                                  1                        0   \n",
       "8184                                  1                        0   \n",
       "9193                                  1                        0   \n",
       "9239                                  2                        0   \n",
       "...                                 ...                      ...   \n",
       "140783                                6                        0   \n",
       "143004                                1                        0   \n",
       "147838                                2                        0   \n",
       "148758                                1                        0   \n",
       "149186                                2                        0   \n",
       "\n",
       "        NumberRealEstateLoansOrLines  NumberOfTime60-89DaysPastDueNotWorse  \\\n",
       "298                                0                                     0   \n",
       "6244                               0                                     0   \n",
       "8184                               0                                     0   \n",
       "9193                               0                                     0   \n",
       "9239                               0                                     0   \n",
       "...                              ...                                   ...   \n",
       "140783                             0                                     0   \n",
       "143004                             0                                     0   \n",
       "147838                             0                                     0   \n",
       "148758                             0                                     0   \n",
       "149186                             0                                     0   \n",
       "\n",
       "        NumberOfDependents  age_cat  \n",
       "298                    0.0  Student  \n",
       "6244                   0.0  Student  \n",
       "8184                   0.0  Student  \n",
       "9193                   0.0  Student  \n",
       "9239                   0.0  Student  \n",
       "...                    ...      ...  \n",
       "140783                 0.0  Student  \n",
       "143004                 0.0  Student  \n",
       "147838                 0.0  Student  \n",
       "148758                 0.0  Student  \n",
       "149186                 0.0  Student  \n",
       "\n",
       "[120 rows x 12 columns]"
      ]
     },
     "execution_count": 87,
     "metadata": {},
     "output_type": "execute_result"
    }
   ],
   "source": [
    "train_data.loc[(train_data.MonthlyIncome<=1)&(train_data.age_cat=='Student')&(train_data.DebtRatio>1)]"
   ]
  },
  {
   "cell_type": "code",
   "execution_count": 88,
   "id": "0ad37f17",
   "metadata": {},
   "outputs": [
    {
     "name": "stdout",
     "output_type": "stream",
     "text": [
      "0    2156\n",
      "1      83\n",
      "Name: SeriousDlqin2yrs, dtype: int64\n"
     ]
    },
    {
     "data": {
      "text/plain": [
       "<AxesSubplot:xlabel='age_cat', ylabel='MonthlyIncome'>"
      ]
     },
     "execution_count": 88,
     "metadata": {},
     "output_type": "execute_result"
    },
    {
     "data": {
      "image/png": "[encoded data removed]",
      "text/plain": [
       "<Figure size 1080x252 with 1 Axes>"
      ]
     },
     "metadata": {
      "needs_background": "light"
     },
     "output_type": "display_data"
    }
   ],
   "source": [
    "print(train_data.loc[train_data.MonthlyIncome<=1,'SeriousDlqin2yrs'].value_counts())\n",
    "sns.barplot(x='age_cat',y='MonthlyIncome',data=train_data[train_data.MonthlyIncome<=1],hue='SeriousDlqin2yrs',palette='rainbow')"
   ]
  },
  {
   "cell_type": "code",
   "execution_count": 89,
   "id": "120e5355",
   "metadata": {},
   "outputs": [
    {
     "data": {
      "text/plain": [
       "<AxesSubplot:xlabel='age_cat', ylabel='MonthlyIncome'>"
      ]
     },
     "execution_count": 89,
     "metadata": {},
     "output_type": "execute_result"
    },
    {
     "data": {
      "image/png": "[encoded data removed]",
      "text/plain": [
       "<Figure size 1080x252 with 1 Axes>"
      ]
     },
     "metadata": {
      "needs_background": "light"
     },
     "output_type": "display_data"
    }
   ],
   "source": [
    "sns.boxplot(x='age_cat',y='MonthlyIncome',data=train_data[train_data.MonthlyIncome>1],hue='SeriousDlqin2yrs',palette='rainbow')"
   ]
  },
  {
   "cell_type": "code",
   "execution_count": 90,
   "id": "ea3c8e4b",
   "metadata": {},
   "outputs": [
    {
     "data": {
      "text/plain": [
       "<AxesSubplot:xlabel='age_cat', ylabel='MonthlyIncome'>"
      ]
     },
     "execution_count": 90,
     "metadata": {},
     "output_type": "execute_result"
    },
    {
     "data": {
      "image/png": "[encoded data removed]",
      "text/plain": [
       "<Figure size 1080x252 with 1 Axes>"
      ]
     },
     "metadata": {
      "needs_background": "light"
     },
     "output_type": "display_data"
    }
   ],
   "source": [
    "sns.boxplot(x='age_cat',y='MonthlyIncome',data=train_data[train_data.MonthlyIncome<=1])"
   ]
  },
  {
   "cell_type": "markdown",
   "id": "8f4d74dd",
   "metadata": {},
   "source": [
    "> - `MonthlyIncome` is also the parameter highly skewed and contains outliers.\n",
    "> - There are values with `MonthlyIncome` 0 to 10, for which we dosen't have the interpretation.\n",
    "> - For this values the `DebtRatio` is more as it is ration of debt to income.\n",
    "> - `DebtRatio` is dependant on `MonthlyIncome` so `MonthlyIncome` needs to be cleaned. It is also contains null values.\n",
    "> - Outliers in `MonthlyIncome` can be handle by using `log transform`."
   ]
  },
  {
   "cell_type": "code",
   "execution_count": 91,
   "id": "59294b12",
   "metadata": {},
   "outputs": [],
   "source": [
    "child = 0 #transformed_data.loc[transformed_data.age_cat=='Child','MonthlyIncome_lg'].median()"
   ]
  },
  {
   "cell_type": "code",
   "execution_count": 92,
   "id": "67bcddf9",
   "metadata": {},
   "outputs": [],
   "source": [
    "student = transformed_data.loc[transformed_data.age_cat=='Student','MonthlyIncome_lg'].median()"
   ]
  },
  {
   "cell_type": "code",
   "execution_count": 93,
   "id": "d94091de",
   "metadata": {},
   "outputs": [],
   "source": [
    "young = transformed_data.loc[transformed_data.age_cat=='Young','MonthlyIncome_lg'].median()"
   ]
  },
  {
   "cell_type": "code",
   "execution_count": 94,
   "id": "f6c7d461",
   "metadata": {},
   "outputs": [],
   "source": [
    "adult = transformed_data.loc[transformed_data.age_cat=='Adult','MonthlyIncome_lg'].median()"
   ]
  },
  {
   "cell_type": "code",
   "execution_count": 95,
   "id": "62797bc0",
   "metadata": {},
   "outputs": [],
   "source": [
    "old = transformed_data.loc[transformed_data.age_cat=='Old','MonthlyIncome_lg'].median()"
   ]
  },
  {
   "cell_type": "code",
   "execution_count": 96,
   "id": "c44aae6b",
   "metadata": {},
   "outputs": [],
   "source": [
    "transformed_data.loc[(transformed_data.age_cat=='Child')&(transformed_data.MonthlyIncome_lg.isna()),'MonthlyIncome_lg'] = 0"
   ]
  },
  {
   "cell_type": "code",
   "execution_count": 97,
   "id": "49f4cf18",
   "metadata": {},
   "outputs": [],
   "source": [
    "transformed_data.loc[(transformed_data.age_cat=='Student')&(transformed_data.MonthlyIncome_lg.isna()),'MonthlyIncome_lg'] = student"
   ]
  },
  {
   "cell_type": "code",
   "execution_count": 98,
   "id": "d9f7c66f",
   "metadata": {},
   "outputs": [],
   "source": [
    "transformed_data.loc[(transformed_data.age_cat=='Young')&(transformed_data.MonthlyIncome_lg.isna()),'MonthlyIncome_lg'] = young"
   ]
  },
  {
   "cell_type": "code",
   "execution_count": 99,
   "id": "526e013d",
   "metadata": {},
   "outputs": [],
   "source": [
    "transformed_data.loc[(transformed_data.age_cat=='Adult')&(transformed_data.MonthlyIncome_lg.isna()),'MonthlyIncome_lg'] = adult"
   ]
  },
  {
   "cell_type": "code",
   "execution_count": 100,
   "id": "728d4753",
   "metadata": {},
   "outputs": [],
   "source": [
    "transformed_data.loc[(transformed_data.age_cat=='Old')&(transformed_data.MonthlyIncome_lg.isna()),'MonthlyIncome_lg'] = old"
   ]
  },
  {
   "cell_type": "code",
   "execution_count": 101,
   "id": "63f44aab",
   "metadata": {},
   "outputs": [],
   "source": [
    "child = 0 #test_data.loc[test_data.age_cat=='Child','MonthlyIncome_lg'].median()\n",
    "student = test_data.loc[test_data.age_cat=='Student','MonthlyIncome_lg'].median()\n",
    "young = test_data.loc[test_data.age_cat=='Young','MonthlyIncome_lg'].median()\n",
    "adult = test_data.loc[test_data.age_cat=='Adult','MonthlyIncome_lg'].median()\n",
    "old = test_data.loc[test_data.age_cat=='Old','MonthlyIncome_lg'].median()\n",
    "\n",
    "test_data.loc[(test_data.age_cat=='Child')&(test_data.MonthlyIncome_lg.isna()),'MonthlyIncome_lg'] = 0\n",
    "test_data.loc[(test_data.age_cat=='Student')&(test_data.MonthlyIncome_lg.isna()),'MonthlyIncome_lg'] = student\n",
    "test_data.loc[(test_data.age_cat=='Young')&(test_data.MonthlyIncome_lg.isna()),'MonthlyIncome_lg'] = young\n",
    "test_data.loc[(test_data.age_cat=='Adult')&(test_data.MonthlyIncome_lg.isna()),'MonthlyIncome_lg'] = adult\n",
    "test_data.loc[(test_data.age_cat=='Old')&(test_data.MonthlyIncome_lg.isna()),'MonthlyIncome_lg'] = old"
   ]
  },
  {
   "cell_type": "code",
   "execution_count": 102,
   "id": "7b9c366e",
   "metadata": {},
   "outputs": [
    {
     "data": {
      "image/png": "[encoded data removed]",
      "text/plain": [
       "<Figure size 1080x252 with 2 Axes>"
      ]
     },
     "metadata": {
      "needs_background": "light"
     },
     "output_type": "display_data"
    }
   ],
   "source": [
    "plt.rcParams[\"figure.figsize\"] = [15.00, 3.50]\n",
    "plt.rcParams[\"figure.autolayout\"] = True\n",
    "fig, ax = plt.subplots(1, 2)\n",
    "sns.distplot(transformed_data.loc[(transformed_data['SeriousDlqin2yrs']==0),'MonthlyIncome_lg'], ax=ax[0],color='b',rug=True)\n",
    "sns.distplot(transformed_data.loc[(transformed_data['SeriousDlqin2yrs']==1),'MonthlyIncome_lg'], ax=ax[1],color='r',rug=True)\n",
    "plt.show()"
   ]
  },
  {
   "cell_type": "code",
   "execution_count": 103,
   "id": "bf6ae476",
   "metadata": {},
   "outputs": [
    {
     "data": {
      "image/png": "[encoded data removed]",
      "text/plain": [
       "<Figure size 1080x252 with 2 Axes>"
      ]
     },
     "metadata": {
      "needs_background": "light"
     },
     "output_type": "display_data"
    }
   ],
   "source": [
    "plt.rcParams[\"figure.figsize\"] = [15.00, 3.50]\n",
    "plt.rcParams[\"figure.autolayout\"] = True\n",
    "fig, ax = plt.subplots(1, 2)\n",
    "sns.distplot(test_data.loc[:,'MonthlyIncome_lg'], ax=ax[0],color='b',rug=True)\n",
    "plt.show()"
   ]
  },
  {
   "cell_type": "code",
   "execution_count": 104,
   "id": "1ac0e2f1",
   "metadata": {},
   "outputs": [
    {
     "data": {
      "text/plain": [
       "SeriousDlqin2yrs                            0\n",
       "RevolvingUtilizationOfUnsecuredLines        0\n",
       "age                                         0\n",
       "NumberOfTime30-59DaysPastDueNotWorse        0\n",
       "DebtRatio                                   0\n",
       "MonthlyIncome                           29731\n",
       "NumberOfOpenCreditLinesAndLoans             0\n",
       "NumberOfTimes90DaysLate                     0\n",
       "NumberRealEstateLoansOrLines                0\n",
       "NumberOfTime60-89DaysPastDueNotWorse        0\n",
       "NumberOfDependents                       3924\n",
       "Weighted_Delay_sum                          0\n",
       "age_cat                                     0\n",
       "MonthlyIncome_lg                            0\n",
       "dtype: int64"
      ]
     },
     "execution_count": 104,
     "metadata": {},
     "output_type": "execute_result"
    }
   ],
   "source": [
    "transformed_data.isna().sum()"
   ]
  },
  {
   "cell_type": "code",
   "execution_count": 105,
   "id": "258fec20",
   "metadata": {},
   "outputs": [
    {
     "data": {
      "text/plain": [
       "SeriousDlqin2yrs                        101503\n",
       "RevolvingUtilizationOfUnsecuredLines         0\n",
       "age                                          0\n",
       "NumberOfTime30-59DaysPastDueNotWorse         0\n",
       "DebtRatio                                    0\n",
       "MonthlyIncome                            20103\n",
       "NumberOfOpenCreditLinesAndLoans              0\n",
       "NumberOfTimes90DaysLate                      0\n",
       "NumberRealEstateLoansOrLines                 0\n",
       "NumberOfTime60-89DaysPastDueNotWorse         0\n",
       "NumberOfDependents                        2626\n",
       "Weighted_Delay_sum                           0\n",
       "age_cat                                      0\n",
       "MonthlyIncome_lg                             0\n",
       "dtype: int64"
      ]
     },
     "execution_count": 105,
     "metadata": {},
     "output_type": "execute_result"
    }
   ],
   "source": [
    "test_data.isna().sum()"
   ]
  },
  {
   "cell_type": "code",
   "execution_count": 106,
   "id": "48de1f24",
   "metadata": {},
   "outputs": [],
   "source": [
    "#transformed_data.dropna(subset='age_cat',inplace=True)"
   ]
  },
  {
   "cell_type": "markdown",
   "id": "3fe8ae23",
   "metadata": {},
   "source": [
    "# Analyzing DebtRatio"
   ]
  },
  {
   "cell_type": "code",
   "execution_count": 107,
   "id": "b33f4b87",
   "metadata": {},
   "outputs": [
    {
     "name": "stdout",
     "output_type": "stream",
     "text": [
      "Number of outliers :  659\n"
     ]
    }
   ],
   "source": [
    "res = mark_outliers_zscore(train_data.DebtRatio)"
   ]
  },
  {
   "cell_type": "code",
   "execution_count": 108,
   "id": "f2c964b2",
   "metadata": {},
   "outputs": [
    {
     "name": "stdout",
     "output_type": "stream",
     "text": [
      "Large dataset detected, using 10000 random samples for the plots. Summary statistics are still based on the entire dataset.\n"
     ]
    },
    {
     "data": {
      "text/plain": [
       "<AxesSubplot:xlabel='DebtRatio', ylabel='Density'>"
      ]
     },
     "execution_count": 108,
     "metadata": {},
     "output_type": "execute_result"
    },
    {
     "data": {
      "image/png": "[encoded data removed]",
      "text/plain": [
       "<Figure size 1080x216 with 1 Axes>"
      ]
     },
     "metadata": {
      "needs_background": "light"
     },
     "output_type": "display_data"
    }
   ],
   "source": [
    "klib.dist_plot(np.log(train_data.DebtRatio+0.0001))"
   ]
  },
  {
   "cell_type": "code",
   "execution_count": 109,
   "id": "de51849f",
   "metadata": {},
   "outputs": [
    {
     "data": {
      "text/html": [
       "<div>\n",
       "<style scoped>\n",
       "    .dataframe tbody tr th:only-of-type {\n",
       "        vertical-align: middle;\n",
       "    }\n",
       "\n",
       "    .dataframe tbody tr th {\n",
       "        vertical-align: top;\n",
       "    }\n",
       "\n",
       "    .dataframe thead th {\n",
       "        text-align: right;\n",
       "    }\n",
       "</style>\n",
       "<table border=\"1\" class=\"dataframe\">\n",
       "  <thead>\n",
       "    <tr style=\"text-align: right;\">\n",
       "      <th></th>\n",
       "      <th>SeriousDlqin2yrs</th>\n",
       "      <th>RevolvingUtilizationOfUnsecuredLines</th>\n",
       "      <th>age</th>\n",
       "      <th>NumberOfTime30-59DaysPastDueNotWorse</th>\n",
       "      <th>DebtRatio</th>\n",
       "      <th>MonthlyIncome</th>\n",
       "      <th>NumberOfOpenCreditLinesAndLoans</th>\n",
       "      <th>NumberOfTimes90DaysLate</th>\n",
       "      <th>NumberRealEstateLoansOrLines</th>\n",
       "      <th>NumberOfTime60-89DaysPastDueNotWorse</th>\n",
       "      <th>NumberOfDependents</th>\n",
       "      <th>Weighted_Delay_sum</th>\n",
       "      <th>age_cat</th>\n",
       "      <th>MonthlyIncome_lg</th>\n",
       "    </tr>\n",
       "  </thead>\n",
       "  <tbody>\n",
       "    <tr>\n",
       "      <th>90</th>\n",
       "      <td>0</td>\n",
       "      <td>0.039398</td>\n",
       "      <td>51</td>\n",
       "      <td>0</td>\n",
       "      <td>15466.0</td>\n",
       "      <td>0.0</td>\n",
       "      <td>7</td>\n",
       "      <td>0</td>\n",
       "      <td>0</td>\n",
       "      <td>0</td>\n",
       "      <td>0.0</td>\n",
       "      <td>0.0</td>\n",
       "      <td>Adult</td>\n",
       "      <td>0.000000</td>\n",
       "    </tr>\n",
       "    <tr>\n",
       "      <th>351</th>\n",
       "      <td>0</td>\n",
       "      <td>0.000000</td>\n",
       "      <td>58</td>\n",
       "      <td>0</td>\n",
       "      <td>8380.0</td>\n",
       "      <td>NaN</td>\n",
       "      <td>20</td>\n",
       "      <td>0</td>\n",
       "      <td>5</td>\n",
       "      <td>0</td>\n",
       "      <td>0.0</td>\n",
       "      <td>0.0</td>\n",
       "      <td>Adult</td>\n",
       "      <td>8.699681</td>\n",
       "    </tr>\n",
       "    <tr>\n",
       "      <th>508</th>\n",
       "      <td>0</td>\n",
       "      <td>1.000000</td>\n",
       "      <td>73</td>\n",
       "      <td>0</td>\n",
       "      <td>8500.0</td>\n",
       "      <td>0.0</td>\n",
       "      <td>2</td>\n",
       "      <td>0</td>\n",
       "      <td>0</td>\n",
       "      <td>0</td>\n",
       "      <td>0.0</td>\n",
       "      <td>0.0</td>\n",
       "      <td>Old</td>\n",
       "      <td>0.000000</td>\n",
       "    </tr>\n",
       "    <tr>\n",
       "      <th>535</th>\n",
       "      <td>0</td>\n",
       "      <td>0.749512</td>\n",
       "      <td>62</td>\n",
       "      <td>0</td>\n",
       "      <td>7963.0</td>\n",
       "      <td>NaN</td>\n",
       "      <td>7</td>\n",
       "      <td>0</td>\n",
       "      <td>2</td>\n",
       "      <td>0</td>\n",
       "      <td>3.0</td>\n",
       "      <td>0.0</td>\n",
       "      <td>Old</td>\n",
       "      <td>8.561019</td>\n",
       "    </tr>\n",
       "    <tr>\n",
       "      <th>844</th>\n",
       "      <td>0</td>\n",
       "      <td>0.734375</td>\n",
       "      <td>45</td>\n",
       "      <td>0</td>\n",
       "      <td>11311.0</td>\n",
       "      <td>0.0</td>\n",
       "      <td>6</td>\n",
       "      <td>0</td>\n",
       "      <td>2</td>\n",
       "      <td>1</td>\n",
       "      <td>0.0</td>\n",
       "      <td>0.3</td>\n",
       "      <td>Adult</td>\n",
       "      <td>0.000000</td>\n",
       "    </tr>\n",
       "    <tr>\n",
       "      <th>...</th>\n",
       "      <td>...</td>\n",
       "      <td>...</td>\n",
       "      <td>...</td>\n",
       "      <td>...</td>\n",
       "      <td>...</td>\n",
       "      <td>...</td>\n",
       "      <td>...</td>\n",
       "      <td>...</td>\n",
       "      <td>...</td>\n",
       "      <td>...</td>\n",
       "      <td>...</td>\n",
       "      <td>...</td>\n",
       "      <td>...</td>\n",
       "      <td>...</td>\n",
       "    </tr>\n",
       "    <tr>\n",
       "      <th>148793</th>\n",
       "      <td>1</td>\n",
       "      <td>1.000000</td>\n",
       "      <td>45</td>\n",
       "      <td>0</td>\n",
       "      <td>6514.0</td>\n",
       "      <td>NaN</td>\n",
       "      <td>7</td>\n",
       "      <td>0</td>\n",
       "      <td>3</td>\n",
       "      <td>0</td>\n",
       "      <td>0.0</td>\n",
       "      <td>0.0</td>\n",
       "      <td>Adult</td>\n",
       "      <td>8.699681</td>\n",
       "    </tr>\n",
       "    <tr>\n",
       "      <th>148872</th>\n",
       "      <td>0</td>\n",
       "      <td>0.897461</td>\n",
       "      <td>47</td>\n",
       "      <td>2</td>\n",
       "      <td>20351.0</td>\n",
       "      <td>NaN</td>\n",
       "      <td>9</td>\n",
       "      <td>0</td>\n",
       "      <td>5</td>\n",
       "      <td>0</td>\n",
       "      <td>2.0</td>\n",
       "      <td>0.4</td>\n",
       "      <td>Adult</td>\n",
       "      <td>8.699681</td>\n",
       "    </tr>\n",
       "    <tr>\n",
       "      <th>149354</th>\n",
       "      <td>0</td>\n",
       "      <td>0.207642</td>\n",
       "      <td>64</td>\n",
       "      <td>0</td>\n",
       "      <td>7335.0</td>\n",
       "      <td>NaN</td>\n",
       "      <td>18</td>\n",
       "      <td>0</td>\n",
       "      <td>2</td>\n",
       "      <td>0</td>\n",
       "      <td>0.0</td>\n",
       "      <td>0.0</td>\n",
       "      <td>Old</td>\n",
       "      <td>8.561019</td>\n",
       "    </tr>\n",
       "    <tr>\n",
       "      <th>149533</th>\n",
       "      <td>0</td>\n",
       "      <td>0.329834</td>\n",
       "      <td>62</td>\n",
       "      <td>0</td>\n",
       "      <td>6578.0</td>\n",
       "      <td>NaN</td>\n",
       "      <td>16</td>\n",
       "      <td>0</td>\n",
       "      <td>3</td>\n",
       "      <td>0</td>\n",
       "      <td>0.0</td>\n",
       "      <td>0.0</td>\n",
       "      <td>Old</td>\n",
       "      <td>8.561019</td>\n",
       "    </tr>\n",
       "    <tr>\n",
       "      <th>149848</th>\n",
       "      <td>0</td>\n",
       "      <td>0.491943</td>\n",
       "      <td>48</td>\n",
       "      <td>0</td>\n",
       "      <td>15968.0</td>\n",
       "      <td>NaN</td>\n",
       "      <td>16</td>\n",
       "      <td>0</td>\n",
       "      <td>5</td>\n",
       "      <td>0</td>\n",
       "      <td>0.0</td>\n",
       "      <td>0.0</td>\n",
       "      <td>Adult</td>\n",
       "      <td>8.699681</td>\n",
       "    </tr>\n",
       "  </tbody>\n",
       "</table>\n",
       "<p>659 rows × 14 columns</p>\n",
       "</div>"
      ],
      "text/plain": [
       "        SeriousDlqin2yrs  RevolvingUtilizationOfUnsecuredLines  age  \\\n",
       "90                     0                              0.039398   51   \n",
       "351                    0                              0.000000   58   \n",
       "508                    0                              1.000000   73   \n",
       "535                    0                              0.749512   62   \n",
       "844                    0                              0.734375   45   \n",
       "...                  ...                                   ...  ...   \n",
       "148793                 1                              1.000000   45   \n",
       "148872                 0                              0.897461   47   \n",
       "149354                 0                              0.207642   64   \n",
       "149533                 0                              0.329834   62   \n",
       "149848                 0                              0.491943   48   \n",
       "\n",
       "        NumberOfTime30-59DaysPastDueNotWorse  DebtRatio  MonthlyIncome  \\\n",
       "90                                         0    15466.0            0.0   \n",
       "351                                        0     8380.0            NaN   \n",
       "508                                        0     8500.0            0.0   \n",
       "535                                        0     7963.0            NaN   \n",
       "844                                        0    11311.0            0.0   \n",
       "...                                      ...        ...            ...   \n",
       "148793                                     0     6514.0            NaN   \n",
       "148872                                     2    20351.0            NaN   \n",
       "149354                                     0     7335.0            NaN   \n",
       "149533                                     0     6578.0            NaN   \n",
       "149848                                     0    15968.0            NaN   \n",
       "\n",
       "        NumberOfOpenCreditLinesAndLoans  NumberOfTimes90DaysLate  \\\n",
       "90                                    7                        0   \n",
       "351                                  20                        0   \n",
       "508                                   2                        0   \n",
       "535                                   7                        0   \n",
       "844                                   6                        0   \n",
       "...                                 ...                      ...   \n",
       "148793                                7                        0   \n",
       "148872                                9                        0   \n",
       "149354                               18                        0   \n",
       "149533                               16                        0   \n",
       "149848                               16                        0   \n",
       "\n",
       "        NumberRealEstateLoansOrLines  NumberOfTime60-89DaysPastDueNotWorse  \\\n",
       "90                                 0                                     0   \n",
       "351                                5                                     0   \n",
       "508                                0                                     0   \n",
       "535                                2                                     0   \n",
       "844                                2                                     1   \n",
       "...                              ...                                   ...   \n",
       "148793                             3                                     0   \n",
       "148872                             5                                     0   \n",
       "149354                             2                                     0   \n",
       "149533                             3                                     0   \n",
       "149848                             5                                     0   \n",
       "\n",
       "        NumberOfDependents  Weighted_Delay_sum age_cat  MonthlyIncome_lg  \n",
       "90                     0.0                 0.0   Adult          0.000000  \n",
       "351                    0.0                 0.0   Adult          8.699681  \n",
       "508                    0.0                 0.0     Old          0.000000  \n",
       "535                    3.0                 0.0     Old          8.561019  \n",
       "844                    0.0                 0.3   Adult          0.000000  \n",
       "...                    ...                 ...     ...               ...  \n",
       "148793                 0.0                 0.0   Adult          8.699681  \n",
       "148872                 2.0                 0.4   Adult          8.699681  \n",
       "149354                 0.0                 0.0     Old          8.561019  \n",
       "149533                 0.0                 0.0     Old          8.561019  \n",
       "149848                 0.0                 0.0   Adult          8.699681  \n",
       "\n",
       "[659 rows x 14 columns]"
      ]
     },
     "execution_count": 109,
     "metadata": {},
     "output_type": "execute_result"
    }
   ],
   "source": [
    "transformed_data[(transformed_data.index.isin(res))]"
   ]
  },
  {
   "cell_type": "code",
   "execution_count": 110,
   "id": "14fb3d61",
   "metadata": {},
   "outputs": [
    {
     "data": {
      "text/html": [
       "<div>\n",
       "<style scoped>\n",
       "    .dataframe tbody tr th:only-of-type {\n",
       "        vertical-align: middle;\n",
       "    }\n",
       "\n",
       "    .dataframe tbody tr th {\n",
       "        vertical-align: top;\n",
       "    }\n",
       "\n",
       "    .dataframe thead th {\n",
       "        text-align: right;\n",
       "    }\n",
       "</style>\n",
       "<table border=\"1\" class=\"dataframe\">\n",
       "  <thead>\n",
       "    <tr style=\"text-align: right;\">\n",
       "      <th></th>\n",
       "      <th>SeriousDlqin2yrs</th>\n",
       "      <th>RevolvingUtilizationOfUnsecuredLines</th>\n",
       "      <th>age</th>\n",
       "      <th>NumberOfTime30-59DaysPastDueNotWorse</th>\n",
       "      <th>DebtRatio</th>\n",
       "      <th>MonthlyIncome</th>\n",
       "      <th>NumberOfOpenCreditLinesAndLoans</th>\n",
       "      <th>NumberOfTimes90DaysLate</th>\n",
       "      <th>NumberRealEstateLoansOrLines</th>\n",
       "      <th>NumberOfTime60-89DaysPastDueNotWorse</th>\n",
       "      <th>NumberOfDependents</th>\n",
       "      <th>age_cat</th>\n",
       "    </tr>\n",
       "  </thead>\n",
       "  <tbody>\n",
       "    <tr>\n",
       "      <th>90</th>\n",
       "      <td>0</td>\n",
       "      <td>0.039398</td>\n",
       "      <td>51</td>\n",
       "      <td>0</td>\n",
       "      <td>15466.0</td>\n",
       "      <td>0.0</td>\n",
       "      <td>7</td>\n",
       "      <td>0</td>\n",
       "      <td>0</td>\n",
       "      <td>0</td>\n",
       "      <td>0.0</td>\n",
       "      <td>Adult</td>\n",
       "    </tr>\n",
       "    <tr>\n",
       "      <th>351</th>\n",
       "      <td>0</td>\n",
       "      <td>0.000000</td>\n",
       "      <td>58</td>\n",
       "      <td>0</td>\n",
       "      <td>8380.0</td>\n",
       "      <td>NaN</td>\n",
       "      <td>20</td>\n",
       "      <td>0</td>\n",
       "      <td>5</td>\n",
       "      <td>0</td>\n",
       "      <td>0.0</td>\n",
       "      <td>Adult</td>\n",
       "    </tr>\n",
       "    <tr>\n",
       "      <th>508</th>\n",
       "      <td>0</td>\n",
       "      <td>1.000000</td>\n",
       "      <td>73</td>\n",
       "      <td>0</td>\n",
       "      <td>8500.0</td>\n",
       "      <td>0.0</td>\n",
       "      <td>2</td>\n",
       "      <td>0</td>\n",
       "      <td>0</td>\n",
       "      <td>0</td>\n",
       "      <td>0.0</td>\n",
       "      <td>Old</td>\n",
       "    </tr>\n",
       "    <tr>\n",
       "      <th>535</th>\n",
       "      <td>0</td>\n",
       "      <td>0.749512</td>\n",
       "      <td>62</td>\n",
       "      <td>0</td>\n",
       "      <td>7963.0</td>\n",
       "      <td>NaN</td>\n",
       "      <td>7</td>\n",
       "      <td>0</td>\n",
       "      <td>2</td>\n",
       "      <td>0</td>\n",
       "      <td>3.0</td>\n",
       "      <td>Old</td>\n",
       "    </tr>\n",
       "    <tr>\n",
       "      <th>844</th>\n",
       "      <td>0</td>\n",
       "      <td>0.734375</td>\n",
       "      <td>45</td>\n",
       "      <td>0</td>\n",
       "      <td>11311.0</td>\n",
       "      <td>0.0</td>\n",
       "      <td>6</td>\n",
       "      <td>0</td>\n",
       "      <td>2</td>\n",
       "      <td>1</td>\n",
       "      <td>0.0</td>\n",
       "      <td>Adult</td>\n",
       "    </tr>\n",
       "    <tr>\n",
       "      <th>...</th>\n",
       "      <td>...</td>\n",
       "      <td>...</td>\n",
       "      <td>...</td>\n",
       "      <td>...</td>\n",
       "      <td>...</td>\n",
       "      <td>...</td>\n",
       "      <td>...</td>\n",
       "      <td>...</td>\n",
       "      <td>...</td>\n",
       "      <td>...</td>\n",
       "      <td>...</td>\n",
       "      <td>...</td>\n",
       "    </tr>\n",
       "    <tr>\n",
       "      <th>148793</th>\n",
       "      <td>1</td>\n",
       "      <td>1.000000</td>\n",
       "      <td>45</td>\n",
       "      <td>0</td>\n",
       "      <td>6514.0</td>\n",
       "      <td>NaN</td>\n",
       "      <td>7</td>\n",
       "      <td>0</td>\n",
       "      <td>3</td>\n",
       "      <td>0</td>\n",
       "      <td>0.0</td>\n",
       "      <td>Adult</td>\n",
       "    </tr>\n",
       "    <tr>\n",
       "      <th>148872</th>\n",
       "      <td>0</td>\n",
       "      <td>0.897461</td>\n",
       "      <td>47</td>\n",
       "      <td>2</td>\n",
       "      <td>20351.0</td>\n",
       "      <td>NaN</td>\n",
       "      <td>9</td>\n",
       "      <td>0</td>\n",
       "      <td>5</td>\n",
       "      <td>0</td>\n",
       "      <td>2.0</td>\n",
       "      <td>Adult</td>\n",
       "    </tr>\n",
       "    <tr>\n",
       "      <th>149354</th>\n",
       "      <td>0</td>\n",
       "      <td>0.207642</td>\n",
       "      <td>64</td>\n",
       "      <td>0</td>\n",
       "      <td>7335.0</td>\n",
       "      <td>NaN</td>\n",
       "      <td>18</td>\n",
       "      <td>0</td>\n",
       "      <td>2</td>\n",
       "      <td>0</td>\n",
       "      <td>0.0</td>\n",
       "      <td>Old</td>\n",
       "    </tr>\n",
       "    <tr>\n",
       "      <th>149533</th>\n",
       "      <td>0</td>\n",
       "      <td>0.329834</td>\n",
       "      <td>62</td>\n",
       "      <td>0</td>\n",
       "      <td>6578.0</td>\n",
       "      <td>NaN</td>\n",
       "      <td>16</td>\n",
       "      <td>0</td>\n",
       "      <td>3</td>\n",
       "      <td>0</td>\n",
       "      <td>0.0</td>\n",
       "      <td>Old</td>\n",
       "    </tr>\n",
       "    <tr>\n",
       "      <th>149848</th>\n",
       "      <td>0</td>\n",
       "      <td>0.491943</td>\n",
       "      <td>48</td>\n",
       "      <td>0</td>\n",
       "      <td>15968.0</td>\n",
       "      <td>NaN</td>\n",
       "      <td>16</td>\n",
       "      <td>0</td>\n",
       "      <td>5</td>\n",
       "      <td>0</td>\n",
       "      <td>0.0</td>\n",
       "      <td>Adult</td>\n",
       "    </tr>\n",
       "  </tbody>\n",
       "</table>\n",
       "<p>659 rows × 12 columns</p>\n",
       "</div>"
      ],
      "text/plain": [
       "        SeriousDlqin2yrs  RevolvingUtilizationOfUnsecuredLines  age  \\\n",
       "90                     0                              0.039398   51   \n",
       "351                    0                              0.000000   58   \n",
       "508                    0                              1.000000   73   \n",
       "535                    0                              0.749512   62   \n",
       "844                    0                              0.734375   45   \n",
       "...                  ...                                   ...  ...   \n",
       "148793                 1                              1.000000   45   \n",
       "148872                 0                              0.897461   47   \n",
       "149354                 0                              0.207642   64   \n",
       "149533                 0                              0.329834   62   \n",
       "149848                 0                              0.491943   48   \n",
       "\n",
       "        NumberOfTime30-59DaysPastDueNotWorse  DebtRatio  MonthlyIncome  \\\n",
       "90                                         0    15466.0            0.0   \n",
       "351                                        0     8380.0            NaN   \n",
       "508                                        0     8500.0            0.0   \n",
       "535                                        0     7963.0            NaN   \n",
       "844                                        0    11311.0            0.0   \n",
       "...                                      ...        ...            ...   \n",
       "148793                                     0     6514.0            NaN   \n",
       "148872                                     2    20351.0            NaN   \n",
       "149354                                     0     7335.0            NaN   \n",
       "149533                                     0     6578.0            NaN   \n",
       "149848                                     0    15968.0            NaN   \n",
       "\n",
       "        NumberOfOpenCreditLinesAndLoans  NumberOfTimes90DaysLate  \\\n",
       "90                                    7                        0   \n",
       "351                                  20                        0   \n",
       "508                                   2                        0   \n",
       "535                                   7                        0   \n",
       "844                                   6                        0   \n",
       "...                                 ...                      ...   \n",
       "148793                                7                        0   \n",
       "148872                                9                        0   \n",
       "149354                               18                        0   \n",
       "149533                               16                        0   \n",
       "149848                               16                        0   \n",
       "\n",
       "        NumberRealEstateLoansOrLines  NumberOfTime60-89DaysPastDueNotWorse  \\\n",
       "90                                 0                                     0   \n",
       "351                                5                                     0   \n",
       "508                                0                                     0   \n",
       "535                                2                                     0   \n",
       "844                                2                                     1   \n",
       "...                              ...                                   ...   \n",
       "148793                             3                                     0   \n",
       "148872                             5                                     0   \n",
       "149354                             2                                     0   \n",
       "149533                             3                                     0   \n",
       "149848                             5                                     0   \n",
       "\n",
       "        NumberOfDependents age_cat  \n",
       "90                     0.0   Adult  \n",
       "351                    0.0   Adult  \n",
       "508                    0.0     Old  \n",
       "535                    3.0     Old  \n",
       "844                    0.0   Adult  \n",
       "...                    ...     ...  \n",
       "148793                 0.0   Adult  \n",
       "148872                 2.0   Adult  \n",
       "149354                 0.0     Old  \n",
       "149533                 0.0     Old  \n",
       "149848                 0.0   Adult  \n",
       "\n",
       "[659 rows x 12 columns]"
      ]
     },
     "execution_count": 110,
     "metadata": {},
     "output_type": "execute_result"
    }
   ],
   "source": [
    "train_data[(train_data.index.isin(res))]"
   ]
  },
  {
   "cell_type": "markdown",
   "id": "eedfbfda",
   "metadata": {},
   "source": [
    "> - Out of 659 outliers 616 records are having `MonthlyIncome` as Null.\n",
    "> - For these records Dividing DebtRatio by `MonthlyIncome` might adjust the outliers"
   ]
  },
  {
   "cell_type": "code",
   "execution_count": 111,
   "id": "b4474977",
   "metadata": {},
   "outputs": [],
   "source": [
    "transformed_data['DebtRatio_transformed'] = transformed_data['DebtRatio']\n",
    "test_data['DebtRatio_transformed'] = test_data['DebtRatio']"
   ]
  },
  {
   "cell_type": "code",
   "execution_count": 112,
   "id": "e2fea6d9",
   "metadata": {},
   "outputs": [
    {
     "data": {
      "text/plain": [
       "90        15466.0\n",
       "351        8380.0\n",
       "508        8500.0\n",
       "535        7963.0\n",
       "844       11311.0\n",
       "           ...   \n",
       "148793     6514.0\n",
       "148872    20351.0\n",
       "149354     7335.0\n",
       "149533     6578.0\n",
       "149848    15968.0\n",
       "Name: DebtRatio_transformed, Length: 659, dtype: float32"
      ]
     },
     "execution_count": 112,
     "metadata": {},
     "output_type": "execute_result"
    }
   ],
   "source": [
    "transformed_data.loc[(transformed_data.index.isin(res)),'DebtRatio_transformed']"
   ]
  },
  {
   "cell_type": "code",
   "execution_count": 113,
   "id": "9fc7394e",
   "metadata": {},
   "outputs": [],
   "source": [
    "def debt(df):\n",
    "    a = df.loc[(df.index.isin(res)),'DebtRatio_transformed']\n",
    "    b = np.exp(df.loc[(df.index.isin(res)),'MonthlyIncome_lg'])-1\n",
    "    \n",
    "    for i,j in zip(df.loc[df.index.isin(res),'DebtRatio_transformed'].index,df.loc[df.index.isin(res),'DebtRatio_transformed'].values):\n",
    "        if b[i]>1:\n",
    "            df.loc[i,'DebtRatio_transformed'] = j/b[i]\n",
    "    return df"
   ]
  },
  {
   "cell_type": "code",
   "execution_count": 114,
   "id": "3696cddb",
   "metadata": {},
   "outputs": [
    {
     "data": {
      "text/html": [
       "<div>\n",
       "<style scoped>\n",
       "    .dataframe tbody tr th:only-of-type {\n",
       "        vertical-align: middle;\n",
       "    }\n",
       "\n",
       "    .dataframe tbody tr th {\n",
       "        vertical-align: top;\n",
       "    }\n",
       "\n",
       "    .dataframe thead th {\n",
       "        text-align: right;\n",
       "    }\n",
       "</style>\n",
       "<table border=\"1\" class=\"dataframe\">\n",
       "  <thead>\n",
       "    <tr style=\"text-align: right;\">\n",
       "      <th></th>\n",
       "      <th>SeriousDlqin2yrs</th>\n",
       "      <th>RevolvingUtilizationOfUnsecuredLines</th>\n",
       "      <th>age</th>\n",
       "      <th>NumberOfTime30-59DaysPastDueNotWorse</th>\n",
       "      <th>DebtRatio</th>\n",
       "      <th>MonthlyIncome</th>\n",
       "      <th>NumberOfOpenCreditLinesAndLoans</th>\n",
       "      <th>NumberOfTimes90DaysLate</th>\n",
       "      <th>NumberRealEstateLoansOrLines</th>\n",
       "      <th>NumberOfTime60-89DaysPastDueNotWorse</th>\n",
       "      <th>NumberOfDependents</th>\n",
       "      <th>Weighted_Delay_sum</th>\n",
       "      <th>age_cat</th>\n",
       "      <th>MonthlyIncome_lg</th>\n",
       "      <th>DebtRatio_transformed</th>\n",
       "    </tr>\n",
       "  </thead>\n",
       "  <tbody>\n",
       "    <tr>\n",
       "      <th>0</th>\n",
       "      <td>NaN</td>\n",
       "      <td>0.885742</td>\n",
       "      <td>43</td>\n",
       "      <td>0</td>\n",
       "      <td>0.177513</td>\n",
       "      <td>5700.0</td>\n",
       "      <td>4</td>\n",
       "      <td>0</td>\n",
       "      <td>0</td>\n",
       "      <td>0</td>\n",
       "      <td>0.0</td>\n",
       "      <td>0.0</td>\n",
       "      <td>Adult</td>\n",
       "      <td>8.648396</td>\n",
       "      <td>0.177513</td>\n",
       "    </tr>\n",
       "    <tr>\n",
       "      <th>1</th>\n",
       "      <td>NaN</td>\n",
       "      <td>0.463379</td>\n",
       "      <td>57</td>\n",
       "      <td>0</td>\n",
       "      <td>0.527237</td>\n",
       "      <td>9141.0</td>\n",
       "      <td>15</td>\n",
       "      <td>0</td>\n",
       "      <td>4</td>\n",
       "      <td>0</td>\n",
       "      <td>2.0</td>\n",
       "      <td>0.0</td>\n",
       "      <td>Adult</td>\n",
       "      <td>9.120634</td>\n",
       "      <td>0.527237</td>\n",
       "    </tr>\n",
       "    <tr>\n",
       "      <th>2</th>\n",
       "      <td>NaN</td>\n",
       "      <td>0.043274</td>\n",
       "      <td>59</td>\n",
       "      <td>0</td>\n",
       "      <td>0.687648</td>\n",
       "      <td>5083.0</td>\n",
       "      <td>12</td>\n",
       "      <td>0</td>\n",
       "      <td>1</td>\n",
       "      <td>0</td>\n",
       "      <td>2.0</td>\n",
       "      <td>0.0</td>\n",
       "      <td>Adult</td>\n",
       "      <td>8.533854</td>\n",
       "      <td>0.687648</td>\n",
       "    </tr>\n",
       "    <tr>\n",
       "      <th>3</th>\n",
       "      <td>NaN</td>\n",
       "      <td>0.280273</td>\n",
       "      <td>38</td>\n",
       "      <td>1</td>\n",
       "      <td>0.925961</td>\n",
       "      <td>3200.0</td>\n",
       "      <td>7</td>\n",
       "      <td>0</td>\n",
       "      <td>2</td>\n",
       "      <td>0</td>\n",
       "      <td>0.0</td>\n",
       "      <td>0.2</td>\n",
       "      <td>Adult</td>\n",
       "      <td>8.071218</td>\n",
       "      <td>0.925961</td>\n",
       "    </tr>\n",
       "    <tr>\n",
       "      <th>4</th>\n",
       "      <td>NaN</td>\n",
       "      <td>1.000000</td>\n",
       "      <td>27</td>\n",
       "      <td>0</td>\n",
       "      <td>0.019917</td>\n",
       "      <td>3865.0</td>\n",
       "      <td>4</td>\n",
       "      <td>0</td>\n",
       "      <td>0</td>\n",
       "      <td>0</td>\n",
       "      <td>1.0</td>\n",
       "      <td>0.0</td>\n",
       "      <td>Young</td>\n",
       "      <td>8.259975</td>\n",
       "      <td>0.019917</td>\n",
       "    </tr>\n",
       "    <tr>\n",
       "      <th>...</th>\n",
       "      <td>...</td>\n",
       "      <td>...</td>\n",
       "      <td>...</td>\n",
       "      <td>...</td>\n",
       "      <td>...</td>\n",
       "      <td>...</td>\n",
       "      <td>...</td>\n",
       "      <td>...</td>\n",
       "      <td>...</td>\n",
       "      <td>...</td>\n",
       "      <td>...</td>\n",
       "      <td>...</td>\n",
       "      <td>...</td>\n",
       "      <td>...</td>\n",
       "      <td>...</td>\n",
       "    </tr>\n",
       "    <tr>\n",
       "      <th>101498</th>\n",
       "      <td>NaN</td>\n",
       "      <td>0.282715</td>\n",
       "      <td>24</td>\n",
       "      <td>0</td>\n",
       "      <td>0.068522</td>\n",
       "      <td>1400.0</td>\n",
       "      <td>5</td>\n",
       "      <td>0</td>\n",
       "      <td>0</td>\n",
       "      <td>0</td>\n",
       "      <td>0.0</td>\n",
       "      <td>0.0</td>\n",
       "      <td>Student</td>\n",
       "      <td>7.244942</td>\n",
       "      <td>0.068522</td>\n",
       "    </tr>\n",
       "    <tr>\n",
       "      <th>101499</th>\n",
       "      <td>NaN</td>\n",
       "      <td>0.922363</td>\n",
       "      <td>36</td>\n",
       "      <td>3</td>\n",
       "      <td>0.934217</td>\n",
       "      <td>7615.0</td>\n",
       "      <td>8</td>\n",
       "      <td>0</td>\n",
       "      <td>2</td>\n",
       "      <td>0</td>\n",
       "      <td>4.0</td>\n",
       "      <td>0.6</td>\n",
       "      <td>Adult</td>\n",
       "      <td>8.938006</td>\n",
       "      <td>0.934217</td>\n",
       "    </tr>\n",
       "    <tr>\n",
       "      <th>101500</th>\n",
       "      <td>NaN</td>\n",
       "      <td>0.081604</td>\n",
       "      <td>70</td>\n",
       "      <td>0</td>\n",
       "      <td>836.000000</td>\n",
       "      <td>NaN</td>\n",
       "      <td>3</td>\n",
       "      <td>0</td>\n",
       "      <td>0</td>\n",
       "      <td>0</td>\n",
       "      <td>NaN</td>\n",
       "      <td>0.0</td>\n",
       "      <td>Old</td>\n",
       "      <td>8.576593</td>\n",
       "      <td>836.000000</td>\n",
       "    </tr>\n",
       "    <tr>\n",
       "      <th>101501</th>\n",
       "      <td>NaN</td>\n",
       "      <td>0.335449</td>\n",
       "      <td>56</td>\n",
       "      <td>0</td>\n",
       "      <td>3568.000000</td>\n",
       "      <td>NaN</td>\n",
       "      <td>8</td>\n",
       "      <td>0</td>\n",
       "      <td>2</td>\n",
       "      <td>1</td>\n",
       "      <td>3.0</td>\n",
       "      <td>0.3</td>\n",
       "      <td>Adult</td>\n",
       "      <td>8.699681</td>\n",
       "      <td>3568.000000</td>\n",
       "    </tr>\n",
       "    <tr>\n",
       "      <th>101502</th>\n",
       "      <td>NaN</td>\n",
       "      <td>0.441895</td>\n",
       "      <td>29</td>\n",
       "      <td>0</td>\n",
       "      <td>0.198918</td>\n",
       "      <td>5916.0</td>\n",
       "      <td>12</td>\n",
       "      <td>0</td>\n",
       "      <td>0</td>\n",
       "      <td>0</td>\n",
       "      <td>0.0</td>\n",
       "      <td>0.0</td>\n",
       "      <td>Young</td>\n",
       "      <td>8.685585</td>\n",
       "      <td>0.198918</td>\n",
       "    </tr>\n",
       "  </tbody>\n",
       "</table>\n",
       "<p>101503 rows × 15 columns</p>\n",
       "</div>"
      ],
      "text/plain": [
       "        SeriousDlqin2yrs  RevolvingUtilizationOfUnsecuredLines  age  \\\n",
       "0                    NaN                              0.885742   43   \n",
       "1                    NaN                              0.463379   57   \n",
       "2                    NaN                              0.043274   59   \n",
       "3                    NaN                              0.280273   38   \n",
       "4                    NaN                              1.000000   27   \n",
       "...                  ...                                   ...  ...   \n",
       "101498               NaN                              0.282715   24   \n",
       "101499               NaN                              0.922363   36   \n",
       "101500               NaN                              0.081604   70   \n",
       "101501               NaN                              0.335449   56   \n",
       "101502               NaN                              0.441895   29   \n",
       "\n",
       "        NumberOfTime30-59DaysPastDueNotWorse    DebtRatio  MonthlyIncome  \\\n",
       "0                                          0     0.177513         5700.0   \n",
       "1                                          0     0.527237         9141.0   \n",
       "2                                          0     0.687648         5083.0   \n",
       "3                                          1     0.925961         3200.0   \n",
       "4                                          0     0.019917         3865.0   \n",
       "...                                      ...          ...            ...   \n",
       "101498                                     0     0.068522         1400.0   \n",
       "101499                                     3     0.934217         7615.0   \n",
       "101500                                     0   836.000000            NaN   \n",
       "101501                                     0  3568.000000            NaN   \n",
       "101502                                     0     0.198918         5916.0   \n",
       "\n",
       "        NumberOfOpenCreditLinesAndLoans  NumberOfTimes90DaysLate  \\\n",
       "0                                     4                        0   \n",
       "1                                    15                        0   \n",
       "2                                    12                        0   \n",
       "3                                     7                        0   \n",
       "4                                     4                        0   \n",
       "...                                 ...                      ...   \n",
       "101498                                5                        0   \n",
       "101499                                8                        0   \n",
       "101500                                3                        0   \n",
       "101501                                8                        0   \n",
       "101502                               12                        0   \n",
       "\n",
       "        NumberRealEstateLoansOrLines  NumberOfTime60-89DaysPastDueNotWorse  \\\n",
       "0                                  0                                     0   \n",
       "1                                  4                                     0   \n",
       "2                                  1                                     0   \n",
       "3                                  2                                     0   \n",
       "4                                  0                                     0   \n",
       "...                              ...                                   ...   \n",
       "101498                             0                                     0   \n",
       "101499                             2                                     0   \n",
       "101500                             0                                     0   \n",
       "101501                             2                                     1   \n",
       "101502                             0                                     0   \n",
       "\n",
       "        NumberOfDependents  Weighted_Delay_sum  age_cat  MonthlyIncome_lg  \\\n",
       "0                      0.0                 0.0    Adult          8.648396   \n",
       "1                      2.0                 0.0    Adult          9.120634   \n",
       "2                      2.0                 0.0    Adult          8.533854   \n",
       "3                      0.0                 0.2    Adult          8.071218   \n",
       "4                      1.0                 0.0    Young          8.259975   \n",
       "...                    ...                 ...      ...               ...   \n",
       "101498                 0.0                 0.0  Student          7.244942   \n",
       "101499                 4.0                 0.6    Adult          8.938006   \n",
       "101500                 NaN                 0.0      Old          8.576593   \n",
       "101501                 3.0                 0.3    Adult          8.699681   \n",
       "101502                 0.0                 0.0    Young          8.685585   \n",
       "\n",
       "        DebtRatio_transformed  \n",
       "0                    0.177513  \n",
       "1                    0.527237  \n",
       "2                    0.687648  \n",
       "3                    0.925961  \n",
       "4                    0.019917  \n",
       "...                       ...  \n",
       "101498               0.068522  \n",
       "101499               0.934217  \n",
       "101500             836.000000  \n",
       "101501            3568.000000  \n",
       "101502               0.198918  \n",
       "\n",
       "[101503 rows x 15 columns]"
      ]
     },
     "execution_count": 114,
     "metadata": {},
     "output_type": "execute_result"
    }
   ],
   "source": [
    "debt(test_data)"
   ]
  },
  {
   "cell_type": "code",
   "execution_count": 115,
   "id": "7599302f",
   "metadata": {},
   "outputs": [
    {
     "data": {
      "text/plain": [
       "90        15466.0\n",
       "351        8380.0\n",
       "508        8500.0\n",
       "535        7963.0\n",
       "844       11311.0\n",
       "           ...   \n",
       "148793     6514.0\n",
       "148872    20351.0\n",
       "149354     7335.0\n",
       "149533     6578.0\n",
       "149848    15968.0\n",
       "Name: DebtRatio_transformed, Length: 659, dtype: float32"
      ]
     },
     "execution_count": 115,
     "metadata": {},
     "output_type": "execute_result"
    }
   ],
   "source": [
    "transformed_data.loc[(transformed_data.index.isin(res)),'DebtRatio_transformed']"
   ]
  },
  {
   "cell_type": "code",
   "execution_count": 105,
   "id": "832dc255",
   "metadata": {},
   "outputs": [
    {
     "name": "stdout",
     "output_type": "stream",
     "text": [
      "Number of outliers :  659\n"
     ]
    }
   ],
   "source": [
    "res = mark_outliers_zscore(transformed_data['DebtRatio_transformed'])"
   ]
  },
  {
   "cell_type": "code",
   "execution_count": 106,
   "id": "d52321a3",
   "metadata": {
    "scrolled": true
   },
   "outputs": [
    {
     "name": "stdout",
     "output_type": "stream",
     "text": [
      "Number of outliers :  872\n"
     ]
    }
   ],
   "source": [
    "res = mark_outliers_zscore(test_data['DebtRatio_transformed'])"
   ]
  },
  {
   "cell_type": "markdown",
   "id": "1d821c75",
   "metadata": {},
   "source": [
    "### skewness\n",
    "·> skewness is between `-0.5 and 0.5`, the data are fairly `symmetrical`\n",
    "\n",
    "·> skewness is between `-1 and — 0.5` or between `0.5 and 1`, the data are `moderately skewed`\n",
    "\n",
    "·> skewness is less than `-1 or greater than 1`, the data are `highly skewed` \n",
    "\n",
    "### Kurtosis - determine the volume of the outlier\n",
    "·> `Kurtosis > 3` --> `leptokurtic` --> `distribution is tall and thin`\n",
    "\n",
    "·> `Kurtosis < 3` --> `platykurtic` --> `moderately spread out`\n",
    "\n",
    "·> `Kurtosis = 3`--> `mesokurtic`(looks more close to a normal distribution) ==> between `leptokurtic` and `platykurtic`"
   ]
  },
  {
   "cell_type": "code",
   "execution_count": 118,
   "id": "6260b4e8",
   "metadata": {},
   "outputs": [
    {
     "data": {
      "text/plain": [
       "0.0     86902\n",
       "1.0     26316\n",
       "2.0     19521\n",
       "3.0      9483\n",
       "4.0      2862\n",
       "5.0       746\n",
       "6.0       158\n",
       "7.0        51\n",
       "8.0        24\n",
       "10.0        5\n",
       "9.0         5\n",
       "20.0        1\n",
       "13.0        1\n",
       "Name: NumberOfDependents, dtype: int64"
      ]
     },
     "execution_count": 118,
     "metadata": {},
     "output_type": "execute_result"
    }
   ],
   "source": [
    "train_data.NumberOfDependents.value_counts()"
   ]
  },
  {
   "cell_type": "code",
   "execution_count": 119,
   "id": "48d8f73c",
   "metadata": {},
   "outputs": [],
   "source": [
    "transformed_data['NumberOfDependentsTR'] = transformed_data['NumberOfDependents']\n",
    "test_data['NumberOfDependentsTR'] = test_data['NumberOfDependents']\n",
    "transformed_data.loc[transformed_data.NumberOfDependentsTR>=7,'NumberOfDependentsTR'] = 7\n",
    "test_data.loc[test_data.NumberOfDependentsTR>=7,'NumberOfDependentsTR'] = 7"
   ]
  },
  {
   "cell_type": "code",
   "execution_count": 120,
   "id": "18ae302a",
   "metadata": {},
   "outputs": [
    {
     "data": {
      "text/plain": [
       "0.0    86902\n",
       "1.0    26316\n",
       "2.0    19521\n",
       "3.0     9483\n",
       "4.0     2862\n",
       "5.0      746\n",
       "6.0      158\n",
       "7.0       87\n",
       "Name: NumberOfDependentsTR, dtype: int64"
      ]
     },
     "execution_count": 120,
     "metadata": {},
     "output_type": "execute_result"
    }
   ],
   "source": [
    "transformed_data.NumberOfDependentsTR.value_counts()"
   ]
  },
  {
   "cell_type": "code",
   "execution_count": 121,
   "id": "09bb01cf",
   "metadata": {},
   "outputs": [
    {
     "data": {
      "text/plain": [
       "0     56188\n",
       "1     52338\n",
       "2     31521\n",
       "3      6300\n",
       "4      2170\n",
       "5       689\n",
       "6       320\n",
       "7       171\n",
       "8        93\n",
       "9        78\n",
       "10       37\n",
       "11       23\n",
       "12       18\n",
       "13       15\n",
       "15        7\n",
       "14        7\n",
       "17        4\n",
       "16        4\n",
       "25        3\n",
       "18        2\n",
       "23        2\n",
       "19        2\n",
       "20        2\n",
       "26        1\n",
       "54        1\n",
       "21        1\n",
       "29        1\n",
       "32        1\n",
       "Name: NumberRealEstateLoansOrLines, dtype: int64"
      ]
     },
     "execution_count": 121,
     "metadata": {},
     "output_type": "execute_result"
    }
   ],
   "source": [
    "train_data.NumberRealEstateLoansOrLines.value_counts()"
   ]
  },
  {
   "cell_type": "code",
   "execution_count": 122,
   "id": "798babd5",
   "metadata": {},
   "outputs": [],
   "source": [
    "transformed_data['NumberRealEstateLoansOrLinesTR'] = transformed_data['NumberRealEstateLoansOrLines']\n",
    "test_data['NumberRealEstateLoansOrLinesTR'] = test_data['NumberRealEstateLoansOrLines']\n",
    "\n",
    "transformed_data.loc[transformed_data.NumberRealEstateLoansOrLinesTR>=11,'NumberRealEstateLoansOrLinesTR'] = 11\n",
    "test_data.loc[test_data.NumberRealEstateLoansOrLinesTR>=11,'NumberRealEstateLoansOrLinesTR'] = 11"
   ]
  },
  {
   "cell_type": "code",
   "execution_count": 123,
   "id": "ef6fcd21",
   "metadata": {},
   "outputs": [
    {
     "data": {
      "text/plain": [
       "6     13613\n",
       "7     13245\n",
       "5     12931\n",
       "8     12562\n",
       "4     11609\n",
       "9     11355\n",
       "10     9624\n",
       "3      9058\n",
       "11     8321\n",
       "12     7005\n",
       "2      6666\n",
       "13     5667\n",
       "14     4546\n",
       "1      4438\n",
       "15     3645\n",
       "16     3000\n",
       "17     2370\n",
       "0      1888\n",
       "18     1874\n",
       "19     1433\n",
       "20     1169\n",
       "21      864\n",
       "22      685\n",
       "23      533\n",
       "24      422\n",
       "25      337\n",
       "26      239\n",
       "27      194\n",
       "28      150\n",
       "29      114\n",
       "30       88\n",
       "31       74\n",
       "32       52\n",
       "33       47\n",
       "34       35\n",
       "35       27\n",
       "36       18\n",
       "38       13\n",
       "40       10\n",
       "39        9\n",
       "42        8\n",
       "45        8\n",
       "43        8\n",
       "37        7\n",
       "48        6\n",
       "49        4\n",
       "54        4\n",
       "41        4\n",
       "52        3\n",
       "46        3\n",
       "57        2\n",
       "51        2\n",
       "56        2\n",
       "47        2\n",
       "50        2\n",
       "44        2\n",
       "58        1\n",
       "53        1\n",
       "Name: NumberOfOpenCreditLinesAndLoans, dtype: int64"
      ]
     },
     "execution_count": 123,
     "metadata": {},
     "output_type": "execute_result"
    }
   ],
   "source": [
    "train_data.NumberOfOpenCreditLinesAndLoans.value_counts()"
   ]
  },
  {
   "cell_type": "code",
   "execution_count": 124,
   "id": "61e12d23",
   "metadata": {},
   "outputs": [],
   "source": [
    "transformed_data['NumberOfOpenCreditLinesAndLoansTR'] = transformed_data['NumberOfOpenCreditLinesAndLoans']\n",
    "test_data['NumberOfOpenCreditLinesAndLoansTR'] = test_data['NumberOfOpenCreditLinesAndLoans']\n",
    "\n",
    "transformed_data.loc[transformed_data.NumberOfOpenCreditLinesAndLoansTR>=25,'NumberOfOpenCreditLinesAndLoansTR'] = 25\n",
    "test_data.loc[test_data.NumberOfOpenCreditLinesAndLoansTR>=25,'NumberOfOpenCreditLinesAndLoansTR'] = 25"
   ]
  },
  {
   "cell_type": "code",
   "execution_count": 125,
   "id": "20810300",
   "metadata": {
    "scrolled": false
   },
   "outputs": [
    {
     "data": {
      "text/plain": [
       "SeriousDlqin2yrs                            0\n",
       "RevolvingUtilizationOfUnsecuredLines        0\n",
       "age                                         0\n",
       "NumberOfTime30-59DaysPastDueNotWorse        0\n",
       "DebtRatio                                   0\n",
       "MonthlyIncome                           29731\n",
       "NumberOfOpenCreditLinesAndLoans             0\n",
       "NumberOfTimes90DaysLate                     0\n",
       "NumberRealEstateLoansOrLines                0\n",
       "NumberOfTime60-89DaysPastDueNotWorse        0\n",
       "NumberOfDependents                       3924\n",
       "Weighted_Delay_sum                          0\n",
       "age_cat                                     0\n",
       "MonthlyIncome_lg                            0\n",
       "DebtRatio_transformed                       0\n",
       "NumberOfDependentsTR                     3924\n",
       "NumberRealEstateLoansOrLinesTR              0\n",
       "NumberOfOpenCreditLinesAndLoansTR           0\n",
       "dtype: int64"
      ]
     },
     "execution_count": 125,
     "metadata": {},
     "output_type": "execute_result"
    }
   ],
   "source": [
    "transformed_data.isna().sum()"
   ]
  },
  {
   "cell_type": "code",
   "execution_count": 126,
   "id": "bafae6a7",
   "metadata": {},
   "outputs": [],
   "source": [
    "transformed_data.loc[transformed_data.NumberOfDependents.isna(),'NumberOfDependents'] = 0\n",
    "test_data.loc[test_data.NumberOfDependents.isna(),'NumberOfDependents'] = 0\n",
    "\n",
    "transformed_data.loc[transformed_data.NumberOfDependentsTR.isna(),'NumberOfDependentsTR'] = 0\n",
    "test_data.loc[test_data.NumberOfDependentsTR.isna(),'NumberOfDependentsTR'] = 0"
   ]
  },
  {
   "cell_type": "markdown",
   "id": "f569ef68",
   "metadata": {},
   "source": [
    "# Modelling"
   ]
  },
  {
   "cell_type": "code",
   "execution_count": 151,
   "id": "a32f21c1",
   "metadata": {},
   "outputs": [],
   "source": [
    "from sklearn.model_selection import train_test_split\n",
    "from sklearn.linear_model import LogisticRegression\n",
    "from sklearn.tree import DecisionTreeClassifier, ExtraTreeClassifier\n",
    "from sklearn.ensemble import RandomForestClassifier\n",
    "from sklearn.preprocessing import StandardScaler\n",
    "from lightgbm import LGBMClassifier\n",
    "\n",
    "from sklearn.metrics import accuracy_score, recall_score, precision_score, f1_score, confusion_matrix,log_loss"
   ]
  },
  {
   "cell_type": "code",
   "execution_count": 128,
   "id": "617000fe",
   "metadata": {},
   "outputs": [],
   "source": [
    "def data_build(df):\n",
    "    X = df.drop('SeriousDlqin2yrs',axis=1)\n",
    "    y = df.SeriousDlqin2yrs\n",
    "    sc = StandardScaler()\n",
    "    X_train, X_test, y_train, y_test = train_test_split(X,y,test_size=0.3,random_state=0)\n",
    "    X_train = sc.fit_transform(X_train)\n",
    "    X_test = sc.transform(X_test)    \n",
    "\n",
    "    return X, y, X_train, y_train, X_test, y_test"
   ]
  },
  {
   "cell_type": "code",
   "execution_count": 129,
   "id": "5d150311",
   "metadata": {},
   "outputs": [],
   "source": [
    "def modelling(model, X_train, y_train, X_test, y_test,env = True):\n",
    "    if env:\n",
    "        print('I am here')\n",
    "        model_ = model.fit(X_train, y_train)\n",
    "        predictions = model_.predict(X_test)\n",
    "        \n",
    "\n",
    "        print(\"=\"*100)\n",
    "        print('log loss, ', log_loss(y_test,predictions))\n",
    "        print('Accuracy Score, ', accuracy_score(y_test,predictions))\n",
    "        print('Recall Score, ', recall_score(y_test,predictions))\n",
    "        print('Precision Score, ', precision_score(y_test,predictions))\n",
    "        print(\"=\"*100)\n",
    "        print('Confusion Matrix, \\n', confusion_matrix(y_test,predictions))\n",
    "    else:\n",
    "        print('I am here_1')\n",
    "        sc = StandardScaler()\n",
    "        X_train = sc.fit_transform(X_train)\n",
    "        X_test = sc.transform(X_test)\n",
    "        model_ = model.fit(X_train, y_train)\n",
    "        predictions = model.predict_proba(X_test)\n",
    "    return predictions"
   ]
  },
  {
   "cell_type": "code",
   "execution_count": 130,
   "id": "084c61ba",
   "metadata": {},
   "outputs": [],
   "source": [
    "age_map = {'Child':0,'Student':1, 'Young':2, 'Adult':3, 'Old':4}\n",
    "transformed_data.age_cat = transformed_data.age_cat.map(age_map)"
   ]
  },
  {
   "cell_type": "code",
   "execution_count": 131,
   "id": "ebdb3df5",
   "metadata": {},
   "outputs": [],
   "source": [
    "test_data.age_cat = test_data.age_cat.map(age_map)"
   ]
  },
  {
   "cell_type": "code",
   "execution_count": 132,
   "id": "bb3dde0a",
   "metadata": {},
   "outputs": [],
   "source": [
    "transformed_data['MonthlyIncome_nolg_'] = np.exp(transformed_data['MonthlyIncome_lg'])-1\n",
    "test_data['MonthlyIncome_nolg_'] = np.exp(test_data['MonthlyIncome_lg'])-1"
   ]
  },
  {
   "cell_type": "code",
   "execution_count": 133,
   "id": "724ed8f5",
   "metadata": {},
   "outputs": [],
   "source": [
    "transformed_feature = ['SeriousDlqin2yrs',\n",
    "                       'RevolvingUtilizationOfUnsecuredLines',\n",
    "                       'Weighted_Delay_sum', \n",
    "                       'age',\n",
    "                       'MonthlyIncome_nolg_', \n",
    "                       'DebtRatio', \n",
    "                       'NumberOfDependentsTR',\n",
    "                       'NumberRealEstateLoansOrLinesTR', \n",
    "                       'NumberOfOpenCreditLinesAndLoansTR']"
   ]
  },
  {
   "cell_type": "code",
   "execution_count": 134,
   "id": "0f6d7932",
   "metadata": {},
   "outputs": [
    {
     "data": {
      "text/html": [
       "<div>\n",
       "<style scoped>\n",
       "    .dataframe tbody tr th:only-of-type {\n",
       "        vertical-align: middle;\n",
       "    }\n",
       "\n",
       "    .dataframe tbody tr th {\n",
       "        vertical-align: top;\n",
       "    }\n",
       "\n",
       "    .dataframe thead th {\n",
       "        text-align: right;\n",
       "    }\n",
       "</style>\n",
       "<table border=\"1\" class=\"dataframe\">\n",
       "  <thead>\n",
       "    <tr style=\"text-align: right;\">\n",
       "      <th></th>\n",
       "      <th>SeriousDlqin2yrs</th>\n",
       "      <th>RevolvingUtilizationOfUnsecuredLines</th>\n",
       "      <th>Weighted_Delay_sum</th>\n",
       "      <th>age</th>\n",
       "      <th>MonthlyIncome_nolg_</th>\n",
       "      <th>DebtRatio</th>\n",
       "      <th>NumberOfDependentsTR</th>\n",
       "      <th>NumberRealEstateLoansOrLinesTR</th>\n",
       "      <th>NumberOfOpenCreditLinesAndLoansTR</th>\n",
       "    </tr>\n",
       "  </thead>\n",
       "  <tbody>\n",
       "    <tr>\n",
       "      <th>0</th>\n",
       "      <td>1</td>\n",
       "      <td>0.766113</td>\n",
       "      <td>0.4</td>\n",
       "      <td>45</td>\n",
       "      <td>9120.000977</td>\n",
       "      <td>0.802982</td>\n",
       "      <td>2.0</td>\n",
       "      <td>6</td>\n",
       "      <td>13</td>\n",
       "    </tr>\n",
       "    <tr>\n",
       "      <th>1</th>\n",
       "      <td>0</td>\n",
       "      <td>0.957031</td>\n",
       "      <td>0.0</td>\n",
       "      <td>40</td>\n",
       "      <td>2600.000000</td>\n",
       "      <td>0.121876</td>\n",
       "      <td>1.0</td>\n",
       "      <td>0</td>\n",
       "      <td>4</td>\n",
       "    </tr>\n",
       "    <tr>\n",
       "      <th>2</th>\n",
       "      <td>0</td>\n",
       "      <td>0.658203</td>\n",
       "      <td>0.7</td>\n",
       "      <td>38</td>\n",
       "      <td>3042.000732</td>\n",
       "      <td>0.085113</td>\n",
       "      <td>0.0</td>\n",
       "      <td>0</td>\n",
       "      <td>2</td>\n",
       "    </tr>\n",
       "    <tr>\n",
       "      <th>3</th>\n",
       "      <td>0</td>\n",
       "      <td>0.233765</td>\n",
       "      <td>0.0</td>\n",
       "      <td>30</td>\n",
       "      <td>3300.001221</td>\n",
       "      <td>0.036050</td>\n",
       "      <td>0.0</td>\n",
       "      <td>0</td>\n",
       "      <td>5</td>\n",
       "    </tr>\n",
       "    <tr>\n",
       "      <th>4</th>\n",
       "      <td>0</td>\n",
       "      <td>0.907227</td>\n",
       "      <td>0.2</td>\n",
       "      <td>49</td>\n",
       "      <td>63588.003906</td>\n",
       "      <td>0.024926</td>\n",
       "      <td>0.0</td>\n",
       "      <td>1</td>\n",
       "      <td>7</td>\n",
       "    </tr>\n",
       "    <tr>\n",
       "      <th>...</th>\n",
       "      <td>...</td>\n",
       "      <td>...</td>\n",
       "      <td>...</td>\n",
       "      <td>...</td>\n",
       "      <td>...</td>\n",
       "      <td>...</td>\n",
       "      <td>...</td>\n",
       "      <td>...</td>\n",
       "      <td>...</td>\n",
       "    </tr>\n",
       "    <tr>\n",
       "      <th>149995</th>\n",
       "      <td>0</td>\n",
       "      <td>0.040680</td>\n",
       "      <td>0.0</td>\n",
       "      <td>74</td>\n",
       "      <td>2100.000488</td>\n",
       "      <td>0.225131</td>\n",
       "      <td>0.0</td>\n",
       "      <td>1</td>\n",
       "      <td>4</td>\n",
       "    </tr>\n",
       "    <tr>\n",
       "      <th>149996</th>\n",
       "      <td>0</td>\n",
       "      <td>0.299805</td>\n",
       "      <td>0.0</td>\n",
       "      <td>44</td>\n",
       "      <td>5584.001953</td>\n",
       "      <td>0.716562</td>\n",
       "      <td>2.0</td>\n",
       "      <td>1</td>\n",
       "      <td>4</td>\n",
       "    </tr>\n",
       "    <tr>\n",
       "      <th>149997</th>\n",
       "      <td>0</td>\n",
       "      <td>0.246094</td>\n",
       "      <td>0.0</td>\n",
       "      <td>58</td>\n",
       "      <td>5999.999023</td>\n",
       "      <td>3870.000000</td>\n",
       "      <td>0.0</td>\n",
       "      <td>1</td>\n",
       "      <td>18</td>\n",
       "    </tr>\n",
       "    <tr>\n",
       "      <th>149998</th>\n",
       "      <td>0</td>\n",
       "      <td>0.000000</td>\n",
       "      <td>0.0</td>\n",
       "      <td>30</td>\n",
       "      <td>5715.999512</td>\n",
       "      <td>0.000000</td>\n",
       "      <td>0.0</td>\n",
       "      <td>0</td>\n",
       "      <td>4</td>\n",
       "    </tr>\n",
       "    <tr>\n",
       "      <th>149999</th>\n",
       "      <td>0</td>\n",
       "      <td>0.850098</td>\n",
       "      <td>0.0</td>\n",
       "      <td>64</td>\n",
       "      <td>8158.000977</td>\n",
       "      <td>0.249908</td>\n",
       "      <td>0.0</td>\n",
       "      <td>2</td>\n",
       "      <td>8</td>\n",
       "    </tr>\n",
       "  </tbody>\n",
       "</table>\n",
       "<p>149999 rows × 9 columns</p>\n",
       "</div>"
      ],
      "text/plain": [
       "        SeriousDlqin2yrs  RevolvingUtilizationOfUnsecuredLines  \\\n",
       "0                      1                              0.766113   \n",
       "1                      0                              0.957031   \n",
       "2                      0                              0.658203   \n",
       "3                      0                              0.233765   \n",
       "4                      0                              0.907227   \n",
       "...                  ...                                   ...   \n",
       "149995                 0                              0.040680   \n",
       "149996                 0                              0.299805   \n",
       "149997                 0                              0.246094   \n",
       "149998                 0                              0.000000   \n",
       "149999                 0                              0.850098   \n",
       "\n",
       "        Weighted_Delay_sum  age  MonthlyIncome_nolg_    DebtRatio  \\\n",
       "0                      0.4   45          9120.000977     0.802982   \n",
       "1                      0.0   40          2600.000000     0.121876   \n",
       "2                      0.7   38          3042.000732     0.085113   \n",
       "3                      0.0   30          3300.001221     0.036050   \n",
       "4                      0.2   49         63588.003906     0.024926   \n",
       "...                    ...  ...                  ...          ...   \n",
       "149995                 0.0   74          2100.000488     0.225131   \n",
       "149996                 0.0   44          5584.001953     0.716562   \n",
       "149997                 0.0   58          5999.999023  3870.000000   \n",
       "149998                 0.0   30          5715.999512     0.000000   \n",
       "149999                 0.0   64          8158.000977     0.249908   \n",
       "\n",
       "        NumberOfDependentsTR  NumberRealEstateLoansOrLinesTR  \\\n",
       "0                        2.0                               6   \n",
       "1                        1.0                               0   \n",
       "2                        0.0                               0   \n",
       "3                        0.0                               0   \n",
       "4                        0.0                               1   \n",
       "...                      ...                             ...   \n",
       "149995                   0.0                               1   \n",
       "149996                   2.0                               1   \n",
       "149997                   0.0                               1   \n",
       "149998                   0.0                               0   \n",
       "149999                   0.0                               2   \n",
       "\n",
       "        NumberOfOpenCreditLinesAndLoansTR  \n",
       "0                                      13  \n",
       "1                                       4  \n",
       "2                                       2  \n",
       "3                                       5  \n",
       "4                                       7  \n",
       "...                                   ...  \n",
       "149995                                  4  \n",
       "149996                                  4  \n",
       "149997                                 18  \n",
       "149998                                  4  \n",
       "149999                                  8  \n",
       "\n",
       "[149999 rows x 9 columns]"
      ]
     },
     "execution_count": 134,
     "metadata": {},
     "output_type": "execute_result"
    }
   ],
   "source": [
    "transformed_data[transformed_feature]"
   ]
  },
  {
   "cell_type": "code",
   "execution_count": 135,
   "id": "7673b780",
   "metadata": {},
   "outputs": [],
   "source": [
    "transformed_data_bkp = transformed_data.copy()\n",
    "test_data_bkp = test_data.copy()"
   ]
  },
  {
   "cell_type": "code",
   "execution_count": 136,
   "id": "87f0068f",
   "metadata": {},
   "outputs": [],
   "source": [
    "df = transformed_data[transformed_feature]"
   ]
  },
  {
   "cell_type": "code",
   "execution_count": 137,
   "id": "cdb60adc",
   "metadata": {},
   "outputs": [],
   "source": [
    "X, y, X_train, y_train, X_test, y_test = data_build(df)"
   ]
  },
  {
   "cell_type": "code",
   "execution_count": 138,
   "id": "d58fed6b",
   "metadata": {},
   "outputs": [
    {
     "name": "stdout",
     "output_type": "stream",
     "text": [
      "I am here\n",
      "====================================================================================================\n",
      "log loss,  2.228910490374361\n",
      "Accuracy Score,  0.9354666666666667\n",
      "Recall Score,  0.18050904219691896\n",
      "Precision Score,  0.5411646586345381\n",
      "====================================================================================================\n",
      "Confusion Matrix, \n",
      " [[41557   457]\n",
      " [ 2447   539]]\n"
     ]
    }
   ],
   "source": [
    "pred = modelling(RandomForestClassifier(random_state=0),X_train, y_train, X_test, y_test)"
   ]
  },
  {
   "cell_type": "code",
   "execution_count": 139,
   "id": "ac9bb275",
   "metadata": {},
   "outputs": [
    {
     "data": {
      "text/html": [
       "<div>\n",
       "<style scoped>\n",
       "    .dataframe tbody tr th:only-of-type {\n",
       "        vertical-align: middle;\n",
       "    }\n",
       "\n",
       "    .dataframe tbody tr th {\n",
       "        vertical-align: top;\n",
       "    }\n",
       "\n",
       "    .dataframe thead th {\n",
       "        text-align: right;\n",
       "    }\n",
       "</style>\n",
       "<table border=\"1\" class=\"dataframe\">\n",
       "  <thead>\n",
       "    <tr style=\"text-align: right;\">\n",
       "      <th></th>\n",
       "      <th>RevolvingUtilizationOfUnsecuredLines</th>\n",
       "      <th>Weighted_Delay_sum</th>\n",
       "      <th>age</th>\n",
       "      <th>MonthlyIncome_nolg_</th>\n",
       "      <th>DebtRatio</th>\n",
       "      <th>NumberOfDependentsTR</th>\n",
       "      <th>NumberRealEstateLoansOrLinesTR</th>\n",
       "      <th>NumberOfOpenCreditLinesAndLoansTR</th>\n",
       "    </tr>\n",
       "  </thead>\n",
       "  <tbody>\n",
       "    <tr>\n",
       "      <th>0</th>\n",
       "      <td>0.885742</td>\n",
       "      <td>0.0</td>\n",
       "      <td>43</td>\n",
       "      <td>5699.998047</td>\n",
       "      <td>0.177513</td>\n",
       "      <td>0.0</td>\n",
       "      <td>0</td>\n",
       "      <td>4</td>\n",
       "    </tr>\n",
       "    <tr>\n",
       "      <th>1</th>\n",
       "      <td>0.463379</td>\n",
       "      <td>0.0</td>\n",
       "      <td>57</td>\n",
       "      <td>9140.997070</td>\n",
       "      <td>0.527237</td>\n",
       "      <td>2.0</td>\n",
       "      <td>4</td>\n",
       "      <td>15</td>\n",
       "    </tr>\n",
       "    <tr>\n",
       "      <th>2</th>\n",
       "      <td>0.043274</td>\n",
       "      <td>0.0</td>\n",
       "      <td>59</td>\n",
       "      <td>5083.000000</td>\n",
       "      <td>0.687648</td>\n",
       "      <td>2.0</td>\n",
       "      <td>1</td>\n",
       "      <td>12</td>\n",
       "    </tr>\n",
       "    <tr>\n",
       "      <th>3</th>\n",
       "      <td>0.280273</td>\n",
       "      <td>0.2</td>\n",
       "      <td>38</td>\n",
       "      <td>3199.999756</td>\n",
       "      <td>0.925961</td>\n",
       "      <td>0.0</td>\n",
       "      <td>2</td>\n",
       "      <td>7</td>\n",
       "    </tr>\n",
       "    <tr>\n",
       "      <th>4</th>\n",
       "      <td>1.000000</td>\n",
       "      <td>0.0</td>\n",
       "      <td>27</td>\n",
       "      <td>3864.999023</td>\n",
       "      <td>0.019917</td>\n",
       "      <td>1.0</td>\n",
       "      <td>0</td>\n",
       "      <td>4</td>\n",
       "    </tr>\n",
       "    <tr>\n",
       "      <th>...</th>\n",
       "      <td>...</td>\n",
       "      <td>...</td>\n",
       "      <td>...</td>\n",
       "      <td>...</td>\n",
       "      <td>...</td>\n",
       "      <td>...</td>\n",
       "      <td>...</td>\n",
       "      <td>...</td>\n",
       "    </tr>\n",
       "    <tr>\n",
       "      <th>101498</th>\n",
       "      <td>0.282715</td>\n",
       "      <td>0.0</td>\n",
       "      <td>24</td>\n",
       "      <td>1400.000244</td>\n",
       "      <td>0.068522</td>\n",
       "      <td>0.0</td>\n",
       "      <td>0</td>\n",
       "      <td>5</td>\n",
       "    </tr>\n",
       "    <tr>\n",
       "      <th>101499</th>\n",
       "      <td>0.922363</td>\n",
       "      <td>0.6</td>\n",
       "      <td>36</td>\n",
       "      <td>7614.998535</td>\n",
       "      <td>0.934217</td>\n",
       "      <td>4.0</td>\n",
       "      <td>2</td>\n",
       "      <td>8</td>\n",
       "    </tr>\n",
       "    <tr>\n",
       "      <th>101500</th>\n",
       "      <td>0.081604</td>\n",
       "      <td>0.0</td>\n",
       "      <td>70</td>\n",
       "      <td>5304.999512</td>\n",
       "      <td>836.000000</td>\n",
       "      <td>0.0</td>\n",
       "      <td>0</td>\n",
       "      <td>3</td>\n",
       "    </tr>\n",
       "    <tr>\n",
       "      <th>101501</th>\n",
       "      <td>0.335449</td>\n",
       "      <td>0.3</td>\n",
       "      <td>56</td>\n",
       "      <td>5999.999023</td>\n",
       "      <td>3568.000000</td>\n",
       "      <td>3.0</td>\n",
       "      <td>2</td>\n",
       "      <td>8</td>\n",
       "    </tr>\n",
       "    <tr>\n",
       "      <th>101502</th>\n",
       "      <td>0.441895</td>\n",
       "      <td>0.0</td>\n",
       "      <td>29</td>\n",
       "      <td>5916.000488</td>\n",
       "      <td>0.198918</td>\n",
       "      <td>0.0</td>\n",
       "      <td>0</td>\n",
       "      <td>12</td>\n",
       "    </tr>\n",
       "  </tbody>\n",
       "</table>\n",
       "<p>101503 rows × 8 columns</p>\n",
       "</div>"
      ],
      "text/plain": [
       "        RevolvingUtilizationOfUnsecuredLines  Weighted_Delay_sum  age  \\\n",
       "0                                   0.885742                 0.0   43   \n",
       "1                                   0.463379                 0.0   57   \n",
       "2                                   0.043274                 0.0   59   \n",
       "3                                   0.280273                 0.2   38   \n",
       "4                                   1.000000                 0.0   27   \n",
       "...                                      ...                 ...  ...   \n",
       "101498                              0.282715                 0.0   24   \n",
       "101499                              0.922363                 0.6   36   \n",
       "101500                              0.081604                 0.0   70   \n",
       "101501                              0.335449                 0.3   56   \n",
       "101502                              0.441895                 0.0   29   \n",
       "\n",
       "        MonthlyIncome_nolg_    DebtRatio  NumberOfDependentsTR  \\\n",
       "0               5699.998047     0.177513                   0.0   \n",
       "1               9140.997070     0.527237                   2.0   \n",
       "2               5083.000000     0.687648                   2.0   \n",
       "3               3199.999756     0.925961                   0.0   \n",
       "4               3864.999023     0.019917                   1.0   \n",
       "...                     ...          ...                   ...   \n",
       "101498          1400.000244     0.068522                   0.0   \n",
       "101499          7614.998535     0.934217                   4.0   \n",
       "101500          5304.999512   836.000000                   0.0   \n",
       "101501          5999.999023  3568.000000                   3.0   \n",
       "101502          5916.000488     0.198918                   0.0   \n",
       "\n",
       "        NumberRealEstateLoansOrLinesTR  NumberOfOpenCreditLinesAndLoansTR  \n",
       "0                                    0                                  4  \n",
       "1                                    4                                 15  \n",
       "2                                    1                                 12  \n",
       "3                                    2                                  7  \n",
       "4                                    0                                  4  \n",
       "...                                ...                                ...  \n",
       "101498                               0                                  5  \n",
       "101499                               2                                  8  \n",
       "101500                               0                                  3  \n",
       "101501                               2                                  8  \n",
       "101502                               0                                 12  \n",
       "\n",
       "[101503 rows x 8 columns]"
      ]
     },
     "execution_count": 139,
     "metadata": {},
     "output_type": "execute_result"
    }
   ],
   "source": [
    "df_test = test_data[transformed_feature]\n",
    "df_test.drop('SeriousDlqin2yrs',axis=1)"
   ]
  },
  {
   "cell_type": "code",
   "execution_count": 181,
   "id": "cd12ec6f",
   "metadata": {},
   "outputs": [],
   "source": [
    "Xtest = df_test.drop('SeriousDlqin2yrs',axis=1)"
   ]
  },
  {
   "cell_type": "code",
   "execution_count": 141,
   "id": "b9038a28",
   "metadata": {
    "scrolled": true
   },
   "outputs": [
    {
     "name": "stdout",
     "output_type": "stream",
     "text": [
      "I am here_1\n"
     ]
    }
   ],
   "source": [
    "pred = modelling(RandomForestClassifier(random_state=0),X, y, Xtest, None, False)"
   ]
  },
  {
   "cell_type": "code",
   "execution_count": 137,
   "id": "7283ee59",
   "metadata": {},
   "outputs": [],
   "source": [
    "Xtest['Probability'] = pred[:,1]\n",
    "Xtest['Id'] = range(1,101504)"
   ]
  },
  {
   "cell_type": "code",
   "execution_count": null,
   "id": "c5fae07d",
   "metadata": {},
   "outputs": [],
   "source": [
    "Xtest[['Id','Probability']].to_csv('DataSet/submission_14.csv',index=False)"
   ]
  },
  {
   "cell_type": "markdown",
   "id": "8300f890",
   "metadata": {},
   "source": [
    "# Applying LGBM and improving model"
   ]
  },
  {
   "cell_type": "code",
   "execution_count": null,
   "id": "105a00f5",
   "metadata": {},
   "outputs": [],
   "source": [
    "LGBMClassifier()"
   ]
  },
  {
   "cell_type": "code",
   "execution_count": 150,
   "id": "637e1cd5",
   "metadata": {},
   "outputs": [],
   "source": [
    "from sklearn.model_selection import StratifiedKFold, RandomizedSearchCV"
   ]
  },
  {
   "cell_type": "code",
   "execution_count": 157,
   "id": "b404494e",
   "metadata": {},
   "outputs": [
    {
     "name": "stdout",
     "output_type": "stream",
     "text": [
      "Fitting 5 folds for each of 10 candidates, totalling 50 fits\n"
     ]
    },
    {
     "data": {
      "text/plain": [
       "RandomizedSearchCV(cv=5, estimator=LGBMClassifier(), n_jobs=-1,\n",
       "                   param_distributions={'bagging_fraction': (0.5, 0.8),\n",
       "                                        'bagging_frequency': (5, 8),\n",
       "                                        'feature_fraction': (0.5, 0.8),\n",
       "                                        'max_depth': (10, 13),\n",
       "                                        'min_data_in_leaf': (90, 120),\n",
       "                                        'n_estimators': (100, 500),\n",
       "                                        'num_leaves': (1200, 1550)},\n",
       "                   scoring='f1', verbose=1)"
      ]
     },
     "execution_count": 157,
     "metadata": {},
     "output_type": "execute_result"
    }
   ],
   "source": [
    "np.random.seed(0)\n",
    "\n",
    "rs_params = {\n",
    "        'n_estimators':(100,500),\n",
    "        'bagging_fraction': (0.5, 0.8),\n",
    "        'bagging_frequency': (5, 8),\n",
    "        'feature_fraction': (0.5, 0.8),\n",
    "        'max_depth': (10, 13),\n",
    "        'min_data_in_leaf': (90, 120),\n",
    "        'num_leaves': (1200, 1550)\n",
    "}\n",
    "\n",
    "# Initialize a RandomizedSearchCV object using 5-fold CV-\n",
    "rs_cv = RandomizedSearchCV(estimator=LGBMClassifier(), param_distributions=rs_params,\n",
    "                           n_iter=10, scoring='f1', cv=5,refit=True, n_jobs=-1,verbose=1)\n",
    "\n",
    "# Train on training data-\n",
    "rs_cv.fit(X, y,verbose=1)"
   ]
  },
  {
   "cell_type": "code",
   "execution_count": 158,
   "id": "a21ae58f",
   "metadata": {},
   "outputs": [
    {
     "data": {
      "text/plain": [
       "LGBMClassifier(bagging_fraction=0.8, bagging_frequency=5, feature_fraction=0.8,\n",
       "               max_depth=10, min_data_in_leaf=120, n_estimators=500,\n",
       "               num_leaves=1200)"
      ]
     },
     "execution_count": 158,
     "metadata": {},
     "output_type": "execute_result"
    }
   ],
   "source": [
    "rs_cv.best_estimator_"
   ]
  },
  {
   "cell_type": "code",
   "execution_count": 177,
   "id": "5dcd2c52",
   "metadata": {},
   "outputs": [],
   "source": [
    "final_model = LGBMClassifier()"
   ]
  },
  {
   "cell_type": "code",
   "execution_count": 178,
   "id": "342ebafb",
   "metadata": {},
   "outputs": [
    {
     "data": {
      "text/plain": [
       "LGBMClassifier()"
      ]
     },
     "execution_count": 178,
     "metadata": {},
     "output_type": "execute_result"
    }
   ],
   "source": [
    "final_model"
   ]
  },
  {
   "cell_type": "code",
   "execution_count": 179,
   "id": "dec8b350",
   "metadata": {},
   "outputs": [],
   "source": [
    "final_model = final_model.fit(X,y)"
   ]
  },
  {
   "cell_type": "code",
   "execution_count": 182,
   "id": "e4297c0e",
   "metadata": {},
   "outputs": [],
   "source": [
    "final_pred = final_model.predict_proba(Xtest)"
   ]
  },
  {
   "cell_type": "code",
   "execution_count": 183,
   "id": "5d4d676a",
   "metadata": {},
   "outputs": [],
   "source": [
    "Xtest['Probability'] = final_pred[:,1]\n",
    "Xtest['Id'] = range(1,101504)"
   ]
  },
  {
   "cell_type": "code",
   "execution_count": 184,
   "id": "e465e4d4",
   "metadata": {},
   "outputs": [],
   "source": [
    "Xtest[['Id','Probability']].to_csv('DataSet/Final_sub.csv',index=False)"
   ]
  }
 ],
 "metadata": {
  "kernelspec": {
   "display_name": "Python 3 (ipykernel)",
   "language": "python",
   "name": "python3"
  },
  "language_info": {
   "codemirror_mode": {
    "name": "ipython",
    "version": 3
   },
   "file_extension": ".py",
   "mimetype": "text/x-python",
   "name": "python",
   "nbconvert_exporter": "python",
   "pygments_lexer": "ipython3",
   "version": "3.9.12"
  }
 },
 "nbformat": 4,
 "nbformat_minor": 5
}
